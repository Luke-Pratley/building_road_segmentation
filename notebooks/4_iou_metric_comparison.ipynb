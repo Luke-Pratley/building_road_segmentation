{
 "cells": [
  {
   "cell_type": "markdown",
   "id": "d1bce70b-641d-4de1-91bf-27ee08d429af",
   "metadata": {},
   "source": [
    "# Name: Luke Pratley\n",
    "\n",
    "## Statistical analysis of IoU scores\n",
    "The metric used to compare the detection against the ground truth is the [Intersection over Union](https://en.wikipedia.org/wiki/Jaccard_index) or IoU. It is a measure of how much the detection and ground truth labels overlap. The IoU is calculated as $${\\rm IoU} = \\frac{|Y \\cap \\hat{Y}|}{|Y \\cup \\hat{Y}|}\\, $$ where $Y$ is the set of predicted classifications and $\\hat{Y}$ is the set of ground truth classifications, and $|\\cdot|$ is the cardinally of a set.\n",
    "\n",
    "A high IoU score suggests that the predicted and the ground truth extracted features overlap, while a low IoU score suggests they do not."
   ]
  },
  {
   "cell_type": "markdown",
   "id": "54896669-f925-4a8c-9b53-14bcfc6c1c8a",
   "metadata": {},
   "source": [
    "First we import some libraries that we will find useful:"
   ]
  },
  {
   "cell_type": "code",
   "execution_count": 1,
   "id": "6420880d-2ddb-49d9-9b51-5ef3f1e0418f",
   "metadata": {},
   "outputs": [],
   "source": [
    "import pandas as pd\n",
    "import seaborn as sns\n",
    "import matplotlib.pyplot as plt\n",
    "import numpy as np\n",
    "\n",
    "from scipy import stats\n",
    "\n",
    "import pickle\n",
    "import itertools"
   ]
  },
  {
   "cell_type": "markdown",
   "id": "fe9e0f25-2813-4dc8-b1ef-d626435d30d5",
   "metadata": {},
   "source": [
    "Here we are opening the measured IoU metrics that have been saved from the trained models:"
   ]
  },
  {
   "cell_type": "code",
   "execution_count": 2,
   "id": "0d7cae63-f2b9-466d-a2ae-fc2222bb0eb1",
   "metadata": {},
   "outputs": [],
   "source": [
    "with open('iou_metric_test_results.pkl', 'rb') as file:\n",
    "    model_metrics = pickle.load(file)\n",
    "  "
   ]
  },
  {
   "cell_type": "code",
   "execution_count": 3,
   "id": "41f59e80-42e3-4a4e-a71e-227d3726ca93",
   "metadata": {},
   "outputs": [],
   "source": [
    "models = list(model_metrics.keys())\n",
    "iou_info = list(model_metrics[models[0]].keys())\n",
    "areas_of_interest = list(model_metrics[models[0]][iou_info[0]].keys())"
   ]
  },
  {
   "cell_type": "markdown",
   "id": "6413f89b-85a4-4e79-9bc8-00db176a50df",
   "metadata": {},
   "source": [
    "The models are:"
   ]
  },
  {
   "cell_type": "code",
   "execution_count": 4,
   "id": "aa14e55d-ccc4-42ea-ad3b-bf78722fc0d4",
   "metadata": {},
   "outputs": [
    {
     "data": {
      "text/plain": [
       "['efficient_model_dice',\n",
       " 'efficient_model_entropy',\n",
       " 'model_dice',\n",
       " 'model_entropy',\n",
       " 'res_model_dice',\n",
       " 'res_model_entropy',\n",
       " 'attention_model_dice',\n",
       " 'attention_model_entropy']"
      ]
     },
     "execution_count": 4,
     "metadata": {},
     "output_type": "execute_result"
    }
   ],
   "source": [
    "models"
   ]
  },
  {
   "cell_type": "markdown",
   "id": "3ef80f15-3ffa-4a97-b5e7-897aa5febb82",
   "metadata": {},
   "source": [
    "Information relating to the IoU metrics that we have loaded. We have the file path for each road and building IoU metric and the corresponding index for that file."
   ]
  },
  {
   "cell_type": "code",
   "execution_count": 5,
   "id": "61378093-3ef1-4cc7-a6c5-681c04189a0e",
   "metadata": {},
   "outputs": [
    {
     "data": {
      "text/plain": [
       "['road_iou',\n",
       " 'building_iou',\n",
       " 'road_file',\n",
       " 'road_index',\n",
       " 'building_file',\n",
       " 'building_index']"
      ]
     },
     "execution_count": 5,
     "metadata": {},
     "output_type": "execute_result"
    }
   ],
   "source": [
    "iou_info"
   ]
  },
  {
   "cell_type": "markdown",
   "id": "57dc0aa0-ccfc-4b1a-b12e-529741693424",
   "metadata": {},
   "source": [
    "We have the area of interest for the particular IoU that was measured:"
   ]
  },
  {
   "cell_type": "code",
   "execution_count": 6,
   "id": "9a54db89-4cc5-43a3-9991-02706228e768",
   "metadata": {},
   "outputs": [
    {
     "data": {
      "text/plain": [
       "['AOI_2_Vegas', 'AOI_3_Paris', 'AOI_4_Shanghai', 'AOI_5_Khartoum']"
      ]
     },
     "execution_count": 6,
     "metadata": {},
     "output_type": "execute_result"
    }
   ],
   "source": [
    "areas_of_interest"
   ]
  },
  {
   "cell_type": "code",
   "execution_count": 7,
   "id": "ea9654a7-53d5-4cd3-9185-1ccebc168506",
   "metadata": {},
   "outputs": [],
   "source": [
    "def plot_metrics(model_metrics, model_name):\n",
    "    \"\"\"\n",
    "    A function that plots the IoU metrics \n",
    "    for each model and area of interest \n",
    "    for roads and buildings.\n",
    "    \n",
    "    Inputs:\n",
    "        model_metrics: the dictionary containing the saved IoU scores for each image.\n",
    "        model_name: the name of the model which is used as a dictionary key for model_metrics\n",
    "    \"\"\"\n",
    "    fig, ax = plt.subplots(1, 4, sharex=True, sharey=True, figsize=(10, 2))\n",
    "    plt.suptitle(f'Road Average IoU per Image ({model_name})', y=1.15)\n",
    "    ax = np.ravel(ax)\n",
    "    all_values = []\n",
    "    for k, key in enumerate(model_metrics[model_name]['road_iou'].keys()):\n",
    "        all_values = np.concatenate((all_values, model_metrics[model_name]['road_iou'][key]))\n",
    "        model_metrics[model_name]['road_iou'][key] = np.array(model_metrics[model_name]['road_iou'][key])   \n",
    "        ax[k].hist(model_metrics[model_name]['road_iou'][key], density=True, alpha=0.5, bins=np.arange(0, 1.05, 0.05), label=key, color=['green', 'red', 'navy', 'purple'][k])\n",
    "        ax[k].legend(bbox_to_anchor=(0.7, 1.25))\n",
    "        ax[k].set_xlabel('IoU')\n",
    "        ax[k].axvline(np.median(model_metrics[model_name]['road_iou'][key]))\n",
    "        ax[k].axvline(np.mean(model_metrics[model_name]['road_iou'][key]), c='yellow')\n",
    "    print(f'The median IoU for roads is {np.median(all_values): 0.4f}')\n",
    "    print(f'The mean IoU for roads is {np.mean(all_values): 0.4f}')\n",
    "    ax[0].set_ylabel('Density')\n",
    "    plt.show()\n",
    "    all_values = []\n",
    "    fig, ax = plt.subplots(1, 4, sharex=True, sharey=True, figsize=(10, 2))\n",
    "    fig.suptitle(f'Building Average IoU per Image ({model_name})', y=1.15)\n",
    "    ax = np.ravel(ax)\n",
    "    for k, key in enumerate(model_metrics[model_name]['building_iou'].keys()):\n",
    "        all_values = np.concatenate((all_values, model_metrics[model_name]['building_iou'][key]))\n",
    "        model_metrics[model_name]['building_iou'][key] = np.array(model_metrics[model_name]['building_iou'][key])\n",
    "        ax[k].hist(model_metrics[model_name]['building_iou'][key], density=True, alpha=0.5, bins=np.arange(0, 1.05, 0.05), label=key, color=['green', 'red', 'navy', 'purple'][k])\n",
    "        ax[k].legend(bbox_to_anchor=(0.7, 1.25))\n",
    "        ax[k].set_xlabel('IoU')\n",
    "        ax[k].axvline(np.median(model_metrics[model_name]['building_iou'][key]))\n",
    "        ax[k].axvline(np.mean(model_metrics[model_name]['building_iou'][key]), c='yellow')\n",
    "    print(f'The median IoU for buildings is {np.median(all_values): 0.4f}')\n",
    "    print(f'The mean IoU for buildings is {np.mean(all_values): 0.4f}')\n",
    "    ax[0].set_ylabel('Density')\n",
    "    plt.show()"
   ]
  },
  {
   "cell_type": "markdown",
   "id": "dda60ce3-5762-486e-9b65-6d8f520fcd64",
   "metadata": {},
   "source": [
    "Here we plot histograms of the results calculated above. The vertical blue and yellow line shows the location of the median and median IoU for each area of interest respectively."
   ]
  },
  {
   "cell_type": "code",
   "execution_count": 8,
   "id": "44c83086-5531-4573-93a2-3b426980d5cb",
   "metadata": {},
   "outputs": [
    {
     "name": "stdout",
     "output_type": "stream",
     "text": [
      "efficient_model_dice\n",
      "The median IoU for roads is  0.6574\n",
      "The mean IoU for roads is  0.6337\n"
     ]
    },
    {
     "data": {
      "image/png": "[encoded data removed]",
      "text/plain": [
       "<Figure size 720x144 with 4 Axes>"
      ]
     },
     "metadata": {
      "needs_background": "light"
     },
     "output_type": "display_data"
    },
    {
     "name": "stdout",
     "output_type": "stream",
     "text": [
      "The median IoU for buildings is  0.6892\n",
      "The mean IoU for buildings is  0.6497\n"
     ]
    },
    {
     "data": {
      "image/png": "[encoded data removed]",
      "text/plain": [
       "<Figure size 720x144 with 4 Axes>"
      ]
     },
     "metadata": {
      "needs_background": "light"
     },
     "output_type": "display_data"
    },
    {
     "name": "stdout",
     "output_type": "stream",
     "text": [
      "efficient_model_entropy\n",
      "The median IoU for roads is  0.6517\n",
      "The mean IoU for roads is  0.6252\n"
     ]
    },
    {
     "data": {
      "image/png": "[encoded data removed]",
      "text/plain": [
       "<Figure size 720x144 with 4 Axes>"
      ]
     },
     "metadata": {
      "needs_background": "light"
     },
     "output_type": "display_data"
    },
    {
     "name": "stdout",
     "output_type": "stream",
     "text": [
      "The median IoU for buildings is  0.6827\n",
      "The mean IoU for buildings is  0.6370\n"
     ]
    },
    {
     "data": {
      "image/png": "[encoded data removed]",
      "text/plain": [
       "<Figure size 720x144 with 4 Axes>"
      ]
     },
     "metadata": {
      "needs_background": "light"
     },
     "output_type": "display_data"
    },
    {
     "name": "stdout",
     "output_type": "stream",
     "text": [
      "model_dice\n",
      "The median IoU for roads is  0.6569\n",
      "The mean IoU for roads is  0.6332\n"
     ]
    },
    {
     "data": {
      "image/png": "[encoded data removed]",
      "text/plain": [
       "<Figure size 720x144 with 4 Axes>"
      ]
     },
     "metadata": {
      "needs_background": "light"
     },
     "output_type": "display_data"
    },
    {
     "name": "stdout",
     "output_type": "stream",
     "text": [
      "The median IoU for buildings is  0.6917\n",
      "The mean IoU for buildings is  0.6495\n"
     ]
    },
    {
     "data": {
      "image/png": "[encoded data removed]",
      "text/plain": [
       "<Figure size 720x144 with 4 Axes>"
      ]
     },
     "metadata": {
      "needs_background": "light"
     },
     "output_type": "display_data"
    },
    {
     "name": "stdout",
     "output_type": "stream",
     "text": [
      "model_entropy\n",
      "The median IoU for roads is  0.6481\n",
      "The mean IoU for roads is  0.6235\n"
     ]
    },
    {
     "data": {
      "image/png": "[encoded data removed]",
      "text/plain": [
       "<Figure size 720x144 with 4 Axes>"
      ]
     },
     "metadata": {
      "needs_background": "light"
     },
     "output_type": "display_data"
    },
    {
     "name": "stdout",
     "output_type": "stream",
     "text": [
      "The median IoU for buildings is  0.6861\n",
      "The mean IoU for buildings is  0.6369\n"
     ]
    },
    {
     "data": {
      "image/png": "[encoded data removed]",
      "text/plain": [
       "<Figure size 720x144 with 4 Axes>"
      ]
     },
     "metadata": {
      "needs_background": "light"
     },
     "output_type": "display_data"
    },
    {
     "name": "stdout",
     "output_type": "stream",
     "text": [
      "res_model_dice\n",
      "The median IoU for roads is  0.6585\n",
      "The mean IoU for roads is  0.6287\n"
     ]
    },
    {
     "data": {
      "image/png": "[encoded data removed]",
      "text/plain": [
       "<Figure size 720x144 with 4 Axes>"
      ]
     },
     "metadata": {
      "needs_background": "light"
     },
     "output_type": "display_data"
    },
    {
     "name": "stdout",
     "output_type": "stream",
     "text": [
      "The median IoU for buildings is  0.6787\n",
      "The mean IoU for buildings is  0.6346\n"
     ]
    },
    {
     "data": {
      "image/png": "[encoded data removed]",
      "text/plain": [
       "<Figure size 720x144 with 4 Axes>"
      ]
     },
     "metadata": {
      "needs_background": "light"
     },
     "output_type": "display_data"
    },
    {
     "name": "stdout",
     "output_type": "stream",
     "text": [
      "res_model_entropy\n",
      "The median IoU for roads is  0.6518\n",
      "The mean IoU for roads is  0.6225\n"
     ]
    },
    {
     "data": {
      "image/png": "[encoded data removed]",
      "text/plain": [
       "<Figure size 720x144 with 4 Axes>"
      ]
     },
     "metadata": {
      "needs_background": "light"
     },
     "output_type": "display_data"
    },
    {
     "name": "stdout",
     "output_type": "stream",
     "text": [
      "The median IoU for buildings is  0.6827\n",
      "The mean IoU for buildings is  0.6317\n"
     ]
    },
    {
     "data": {
      "image/png": "[encoded data removed]",
      "text/plain": [
       "<Figure size 720x144 with 4 Axes>"
      ]
     },
     "metadata": {
      "needs_background": "light"
     },
     "output_type": "display_data"
    },
    {
     "name": "stdout",
     "output_type": "stream",
     "text": [
      "attention_model_dice\n",
      "The median IoU for roads is  0.6602\n",
      "The mean IoU for roads is  0.6340\n"
     ]
    },
    {
     "data": {
      "image/png": "[encoded data removed]",
      "text/plain": [
       "<Figure size 720x144 with 4 Axes>"
      ]
     },
     "metadata": {
      "needs_background": "light"
     },
     "output_type": "display_data"
    },
    {
     "name": "stdout",
     "output_type": "stream",
     "text": [
      "The median IoU for buildings is  0.6879\n",
      "The mean IoU for buildings is  0.6494\n"
     ]
    },
    {
     "data": {
      "image/png": "[encoded data removed]",
      "text/plain": [
       "<Figure size 720x144 with 4 Axes>"
      ]
     },
     "metadata": {
      "needs_background": "light"
     },
     "output_type": "display_data"
    },
    {
     "name": "stdout",
     "output_type": "stream",
     "text": [
      "attention_model_entropy\n",
      "The median IoU for roads is  0.6609\n",
      "The mean IoU for roads is  0.6299\n"
     ]
    },
    {
     "data": {
      "image/png": "[encoded data removed]",
      "text/plain": [
       "<Figure size 720x144 with 4 Axes>"
      ]
     },
     "metadata": {
      "needs_background": "light"
     },
     "output_type": "display_data"
    },
    {
     "name": "stdout",
     "output_type": "stream",
     "text": [
      "The median IoU for buildings is  0.6815\n",
      "The mean IoU for buildings is  0.6338\n"
     ]
    },
    {
     "data": {
      "image/png": "[encoded data removed]",
      "text/plain": [
       "<Figure size 720x144 with 4 Axes>"
      ]
     },
     "metadata": {
      "needs_background": "light"
     },
     "output_type": "display_data"
    }
   ],
   "source": [
    "for model_name in models:\n",
    "        print(model_name)\n",
    "        plot_metrics(model_metrics, model_name)"
   ]
  },
  {
   "cell_type": "markdown",
   "id": "96bb7c07-1feb-418e-bcaf-a2d69d32469b",
   "metadata": {},
   "source": [
    "Above we can compare see a comparison for the distribution of IoU scores per an image, between areas of interest for both building and road extraction. While the building detection has a higher median IoU score than road detection, the IoU distribution varies from city to city. For example, Paris and Shanghai are particularly challenging in detecting buildings with their median IoU scores appearing closer to 0.5. However, Las Vegas shows a stronger performance with its IoU score distribution for both roads and buildings with a higher median score and with less scatter in the IoU distribution."
   ]
  },
  {
   "cell_type": "markdown",
   "id": "6c83e3ee-1cbd-4c49-a08d-9c38c2024f5b",
   "metadata": {},
   "source": [
    "Now we are creating a list of unique pairs for the model comparisons:"
   ]
  },
  {
   "cell_type": "code",
   "execution_count": 9,
   "id": "c7493f9f-7693-48c3-a335-db45d78ed048",
   "metadata": {},
   "outputs": [],
   "source": [
    "pairs = list(itertools.product(models, models))\n",
    "for p in pairs:\n",
    "    p2 = (p[1], p[0])\n",
    "    if p2 in pairs:\n",
    "        pairs.remove(p)"
   ]
  },
  {
   "cell_type": "code",
   "execution_count": 10,
   "id": "5ff25e91-344b-47c3-a877-64af1ade380d",
   "metadata": {},
   "outputs": [
    {
     "name": "stdout",
     "output_type": "stream",
     "text": [
      "There are 38 model pairs that are unique.\n"
     ]
    }
   ],
   "source": [
    "print(f'There are {len(pairs)} model pairs that are unique.')"
   ]
  },
  {
   "cell_type": "markdown",
   "id": "4bb59b06-a4fa-4bf4-b41a-3a8ee3399433",
   "metadata": {
    "tags": []
   },
   "source": [
    "## Comparison of models by Area of Interest and by category (e.g., road or building extraction)\n",
    "\n",
    "Below we record the pairwise p-value using Student's t-test. The null hypothesis is that one model has an average IoU is less than or equal to the other model. If the p-value is less than 0.05, we can reject the null-hypothesis and conclude that one model has a larger IoU than the other on average. For obvious reasons, we only perform the test for the case where the mean IoU of one model is greater than the other model.\n",
    "\n",
    "### Roads\n",
    "\n",
    "We first compare the IoU for extracted roads and then we can compare the IoU for extracted buildings:"
   ]
  },
  {
   "cell_type": "code",
   "execution_count": 11,
   "id": "6f9fe9f5-96b6-4644-af4b-7557f9de88e1",
   "metadata": {
    "tags": []
   },
   "outputs": [],
   "source": [
    "p_values_dict = {}\n",
    "for area in areas_of_interest:\n",
    "    p_values_dict[area] = pd.DataFrame(index=models, columns=models)\n",
    "    for m1, m2 in pairs:\n",
    "        if m1 != m2:\n",
    "            if (np.mean(model_metrics[m1]['road_iou'][area]) > np.mean(model_metrics[m2]['road_iou'][area])):\n",
    "                _, p_val = stats.ttest_ind(model_metrics[m1]['road_iou'][area], model_metrics[m2]['road_iou'][area], alternative ='greater')\n",
    "                p_values_dict[area].loc[m2, m1] = p_val\n",
    "            else:\n",
    "                _, p_val = stats.ttest_ind(model_metrics[m2]['road_iou'][area], model_metrics[m1]['road_iou'][area], alternative ='greater')\n",
    "                p_values_dict[area].loc[m1, m2] = p_val"
   ]
  },
  {
   "cell_type": "markdown",
   "id": "2f7d3c2f-ab46-45d4-a8f0-06c6dfca9482",
   "metadata": {},
   "source": [
    "Below we present a table of p-values testing if the models in the rows have a greater IoU than the models in the columns on average. This is limited to comparing roads. We only compare the cases where the mean IoU of one model is measured to be greater than another. If p-value is less than 0.05 this is what we can conclude this to be statistically significant."
   ]
  },
  {
   "cell_type": "code",
   "execution_count": 12,
   "id": "d23e439e-7a9f-4dbf-aede-3be6ae646b05",
   "metadata": {},
   "outputs": [
    {
     "name": "stdout",
     "output_type": "stream",
     "text": [
      "AOI_2_Vegas\n"
     ]
    },
    {
     "data": {
      "text/html": [
       "<div>\n",
       "<style scoped>\n",
       "    .dataframe tbody tr th:only-of-type {\n",
       "        vertical-align: middle;\n",
       "    }\n",
       "\n",
       "    .dataframe tbody tr th {\n",
       "        vertical-align: top;\n",
       "    }\n",
       "\n",
       "    .dataframe thead th {\n",
       "        text-align: right;\n",
       "    }\n",
       "</style>\n",
       "<table border=\"1\" class=\"dataframe\">\n",
       "  <thead>\n",
       "    <tr style=\"text-align: right;\">\n",
       "      <th></th>\n",
       "      <th>efficient_model_dice</th>\n",
       "      <th>efficient_model_entropy</th>\n",
       "      <th>model_dice</th>\n",
       "      <th>model_entropy</th>\n",
       "      <th>res_model_dice</th>\n",
       "      <th>res_model_entropy</th>\n",
       "      <th>attention_model_dice</th>\n",
       "      <th>attention_model_entropy</th>\n",
       "    </tr>\n",
       "  </thead>\n",
       "  <tbody>\n",
       "    <tr>\n",
       "      <th>efficient_model_dice</th>\n",
       "      <td>NaN</td>\n",
       "      <td>NaN</td>\n",
       "      <td>NaN</td>\n",
       "      <td>NaN</td>\n",
       "      <td>NaN</td>\n",
       "      <td>NaN</td>\n",
       "      <td>0.236348</td>\n",
       "      <td>0.07493</td>\n",
       "    </tr>\n",
       "    <tr>\n",
       "      <th>efficient_model_entropy</th>\n",
       "      <td>0.141995</td>\n",
       "      <td>NaN</td>\n",
       "      <td>0.175659</td>\n",
       "      <td>NaN</td>\n",
       "      <td>0.304955</td>\n",
       "      <td>NaN</td>\n",
       "      <td>0.035576</td>\n",
       "      <td>0.005753</td>\n",
       "    </tr>\n",
       "    <tr>\n",
       "      <th>model_dice</th>\n",
       "      <td>0.440083</td>\n",
       "      <td>NaN</td>\n",
       "      <td>NaN</td>\n",
       "      <td>NaN</td>\n",
       "      <td>NaN</td>\n",
       "      <td>NaN</td>\n",
       "      <td>0.189795</td>\n",
       "      <td>0.053894</td>\n",
       "    </tr>\n",
       "    <tr>\n",
       "      <th>model_entropy</th>\n",
       "      <td>0.130624</td>\n",
       "      <td>0.478848</td>\n",
       "      <td>0.16237</td>\n",
       "      <td>NaN</td>\n",
       "      <td>0.286785</td>\n",
       "      <td>NaN</td>\n",
       "      <td>0.031685</td>\n",
       "      <td>0.004963</td>\n",
       "    </tr>\n",
       "    <tr>\n",
       "      <th>res_model_dice</th>\n",
       "      <td>0.287092</td>\n",
       "      <td>NaN</td>\n",
       "      <td>0.338345</td>\n",
       "      <td>NaN</td>\n",
       "      <td>NaN</td>\n",
       "      <td>NaN</td>\n",
       "      <td>0.098821</td>\n",
       "      <td>0.022165</td>\n",
       "    </tr>\n",
       "    <tr>\n",
       "      <th>res_model_entropy</th>\n",
       "      <td>0.066768</td>\n",
       "      <td>0.328968</td>\n",
       "      <td>0.085789</td>\n",
       "      <td>0.348266</td>\n",
       "      <td>0.171922</td>\n",
       "      <td>NaN</td>\n",
       "      <td>0.012884</td>\n",
       "      <td>0.001625</td>\n",
       "    </tr>\n",
       "    <tr>\n",
       "      <th>attention_model_dice</th>\n",
       "      <td>NaN</td>\n",
       "      <td>NaN</td>\n",
       "      <td>NaN</td>\n",
       "      <td>NaN</td>\n",
       "      <td>NaN</td>\n",
       "      <td>NaN</td>\n",
       "      <td>NaN</td>\n",
       "      <td>0.232225</td>\n",
       "    </tr>\n",
       "    <tr>\n",
       "      <th>attention_model_entropy</th>\n",
       "      <td>NaN</td>\n",
       "      <td>NaN</td>\n",
       "      <td>NaN</td>\n",
       "      <td>NaN</td>\n",
       "      <td>NaN</td>\n",
       "      <td>NaN</td>\n",
       "      <td>NaN</td>\n",
       "      <td>NaN</td>\n",
       "    </tr>\n",
       "  </tbody>\n",
       "</table>\n",
       "</div>"
      ],
      "text/plain": [
       "                        efficient_model_dice efficient_model_entropy  \\\n",
       "efficient_model_dice                     NaN                     NaN   \n",
       "efficient_model_entropy             0.141995                     NaN   \n",
       "model_dice                          0.440083                     NaN   \n",
       "model_entropy                       0.130624                0.478848   \n",
       "res_model_dice                      0.287092                     NaN   \n",
       "res_model_entropy                   0.066768                0.328968   \n",
       "attention_model_dice                     NaN                     NaN   \n",
       "attention_model_entropy                  NaN                     NaN   \n",
       "\n",
       "                        model_dice model_entropy res_model_dice  \\\n",
       "efficient_model_dice           NaN           NaN            NaN   \n",
       "efficient_model_entropy   0.175659           NaN       0.304955   \n",
       "model_dice                     NaN           NaN            NaN   \n",
       "model_entropy              0.16237           NaN       0.286785   \n",
       "res_model_dice            0.338345           NaN            NaN   \n",
       "res_model_entropy         0.085789      0.348266       0.171922   \n",
       "attention_model_dice           NaN           NaN            NaN   \n",
       "attention_model_entropy        NaN           NaN            NaN   \n",
       "\n",
       "                        res_model_entropy attention_model_dice  \\\n",
       "efficient_model_dice                  NaN             0.236348   \n",
       "efficient_model_entropy               NaN             0.035576   \n",
       "model_dice                            NaN             0.189795   \n",
       "model_entropy                         NaN             0.031685   \n",
       "res_model_dice                        NaN             0.098821   \n",
       "res_model_entropy                     NaN             0.012884   \n",
       "attention_model_dice                  NaN                  NaN   \n",
       "attention_model_entropy               NaN                  NaN   \n",
       "\n",
       "                        attention_model_entropy  \n",
       "efficient_model_dice                    0.07493  \n",
       "efficient_model_entropy                0.005753  \n",
       "model_dice                             0.053894  \n",
       "model_entropy                          0.004963  \n",
       "res_model_dice                         0.022165  \n",
       "res_model_entropy                      0.001625  \n",
       "attention_model_dice                   0.232225  \n",
       "attention_model_entropy                     NaN  "
      ]
     },
     "metadata": {},
     "output_type": "display_data"
    },
    {
     "name": "stdout",
     "output_type": "stream",
     "text": [
      "AOI_3_Paris\n"
     ]
    },
    {
     "data": {
      "text/html": [
       "<div>\n",
       "<style scoped>\n",
       "    .dataframe tbody tr th:only-of-type {\n",
       "        vertical-align: middle;\n",
       "    }\n",
       "\n",
       "    .dataframe tbody tr th {\n",
       "        vertical-align: top;\n",
       "    }\n",
       "\n",
       "    .dataframe thead th {\n",
       "        text-align: right;\n",
       "    }\n",
       "</style>\n",
       "<table border=\"1\" class=\"dataframe\">\n",
       "  <thead>\n",
       "    <tr style=\"text-align: right;\">\n",
       "      <th></th>\n",
       "      <th>efficient_model_dice</th>\n",
       "      <th>efficient_model_entropy</th>\n",
       "      <th>model_dice</th>\n",
       "      <th>model_entropy</th>\n",
       "      <th>res_model_dice</th>\n",
       "      <th>res_model_entropy</th>\n",
       "      <th>attention_model_dice</th>\n",
       "      <th>attention_model_entropy</th>\n",
       "    </tr>\n",
       "  </thead>\n",
       "  <tbody>\n",
       "    <tr>\n",
       "      <th>efficient_model_dice</th>\n",
       "      <td>NaN</td>\n",
       "      <td>NaN</td>\n",
       "      <td>NaN</td>\n",
       "      <td>NaN</td>\n",
       "      <td>0.458378</td>\n",
       "      <td>NaN</td>\n",
       "      <td>0.161332</td>\n",
       "      <td>NaN</td>\n",
       "    </tr>\n",
       "    <tr>\n",
       "      <th>efficient_model_entropy</th>\n",
       "      <td>0.001765</td>\n",
       "      <td>NaN</td>\n",
       "      <td>0.012091</td>\n",
       "      <td>NaN</td>\n",
       "      <td>0.001214</td>\n",
       "      <td>NaN</td>\n",
       "      <td>0.000032</td>\n",
       "      <td>NaN</td>\n",
       "    </tr>\n",
       "    <tr>\n",
       "      <th>model_dice</th>\n",
       "      <td>0.230792</td>\n",
       "      <td>NaN</td>\n",
       "      <td>NaN</td>\n",
       "      <td>NaN</td>\n",
       "      <td>0.198746</td>\n",
       "      <td>NaN</td>\n",
       "      <td>0.037914</td>\n",
       "      <td>NaN</td>\n",
       "    </tr>\n",
       "    <tr>\n",
       "      <th>model_entropy</th>\n",
       "      <td>0.000784</td>\n",
       "      <td>0.379987</td>\n",
       "      <td>0.005908</td>\n",
       "      <td>NaN</td>\n",
       "      <td>0.000529</td>\n",
       "      <td>0.385689</td>\n",
       "      <td>0.000012</td>\n",
       "      <td>0.451893</td>\n",
       "    </tr>\n",
       "    <tr>\n",
       "      <th>res_model_dice</th>\n",
       "      <td>NaN</td>\n",
       "      <td>NaN</td>\n",
       "      <td>NaN</td>\n",
       "      <td>NaN</td>\n",
       "      <td>NaN</td>\n",
       "      <td>NaN</td>\n",
       "      <td>0.188094</td>\n",
       "      <td>NaN</td>\n",
       "    </tr>\n",
       "    <tr>\n",
       "      <th>res_model_entropy</th>\n",
       "      <td>0.001507</td>\n",
       "      <td>0.492649</td>\n",
       "      <td>0.010783</td>\n",
       "      <td>NaN</td>\n",
       "      <td>0.001026</td>\n",
       "      <td>NaN</td>\n",
       "      <td>0.000025</td>\n",
       "      <td>NaN</td>\n",
       "    </tr>\n",
       "    <tr>\n",
       "      <th>attention_model_dice</th>\n",
       "      <td>NaN</td>\n",
       "      <td>NaN</td>\n",
       "      <td>NaN</td>\n",
       "      <td>NaN</td>\n",
       "      <td>NaN</td>\n",
       "      <td>NaN</td>\n",
       "      <td>NaN</td>\n",
       "      <td>NaN</td>\n",
       "    </tr>\n",
       "    <tr>\n",
       "      <th>attention_model_entropy</th>\n",
       "      <td>0.001112</td>\n",
       "      <td>0.426978</td>\n",
       "      <td>0.008018</td>\n",
       "      <td>NaN</td>\n",
       "      <td>0.000757</td>\n",
       "      <td>0.433367</td>\n",
       "      <td>0.000019</td>\n",
       "      <td>NaN</td>\n",
       "    </tr>\n",
       "  </tbody>\n",
       "</table>\n",
       "</div>"
      ],
      "text/plain": [
       "                        efficient_model_dice efficient_model_entropy  \\\n",
       "efficient_model_dice                     NaN                     NaN   \n",
       "efficient_model_entropy             0.001765                     NaN   \n",
       "model_dice                          0.230792                     NaN   \n",
       "model_entropy                       0.000784                0.379987   \n",
       "res_model_dice                           NaN                     NaN   \n",
       "res_model_entropy                   0.001507                0.492649   \n",
       "attention_model_dice                     NaN                     NaN   \n",
       "attention_model_entropy             0.001112                0.426978   \n",
       "\n",
       "                        model_dice model_entropy res_model_dice  \\\n",
       "efficient_model_dice           NaN           NaN       0.458378   \n",
       "efficient_model_entropy   0.012091           NaN       0.001214   \n",
       "model_dice                     NaN           NaN       0.198746   \n",
       "model_entropy             0.005908           NaN       0.000529   \n",
       "res_model_dice                 NaN           NaN            NaN   \n",
       "res_model_entropy         0.010783           NaN       0.001026   \n",
       "attention_model_dice           NaN           NaN            NaN   \n",
       "attention_model_entropy   0.008018           NaN       0.000757   \n",
       "\n",
       "                        res_model_entropy attention_model_dice  \\\n",
       "efficient_model_dice                  NaN             0.161332   \n",
       "efficient_model_entropy               NaN             0.000032   \n",
       "model_dice                            NaN             0.037914   \n",
       "model_entropy                    0.385689             0.000012   \n",
       "res_model_dice                        NaN             0.188094   \n",
       "res_model_entropy                     NaN             0.000025   \n",
       "attention_model_dice                  NaN                  NaN   \n",
       "attention_model_entropy          0.433367             0.000019   \n",
       "\n",
       "                        attention_model_entropy  \n",
       "efficient_model_dice                        NaN  \n",
       "efficient_model_entropy                     NaN  \n",
       "model_dice                                  NaN  \n",
       "model_entropy                          0.451893  \n",
       "res_model_dice                              NaN  \n",
       "res_model_entropy                           NaN  \n",
       "attention_model_dice                        NaN  \n",
       "attention_model_entropy                     NaN  "
      ]
     },
     "metadata": {},
     "output_type": "display_data"
    },
    {
     "name": "stdout",
     "output_type": "stream",
     "text": [
      "AOI_4_Shanghai\n"
     ]
    },
    {
     "data": {
      "text/html": [
       "<div>\n",
       "<style scoped>\n",
       "    .dataframe tbody tr th:only-of-type {\n",
       "        vertical-align: middle;\n",
       "    }\n",
       "\n",
       "    .dataframe tbody tr th {\n",
       "        vertical-align: top;\n",
       "    }\n",
       "\n",
       "    .dataframe thead th {\n",
       "        text-align: right;\n",
       "    }\n",
       "</style>\n",
       "<table border=\"1\" class=\"dataframe\">\n",
       "  <thead>\n",
       "    <tr style=\"text-align: right;\">\n",
       "      <th></th>\n",
       "      <th>efficient_model_dice</th>\n",
       "      <th>efficient_model_entropy</th>\n",
       "      <th>model_dice</th>\n",
       "      <th>model_entropy</th>\n",
       "      <th>res_model_dice</th>\n",
       "      <th>res_model_entropy</th>\n",
       "      <th>attention_model_dice</th>\n",
       "      <th>attention_model_entropy</th>\n",
       "    </tr>\n",
       "  </thead>\n",
       "  <tbody>\n",
       "    <tr>\n",
       "      <th>efficient_model_dice</th>\n",
       "      <td>NaN</td>\n",
       "      <td>NaN</td>\n",
       "      <td>NaN</td>\n",
       "      <td>NaN</td>\n",
       "      <td>NaN</td>\n",
       "      <td>NaN</td>\n",
       "      <td>NaN</td>\n",
       "      <td>NaN</td>\n",
       "    </tr>\n",
       "    <tr>\n",
       "      <th>efficient_model_entropy</th>\n",
       "      <td>0.000004</td>\n",
       "      <td>NaN</td>\n",
       "      <td>0.00002</td>\n",
       "      <td>NaN</td>\n",
       "      <td>0.146261</td>\n",
       "      <td>NaN</td>\n",
       "      <td>0.000372</td>\n",
       "      <td>0.092318</td>\n",
       "    </tr>\n",
       "    <tr>\n",
       "      <th>model_dice</th>\n",
       "      <td>0.380168</td>\n",
       "      <td>NaN</td>\n",
       "      <td>NaN</td>\n",
       "      <td>NaN</td>\n",
       "      <td>NaN</td>\n",
       "      <td>NaN</td>\n",
       "      <td>NaN</td>\n",
       "      <td>NaN</td>\n",
       "    </tr>\n",
       "    <tr>\n",
       "      <th>model_entropy</th>\n",
       "      <td>0.0</td>\n",
       "      <td>0.163852</td>\n",
       "      <td>0.0</td>\n",
       "      <td>NaN</td>\n",
       "      <td>0.022963</td>\n",
       "      <td>NaN</td>\n",
       "      <td>0.000007</td>\n",
       "      <td>0.010672</td>\n",
       "    </tr>\n",
       "    <tr>\n",
       "      <th>res_model_dice</th>\n",
       "      <td>0.000596</td>\n",
       "      <td>NaN</td>\n",
       "      <td>0.001718</td>\n",
       "      <td>NaN</td>\n",
       "      <td>NaN</td>\n",
       "      <td>NaN</td>\n",
       "      <td>0.013259</td>\n",
       "      <td>0.408799</td>\n",
       "    </tr>\n",
       "    <tr>\n",
       "      <th>res_model_entropy</th>\n",
       "      <td>0.0</td>\n",
       "      <td>0.03609</td>\n",
       "      <td>0.0</td>\n",
       "      <td>0.201204</td>\n",
       "      <td>0.002805</td>\n",
       "      <td>NaN</td>\n",
       "      <td>0.0</td>\n",
       "      <td>0.000986</td>\n",
       "    </tr>\n",
       "    <tr>\n",
       "      <th>attention_model_dice</th>\n",
       "      <td>0.154332</td>\n",
       "      <td>NaN</td>\n",
       "      <td>0.238792</td>\n",
       "      <td>NaN</td>\n",
       "      <td>NaN</td>\n",
       "      <td>NaN</td>\n",
       "      <td>NaN</td>\n",
       "      <td>NaN</td>\n",
       "    </tr>\n",
       "    <tr>\n",
       "      <th>attention_model_entropy</th>\n",
       "      <td>0.000945</td>\n",
       "      <td>NaN</td>\n",
       "      <td>0.002699</td>\n",
       "      <td>NaN</td>\n",
       "      <td>NaN</td>\n",
       "      <td>NaN</td>\n",
       "      <td>0.020026</td>\n",
       "      <td>NaN</td>\n",
       "    </tr>\n",
       "  </tbody>\n",
       "</table>\n",
       "</div>"
      ],
      "text/plain": [
       "                        efficient_model_dice efficient_model_entropy  \\\n",
       "efficient_model_dice                     NaN                     NaN   \n",
       "efficient_model_entropy             0.000004                     NaN   \n",
       "model_dice                          0.380168                     NaN   \n",
       "model_entropy                            0.0                0.163852   \n",
       "res_model_dice                      0.000596                     NaN   \n",
       "res_model_entropy                        0.0                 0.03609   \n",
       "attention_model_dice                0.154332                     NaN   \n",
       "attention_model_entropy             0.000945                     NaN   \n",
       "\n",
       "                        model_dice model_entropy res_model_dice  \\\n",
       "efficient_model_dice           NaN           NaN            NaN   \n",
       "efficient_model_entropy    0.00002           NaN       0.146261   \n",
       "model_dice                     NaN           NaN            NaN   \n",
       "model_entropy                  0.0           NaN       0.022963   \n",
       "res_model_dice            0.001718           NaN            NaN   \n",
       "res_model_entropy              0.0      0.201204       0.002805   \n",
       "attention_model_dice      0.238792           NaN            NaN   \n",
       "attention_model_entropy   0.002699           NaN            NaN   \n",
       "\n",
       "                        res_model_entropy attention_model_dice  \\\n",
       "efficient_model_dice                  NaN                  NaN   \n",
       "efficient_model_entropy               NaN             0.000372   \n",
       "model_dice                            NaN                  NaN   \n",
       "model_entropy                         NaN             0.000007   \n",
       "res_model_dice                        NaN             0.013259   \n",
       "res_model_entropy                     NaN                  0.0   \n",
       "attention_model_dice                  NaN                  NaN   \n",
       "attention_model_entropy               NaN             0.020026   \n",
       "\n",
       "                        attention_model_entropy  \n",
       "efficient_model_dice                        NaN  \n",
       "efficient_model_entropy                0.092318  \n",
       "model_dice                                  NaN  \n",
       "model_entropy                          0.010672  \n",
       "res_model_dice                         0.408799  \n",
       "res_model_entropy                      0.000986  \n",
       "attention_model_dice                        NaN  \n",
       "attention_model_entropy                     NaN  "
      ]
     },
     "metadata": {},
     "output_type": "display_data"
    },
    {
     "name": "stdout",
     "output_type": "stream",
     "text": [
      "AOI_5_Khartoum\n"
     ]
    },
    {
     "data": {
      "text/html": [
       "<div>\n",
       "<style scoped>\n",
       "    .dataframe tbody tr th:only-of-type {\n",
       "        vertical-align: middle;\n",
       "    }\n",
       "\n",
       "    .dataframe tbody tr th {\n",
       "        vertical-align: top;\n",
       "    }\n",
       "\n",
       "    .dataframe thead th {\n",
       "        text-align: right;\n",
       "    }\n",
       "</style>\n",
       "<table border=\"1\" class=\"dataframe\">\n",
       "  <thead>\n",
       "    <tr style=\"text-align: right;\">\n",
       "      <th></th>\n",
       "      <th>efficient_model_dice</th>\n",
       "      <th>efficient_model_entropy</th>\n",
       "      <th>model_dice</th>\n",
       "      <th>model_entropy</th>\n",
       "      <th>res_model_dice</th>\n",
       "      <th>res_model_entropy</th>\n",
       "      <th>attention_model_dice</th>\n",
       "      <th>attention_model_entropy</th>\n",
       "    </tr>\n",
       "  </thead>\n",
       "  <tbody>\n",
       "    <tr>\n",
       "      <th>efficient_model_dice</th>\n",
       "      <td>NaN</td>\n",
       "      <td>NaN</td>\n",
       "      <td>0.231702</td>\n",
       "      <td>NaN</td>\n",
       "      <td>NaN</td>\n",
       "      <td>NaN</td>\n",
       "      <td>0.184213</td>\n",
       "      <td>0.471041</td>\n",
       "    </tr>\n",
       "    <tr>\n",
       "      <th>efficient_model_entropy</th>\n",
       "      <td>0.143509</td>\n",
       "      <td>NaN</td>\n",
       "      <td>0.037268</td>\n",
       "      <td>NaN</td>\n",
       "      <td>0.257888</td>\n",
       "      <td>NaN</td>\n",
       "      <td>0.02648</td>\n",
       "      <td>0.129723</td>\n",
       "    </tr>\n",
       "    <tr>\n",
       "      <th>model_dice</th>\n",
       "      <td>NaN</td>\n",
       "      <td>NaN</td>\n",
       "      <td>NaN</td>\n",
       "      <td>NaN</td>\n",
       "      <td>NaN</td>\n",
       "      <td>NaN</td>\n",
       "      <td>0.43088</td>\n",
       "      <td>NaN</td>\n",
       "    </tr>\n",
       "    <tr>\n",
       "      <th>model_entropy</th>\n",
       "      <td>0.037676</td>\n",
       "      <td>0.243037</td>\n",
       "      <td>0.006231</td>\n",
       "      <td>NaN</td>\n",
       "      <td>0.087111</td>\n",
       "      <td>0.282298</td>\n",
       "      <td>0.004106</td>\n",
       "      <td>0.033191</td>\n",
       "    </tr>\n",
       "    <tr>\n",
       "      <th>res_model_dice</th>\n",
       "      <td>0.338024</td>\n",
       "      <td>NaN</td>\n",
       "      <td>0.125612</td>\n",
       "      <td>NaN</td>\n",
       "      <td>NaN</td>\n",
       "      <td>NaN</td>\n",
       "      <td>0.095391</td>\n",
       "      <td>0.31318</td>\n",
       "    </tr>\n",
       "    <tr>\n",
       "      <th>res_model_entropy</th>\n",
       "      <td>0.121448</td>\n",
       "      <td>0.455154</td>\n",
       "      <td>0.03015</td>\n",
       "      <td>NaN</td>\n",
       "      <td>0.224518</td>\n",
       "      <td>NaN</td>\n",
       "      <td>0.021274</td>\n",
       "      <td>0.109457</td>\n",
       "    </tr>\n",
       "    <tr>\n",
       "      <th>attention_model_dice</th>\n",
       "      <td>NaN</td>\n",
       "      <td>NaN</td>\n",
       "      <td>NaN</td>\n",
       "      <td>NaN</td>\n",
       "      <td>NaN</td>\n",
       "      <td>NaN</td>\n",
       "      <td>NaN</td>\n",
       "      <td>NaN</td>\n",
       "    </tr>\n",
       "    <tr>\n",
       "      <th>attention_model_entropy</th>\n",
       "      <td>NaN</td>\n",
       "      <td>NaN</td>\n",
       "      <td>0.256287</td>\n",
       "      <td>NaN</td>\n",
       "      <td>NaN</td>\n",
       "      <td>NaN</td>\n",
       "      <td>0.205924</td>\n",
       "      <td>NaN</td>\n",
       "    </tr>\n",
       "  </tbody>\n",
       "</table>\n",
       "</div>"
      ],
      "text/plain": [
       "                        efficient_model_dice efficient_model_entropy  \\\n",
       "efficient_model_dice                     NaN                     NaN   \n",
       "efficient_model_entropy             0.143509                     NaN   \n",
       "model_dice                               NaN                     NaN   \n",
       "model_entropy                       0.037676                0.243037   \n",
       "res_model_dice                      0.338024                     NaN   \n",
       "res_model_entropy                   0.121448                0.455154   \n",
       "attention_model_dice                     NaN                     NaN   \n",
       "attention_model_entropy                  NaN                     NaN   \n",
       "\n",
       "                        model_dice model_entropy res_model_dice  \\\n",
       "efficient_model_dice      0.231702           NaN            NaN   \n",
       "efficient_model_entropy   0.037268           NaN       0.257888   \n",
       "model_dice                     NaN           NaN            NaN   \n",
       "model_entropy             0.006231           NaN       0.087111   \n",
       "res_model_dice            0.125612           NaN            NaN   \n",
       "res_model_entropy          0.03015           NaN       0.224518   \n",
       "attention_model_dice           NaN           NaN            NaN   \n",
       "attention_model_entropy   0.256287           NaN            NaN   \n",
       "\n",
       "                        res_model_entropy attention_model_dice  \\\n",
       "efficient_model_dice                  NaN             0.184213   \n",
       "efficient_model_entropy               NaN              0.02648   \n",
       "model_dice                            NaN              0.43088   \n",
       "model_entropy                    0.282298             0.004106   \n",
       "res_model_dice                        NaN             0.095391   \n",
       "res_model_entropy                     NaN             0.021274   \n",
       "attention_model_dice                  NaN                  NaN   \n",
       "attention_model_entropy               NaN             0.205924   \n",
       "\n",
       "                        attention_model_entropy  \n",
       "efficient_model_dice                   0.471041  \n",
       "efficient_model_entropy                0.129723  \n",
       "model_dice                                  NaN  \n",
       "model_entropy                          0.033191  \n",
       "res_model_dice                          0.31318  \n",
       "res_model_entropy                      0.109457  \n",
       "attention_model_dice                        NaN  \n",
       "attention_model_entropy                     NaN  "
      ]
     },
     "metadata": {},
     "output_type": "display_data"
    }
   ],
   "source": [
    "for key in p_values_dict.keys():\n",
    "    print(key)\n",
    "    display(p_values_dict[key])"
   ]
  },
  {
   "cell_type": "markdown",
   "id": "97addeb7-5cb9-481b-9daf-53c018742cf3",
   "metadata": {},
   "source": [
    "### Buildings\n",
    "We now perform the same analysis as above as we did for the extracted roads, but for extracted buildings:"
   ]
  },
  {
   "cell_type": "code",
   "execution_count": 13,
   "id": "8d4edfd7-1343-4351-b80c-5284434ccd96",
   "metadata": {
    "tags": []
   },
   "outputs": [],
   "source": [
    "p_values_dict = {}\n",
    "for area in areas_of_interest:\n",
    "    p_values_dict[area] = pd.DataFrame(index=models, columns=models)\n",
    "    for m1, m2 in pairs:\n",
    "        if m1 != m2:\n",
    "            if (np.mean(model_metrics[m1]['building_iou'][area]) > np.mean(model_metrics[m2]['building_iou'][area])):\n",
    "                _, p_val = stats.ttest_ind(model_metrics[m1]['building_iou'][area], model_metrics[m2]['building_iou'][area], alternative ='greater')\n",
    "                p_values_dict[area].loc[m1, m2] = p_val\n",
    "            else:\n",
    "                _, p_val = stats.ttest_ind(model_metrics[m2]['building_iou'][area], model_metrics[m1]['building_iou'][area], alternative ='greater')\n",
    "                p_values_dict[area].loc[m2, m1] = p_val"
   ]
  },
  {
   "cell_type": "code",
   "execution_count": 14,
   "id": "ca22fa1f-50ef-4657-806f-6167743547e8",
   "metadata": {},
   "outputs": [
    {
     "name": "stdout",
     "output_type": "stream",
     "text": [
      "AOI_2_Vegas\n"
     ]
    },
    {
     "data": {
      "text/html": [
       "<div>\n",
       "<style scoped>\n",
       "    .dataframe tbody tr th:only-of-type {\n",
       "        vertical-align: middle;\n",
       "    }\n",
       "\n",
       "    .dataframe tbody tr th {\n",
       "        vertical-align: top;\n",
       "    }\n",
       "\n",
       "    .dataframe thead th {\n",
       "        text-align: right;\n",
       "    }\n",
       "</style>\n",
       "<table border=\"1\" class=\"dataframe\">\n",
       "  <thead>\n",
       "    <tr style=\"text-align: right;\">\n",
       "      <th></th>\n",
       "      <th>efficient_model_dice</th>\n",
       "      <th>efficient_model_entropy</th>\n",
       "      <th>model_dice</th>\n",
       "      <th>model_entropy</th>\n",
       "      <th>res_model_dice</th>\n",
       "      <th>res_model_entropy</th>\n",
       "      <th>attention_model_dice</th>\n",
       "      <th>attention_model_entropy</th>\n",
       "    </tr>\n",
       "  </thead>\n",
       "  <tbody>\n",
       "    <tr>\n",
       "      <th>efficient_model_dice</th>\n",
       "      <td>NaN</td>\n",
       "      <td>0.346924</td>\n",
       "      <td>0.274013</td>\n",
       "      <td>0.231188</td>\n",
       "      <td>0.0006</td>\n",
       "      <td>0.453783</td>\n",
       "      <td>0.305738</td>\n",
       "      <td>0.138993</td>\n",
       "    </tr>\n",
       "    <tr>\n",
       "      <th>efficient_model_entropy</th>\n",
       "      <td>NaN</td>\n",
       "      <td>NaN</td>\n",
       "      <td>0.423832</td>\n",
       "      <td>0.36906</td>\n",
       "      <td>0.002742</td>\n",
       "      <td>NaN</td>\n",
       "      <td>0.460147</td>\n",
       "      <td>0.250177</td>\n",
       "    </tr>\n",
       "    <tr>\n",
       "      <th>model_dice</th>\n",
       "      <td>NaN</td>\n",
       "      <td>NaN</td>\n",
       "      <td>NaN</td>\n",
       "      <td>0.440058</td>\n",
       "      <td>0.004021</td>\n",
       "      <td>NaN</td>\n",
       "      <td>NaN</td>\n",
       "      <td>0.309346</td>\n",
       "    </tr>\n",
       "    <tr>\n",
       "      <th>model_entropy</th>\n",
       "      <td>NaN</td>\n",
       "      <td>NaN</td>\n",
       "      <td>NaN</td>\n",
       "      <td>NaN</td>\n",
       "      <td>0.007467</td>\n",
       "      <td>NaN</td>\n",
       "      <td>NaN</td>\n",
       "      <td>0.368036</td>\n",
       "    </tr>\n",
       "    <tr>\n",
       "      <th>res_model_dice</th>\n",
       "      <td>NaN</td>\n",
       "      <td>NaN</td>\n",
       "      <td>NaN</td>\n",
       "      <td>NaN</td>\n",
       "      <td>NaN</td>\n",
       "      <td>NaN</td>\n",
       "      <td>NaN</td>\n",
       "      <td>NaN</td>\n",
       "    </tr>\n",
       "    <tr>\n",
       "      <th>res_model_entropy</th>\n",
       "      <td>NaN</td>\n",
       "      <td>0.39567</td>\n",
       "      <td>0.322891</td>\n",
       "      <td>0.276641</td>\n",
       "      <td>0.001357</td>\n",
       "      <td>NaN</td>\n",
       "      <td>0.355642</td>\n",
       "      <td>0.176663</td>\n",
       "    </tr>\n",
       "    <tr>\n",
       "      <th>attention_model_dice</th>\n",
       "      <td>NaN</td>\n",
       "      <td>NaN</td>\n",
       "      <td>0.462102</td>\n",
       "      <td>0.403659</td>\n",
       "      <td>0.002949</td>\n",
       "      <td>NaN</td>\n",
       "      <td>NaN</td>\n",
       "      <td>0.276738</td>\n",
       "    </tr>\n",
       "    <tr>\n",
       "      <th>attention_model_entropy</th>\n",
       "      <td>NaN</td>\n",
       "      <td>NaN</td>\n",
       "      <td>NaN</td>\n",
       "      <td>NaN</td>\n",
       "      <td>0.017594</td>\n",
       "      <td>NaN</td>\n",
       "      <td>NaN</td>\n",
       "      <td>NaN</td>\n",
       "    </tr>\n",
       "  </tbody>\n",
       "</table>\n",
       "</div>"
      ],
      "text/plain": [
       "                        efficient_model_dice efficient_model_entropy  \\\n",
       "efficient_model_dice                     NaN                0.346924   \n",
       "efficient_model_entropy                  NaN                     NaN   \n",
       "model_dice                               NaN                     NaN   \n",
       "model_entropy                            NaN                     NaN   \n",
       "res_model_dice                           NaN                     NaN   \n",
       "res_model_entropy                        NaN                 0.39567   \n",
       "attention_model_dice                     NaN                     NaN   \n",
       "attention_model_entropy                  NaN                     NaN   \n",
       "\n",
       "                        model_dice model_entropy res_model_dice  \\\n",
       "efficient_model_dice      0.274013      0.231188         0.0006   \n",
       "efficient_model_entropy   0.423832       0.36906       0.002742   \n",
       "model_dice                     NaN      0.440058       0.004021   \n",
       "model_entropy                  NaN           NaN       0.007467   \n",
       "res_model_dice                 NaN           NaN            NaN   \n",
       "res_model_entropy         0.322891      0.276641       0.001357   \n",
       "attention_model_dice      0.462102      0.403659       0.002949   \n",
       "attention_model_entropy        NaN           NaN       0.017594   \n",
       "\n",
       "                        res_model_entropy attention_model_dice  \\\n",
       "efficient_model_dice             0.453783             0.305738   \n",
       "efficient_model_entropy               NaN             0.460147   \n",
       "model_dice                            NaN                  NaN   \n",
       "model_entropy                         NaN                  NaN   \n",
       "res_model_dice                        NaN                  NaN   \n",
       "res_model_entropy                     NaN             0.355642   \n",
       "attention_model_dice                  NaN                  NaN   \n",
       "attention_model_entropy               NaN                  NaN   \n",
       "\n",
       "                        attention_model_entropy  \n",
       "efficient_model_dice                   0.138993  \n",
       "efficient_model_entropy                0.250177  \n",
       "model_dice                             0.309346  \n",
       "model_entropy                          0.368036  \n",
       "res_model_dice                              NaN  \n",
       "res_model_entropy                      0.176663  \n",
       "attention_model_dice                   0.276738  \n",
       "attention_model_entropy                     NaN  "
      ]
     },
     "metadata": {},
     "output_type": "display_data"
    },
    {
     "name": "stdout",
     "output_type": "stream",
     "text": [
      "AOI_3_Paris\n"
     ]
    },
    {
     "data": {
      "text/html": [
       "<div>\n",
       "<style scoped>\n",
       "    .dataframe tbody tr th:only-of-type {\n",
       "        vertical-align: middle;\n",
       "    }\n",
       "\n",
       "    .dataframe tbody tr th {\n",
       "        vertical-align: top;\n",
       "    }\n",
       "\n",
       "    .dataframe thead th {\n",
       "        text-align: right;\n",
       "    }\n",
       "</style>\n",
       "<table border=\"1\" class=\"dataframe\">\n",
       "  <thead>\n",
       "    <tr style=\"text-align: right;\">\n",
       "      <th></th>\n",
       "      <th>efficient_model_dice</th>\n",
       "      <th>efficient_model_entropy</th>\n",
       "      <th>model_dice</th>\n",
       "      <th>model_entropy</th>\n",
       "      <th>res_model_dice</th>\n",
       "      <th>res_model_entropy</th>\n",
       "      <th>attention_model_dice</th>\n",
       "      <th>attention_model_entropy</th>\n",
       "    </tr>\n",
       "  </thead>\n",
       "  <tbody>\n",
       "    <tr>\n",
       "      <th>efficient_model_dice</th>\n",
       "      <td>NaN</td>\n",
       "      <td>0.000057</td>\n",
       "      <td>0.096186</td>\n",
       "      <td>0.0</td>\n",
       "      <td>0.005546</td>\n",
       "      <td>0.004599</td>\n",
       "      <td>0.206787</td>\n",
       "      <td>0.0</td>\n",
       "    </tr>\n",
       "    <tr>\n",
       "      <th>efficient_model_entropy</th>\n",
       "      <td>NaN</td>\n",
       "      <td>NaN</td>\n",
       "      <td>NaN</td>\n",
       "      <td>0.052569</td>\n",
       "      <td>NaN</td>\n",
       "      <td>NaN</td>\n",
       "      <td>NaN</td>\n",
       "      <td>0.000346</td>\n",
       "    </tr>\n",
       "    <tr>\n",
       "      <th>model_dice</th>\n",
       "      <td>NaN</td>\n",
       "      <td>0.006085</td>\n",
       "      <td>NaN</td>\n",
       "      <td>0.000015</td>\n",
       "      <td>0.119</td>\n",
       "      <td>0.099903</td>\n",
       "      <td>NaN</td>\n",
       "      <td>0.0</td>\n",
       "    </tr>\n",
       "    <tr>\n",
       "      <th>model_entropy</th>\n",
       "      <td>NaN</td>\n",
       "      <td>NaN</td>\n",
       "      <td>NaN</td>\n",
       "      <td>NaN</td>\n",
       "      <td>NaN</td>\n",
       "      <td>NaN</td>\n",
       "      <td>NaN</td>\n",
       "      <td>0.032642</td>\n",
       "    </tr>\n",
       "    <tr>\n",
       "      <th>res_model_dice</th>\n",
       "      <td>NaN</td>\n",
       "      <td>0.083784</td>\n",
       "      <td>NaN</td>\n",
       "      <td>0.001109</td>\n",
       "      <td>NaN</td>\n",
       "      <td>0.446141</td>\n",
       "      <td>NaN</td>\n",
       "      <td>0.000001</td>\n",
       "    </tr>\n",
       "    <tr>\n",
       "      <th>res_model_entropy</th>\n",
       "      <td>NaN</td>\n",
       "      <td>0.11252</td>\n",
       "      <td>NaN</td>\n",
       "      <td>0.002202</td>\n",
       "      <td>NaN</td>\n",
       "      <td>NaN</td>\n",
       "      <td>NaN</td>\n",
       "      <td>0.000002</td>\n",
       "    </tr>\n",
       "    <tr>\n",
       "      <th>attention_model_dice</th>\n",
       "      <td>NaN</td>\n",
       "      <td>0.001276</td>\n",
       "      <td>0.312693</td>\n",
       "      <td>0.000001</td>\n",
       "      <td>0.045483</td>\n",
       "      <td>0.037609</td>\n",
       "      <td>NaN</td>\n",
       "      <td>0.0</td>\n",
       "    </tr>\n",
       "    <tr>\n",
       "      <th>attention_model_entropy</th>\n",
       "      <td>NaN</td>\n",
       "      <td>NaN</td>\n",
       "      <td>NaN</td>\n",
       "      <td>NaN</td>\n",
       "      <td>NaN</td>\n",
       "      <td>NaN</td>\n",
       "      <td>NaN</td>\n",
       "      <td>NaN</td>\n",
       "    </tr>\n",
       "  </tbody>\n",
       "</table>\n",
       "</div>"
      ],
      "text/plain": [
       "                        efficient_model_dice efficient_model_entropy  \\\n",
       "efficient_model_dice                     NaN                0.000057   \n",
       "efficient_model_entropy                  NaN                     NaN   \n",
       "model_dice                               NaN                0.006085   \n",
       "model_entropy                            NaN                     NaN   \n",
       "res_model_dice                           NaN                0.083784   \n",
       "res_model_entropy                        NaN                 0.11252   \n",
       "attention_model_dice                     NaN                0.001276   \n",
       "attention_model_entropy                  NaN                     NaN   \n",
       "\n",
       "                        model_dice model_entropy res_model_dice  \\\n",
       "efficient_model_dice      0.096186           0.0       0.005546   \n",
       "efficient_model_entropy        NaN      0.052569            NaN   \n",
       "model_dice                     NaN      0.000015          0.119   \n",
       "model_entropy                  NaN           NaN            NaN   \n",
       "res_model_dice                 NaN      0.001109            NaN   \n",
       "res_model_entropy              NaN      0.002202            NaN   \n",
       "attention_model_dice      0.312693      0.000001       0.045483   \n",
       "attention_model_entropy        NaN           NaN            NaN   \n",
       "\n",
       "                        res_model_entropy attention_model_dice  \\\n",
       "efficient_model_dice             0.004599             0.206787   \n",
       "efficient_model_entropy               NaN                  NaN   \n",
       "model_dice                       0.099903                  NaN   \n",
       "model_entropy                         NaN                  NaN   \n",
       "res_model_dice                   0.446141                  NaN   \n",
       "res_model_entropy                     NaN                  NaN   \n",
       "attention_model_dice             0.037609                  NaN   \n",
       "attention_model_entropy               NaN                  NaN   \n",
       "\n",
       "                        attention_model_entropy  \n",
       "efficient_model_dice                        0.0  \n",
       "efficient_model_entropy                0.000346  \n",
       "model_dice                                  0.0  \n",
       "model_entropy                          0.032642  \n",
       "res_model_dice                         0.000001  \n",
       "res_model_entropy                      0.000002  \n",
       "attention_model_dice                        0.0  \n",
       "attention_model_entropy                     NaN  "
      ]
     },
     "metadata": {},
     "output_type": "display_data"
    },
    {
     "name": "stdout",
     "output_type": "stream",
     "text": [
      "AOI_4_Shanghai\n"
     ]
    },
    {
     "data": {
      "text/html": [
       "<div>\n",
       "<style scoped>\n",
       "    .dataframe tbody tr th:only-of-type {\n",
       "        vertical-align: middle;\n",
       "    }\n",
       "\n",
       "    .dataframe tbody tr th {\n",
       "        vertical-align: top;\n",
       "    }\n",
       "\n",
       "    .dataframe thead th {\n",
       "        text-align: right;\n",
       "    }\n",
       "</style>\n",
       "<table border=\"1\" class=\"dataframe\">\n",
       "  <thead>\n",
       "    <tr style=\"text-align: right;\">\n",
       "      <th></th>\n",
       "      <th>efficient_model_dice</th>\n",
       "      <th>efficient_model_entropy</th>\n",
       "      <th>model_dice</th>\n",
       "      <th>model_entropy</th>\n",
       "      <th>res_model_dice</th>\n",
       "      <th>res_model_entropy</th>\n",
       "      <th>attention_model_dice</th>\n",
       "      <th>attention_model_entropy</th>\n",
       "    </tr>\n",
       "  </thead>\n",
       "  <tbody>\n",
       "    <tr>\n",
       "      <th>efficient_model_dice</th>\n",
       "      <td>NaN</td>\n",
       "      <td>0.0</td>\n",
       "      <td>NaN</td>\n",
       "      <td>0.000003</td>\n",
       "      <td>0.0</td>\n",
       "      <td>0.0</td>\n",
       "      <td>NaN</td>\n",
       "      <td>0.0</td>\n",
       "    </tr>\n",
       "    <tr>\n",
       "      <th>efficient_model_entropy</th>\n",
       "      <td>NaN</td>\n",
       "      <td>NaN</td>\n",
       "      <td>NaN</td>\n",
       "      <td>NaN</td>\n",
       "      <td>0.35644</td>\n",
       "      <td>0.001668</td>\n",
       "      <td>NaN</td>\n",
       "      <td>0.427046</td>\n",
       "    </tr>\n",
       "    <tr>\n",
       "      <th>model_dice</th>\n",
       "      <td>0.241556</td>\n",
       "      <td>0.0</td>\n",
       "      <td>NaN</td>\n",
       "      <td>0.0</td>\n",
       "      <td>0.0</td>\n",
       "      <td>0.0</td>\n",
       "      <td>0.335646</td>\n",
       "      <td>0.0</td>\n",
       "    </tr>\n",
       "    <tr>\n",
       "      <th>model_entropy</th>\n",
       "      <td>NaN</td>\n",
       "      <td>0.132422</td>\n",
       "      <td>NaN</td>\n",
       "      <td>NaN</td>\n",
       "      <td>0.067761</td>\n",
       "      <td>0.000025</td>\n",
       "      <td>NaN</td>\n",
       "      <td>0.096518</td>\n",
       "    </tr>\n",
       "    <tr>\n",
       "      <th>res_model_dice</th>\n",
       "      <td>NaN</td>\n",
       "      <td>NaN</td>\n",
       "      <td>NaN</td>\n",
       "      <td>NaN</td>\n",
       "      <td>NaN</td>\n",
       "      <td>0.004785</td>\n",
       "      <td>NaN</td>\n",
       "      <td>NaN</td>\n",
       "    </tr>\n",
       "    <tr>\n",
       "      <th>res_model_entropy</th>\n",
       "      <td>NaN</td>\n",
       "      <td>NaN</td>\n",
       "      <td>NaN</td>\n",
       "      <td>NaN</td>\n",
       "      <td>NaN</td>\n",
       "      <td>NaN</td>\n",
       "      <td>NaN</td>\n",
       "      <td>NaN</td>\n",
       "    </tr>\n",
       "    <tr>\n",
       "      <th>attention_model_dice</th>\n",
       "      <td>0.391354</td>\n",
       "      <td>0.0</td>\n",
       "      <td>NaN</td>\n",
       "      <td>0.000001</td>\n",
       "      <td>0.0</td>\n",
       "      <td>0.0</td>\n",
       "      <td>NaN</td>\n",
       "      <td>0.0</td>\n",
       "    </tr>\n",
       "    <tr>\n",
       "      <th>attention_model_entropy</th>\n",
       "      <td>NaN</td>\n",
       "      <td>NaN</td>\n",
       "      <td>NaN</td>\n",
       "      <td>NaN</td>\n",
       "      <td>0.427236</td>\n",
       "      <td>0.00291</td>\n",
       "      <td>NaN</td>\n",
       "      <td>NaN</td>\n",
       "    </tr>\n",
       "  </tbody>\n",
       "</table>\n",
       "</div>"
      ],
      "text/plain": [
       "                        efficient_model_dice efficient_model_entropy  \\\n",
       "efficient_model_dice                     NaN                     0.0   \n",
       "efficient_model_entropy                  NaN                     NaN   \n",
       "model_dice                          0.241556                     0.0   \n",
       "model_entropy                            NaN                0.132422   \n",
       "res_model_dice                           NaN                     NaN   \n",
       "res_model_entropy                        NaN                     NaN   \n",
       "attention_model_dice                0.391354                     0.0   \n",
       "attention_model_entropy                  NaN                     NaN   \n",
       "\n",
       "                        model_dice model_entropy res_model_dice  \\\n",
       "efficient_model_dice           NaN      0.000003            0.0   \n",
       "efficient_model_entropy        NaN           NaN        0.35644   \n",
       "model_dice                     NaN           0.0            0.0   \n",
       "model_entropy                  NaN           NaN       0.067761   \n",
       "res_model_dice                 NaN           NaN            NaN   \n",
       "res_model_entropy              NaN           NaN            NaN   \n",
       "attention_model_dice           NaN      0.000001            0.0   \n",
       "attention_model_entropy        NaN           NaN       0.427236   \n",
       "\n",
       "                        res_model_entropy attention_model_dice  \\\n",
       "efficient_model_dice                  0.0                  NaN   \n",
       "efficient_model_entropy          0.001668                  NaN   \n",
       "model_dice                            0.0             0.335646   \n",
       "model_entropy                    0.000025                  NaN   \n",
       "res_model_dice                   0.004785                  NaN   \n",
       "res_model_entropy                     NaN                  NaN   \n",
       "attention_model_dice                  0.0                  NaN   \n",
       "attention_model_entropy           0.00291                  NaN   \n",
       "\n",
       "                        attention_model_entropy  \n",
       "efficient_model_dice                        0.0  \n",
       "efficient_model_entropy                0.427046  \n",
       "model_dice                                  0.0  \n",
       "model_entropy                          0.096518  \n",
       "res_model_dice                              NaN  \n",
       "res_model_entropy                           NaN  \n",
       "attention_model_dice                        0.0  \n",
       "attention_model_entropy                     NaN  "
      ]
     },
     "metadata": {},
     "output_type": "display_data"
    },
    {
     "name": "stdout",
     "output_type": "stream",
     "text": [
      "AOI_5_Khartoum\n"
     ]
    },
    {
     "data": {
      "text/html": [
       "<div>\n",
       "<style scoped>\n",
       "    .dataframe tbody tr th:only-of-type {\n",
       "        vertical-align: middle;\n",
       "    }\n",
       "\n",
       "    .dataframe tbody tr th {\n",
       "        vertical-align: top;\n",
       "    }\n",
       "\n",
       "    .dataframe thead th {\n",
       "        text-align: right;\n",
       "    }\n",
       "</style>\n",
       "<table border=\"1\" class=\"dataframe\">\n",
       "  <thead>\n",
       "    <tr style=\"text-align: right;\">\n",
       "      <th></th>\n",
       "      <th>efficient_model_dice</th>\n",
       "      <th>efficient_model_entropy</th>\n",
       "      <th>model_dice</th>\n",
       "      <th>model_entropy</th>\n",
       "      <th>res_model_dice</th>\n",
       "      <th>res_model_entropy</th>\n",
       "      <th>attention_model_dice</th>\n",
       "      <th>attention_model_entropy</th>\n",
       "    </tr>\n",
       "  </thead>\n",
       "  <tbody>\n",
       "    <tr>\n",
       "      <th>efficient_model_dice</th>\n",
       "      <td>NaN</td>\n",
       "      <td>0.051215</td>\n",
       "      <td>0.412931</td>\n",
       "      <td>0.000786</td>\n",
       "      <td>0.497871</td>\n",
       "      <td>0.000839</td>\n",
       "      <td>NaN</td>\n",
       "      <td>0.010123</td>\n",
       "    </tr>\n",
       "    <tr>\n",
       "      <th>efficient_model_entropy</th>\n",
       "      <td>NaN</td>\n",
       "      <td>NaN</td>\n",
       "      <td>NaN</td>\n",
       "      <td>0.071099</td>\n",
       "      <td>NaN</td>\n",
       "      <td>0.073198</td>\n",
       "      <td>NaN</td>\n",
       "      <td>0.259915</td>\n",
       "    </tr>\n",
       "    <tr>\n",
       "      <th>model_dice</th>\n",
       "      <td>NaN</td>\n",
       "      <td>0.080263</td>\n",
       "      <td>NaN</td>\n",
       "      <td>0.00179</td>\n",
       "      <td>NaN</td>\n",
       "      <td>0.001897</td>\n",
       "      <td>NaN</td>\n",
       "      <td>0.018719</td>\n",
       "    </tr>\n",
       "    <tr>\n",
       "      <th>model_entropy</th>\n",
       "      <td>NaN</td>\n",
       "      <td>NaN</td>\n",
       "      <td>NaN</td>\n",
       "      <td>NaN</td>\n",
       "      <td>NaN</td>\n",
       "      <td>NaN</td>\n",
       "      <td>NaN</td>\n",
       "      <td>NaN</td>\n",
       "    </tr>\n",
       "    <tr>\n",
       "      <th>res_model_dice</th>\n",
       "      <td>NaN</td>\n",
       "      <td>0.054056</td>\n",
       "      <td>0.416162</td>\n",
       "      <td>0.000923</td>\n",
       "      <td>NaN</td>\n",
       "      <td>0.000983</td>\n",
       "      <td>NaN</td>\n",
       "      <td>0.011144</td>\n",
       "    </tr>\n",
       "    <tr>\n",
       "      <th>res_model_entropy</th>\n",
       "      <td>NaN</td>\n",
       "      <td>NaN</td>\n",
       "      <td>NaN</td>\n",
       "      <td>0.494867</td>\n",
       "      <td>NaN</td>\n",
       "      <td>NaN</td>\n",
       "      <td>NaN</td>\n",
       "      <td>NaN</td>\n",
       "    </tr>\n",
       "    <tr>\n",
       "      <th>attention_model_dice</th>\n",
       "      <td>0.392766</td>\n",
       "      <td>0.029385</td>\n",
       "      <td>0.312706</td>\n",
       "      <td>0.000321</td>\n",
       "      <td>0.392178</td>\n",
       "      <td>0.000344</td>\n",
       "      <td>NaN</td>\n",
       "      <td>0.004949</td>\n",
       "    </tr>\n",
       "    <tr>\n",
       "      <th>attention_model_entropy</th>\n",
       "      <td>NaN</td>\n",
       "      <td>NaN</td>\n",
       "      <td>NaN</td>\n",
       "      <td>0.200584</td>\n",
       "      <td>NaN</td>\n",
       "      <td>0.204652</td>\n",
       "      <td>NaN</td>\n",
       "      <td>NaN</td>\n",
       "    </tr>\n",
       "  </tbody>\n",
       "</table>\n",
       "</div>"
      ],
      "text/plain": [
       "                        efficient_model_dice efficient_model_entropy  \\\n",
       "efficient_model_dice                     NaN                0.051215   \n",
       "efficient_model_entropy                  NaN                     NaN   \n",
       "model_dice                               NaN                0.080263   \n",
       "model_entropy                            NaN                     NaN   \n",
       "res_model_dice                           NaN                0.054056   \n",
       "res_model_entropy                        NaN                     NaN   \n",
       "attention_model_dice                0.392766                0.029385   \n",
       "attention_model_entropy                  NaN                     NaN   \n",
       "\n",
       "                        model_dice model_entropy res_model_dice  \\\n",
       "efficient_model_dice      0.412931      0.000786       0.497871   \n",
       "efficient_model_entropy        NaN      0.071099            NaN   \n",
       "model_dice                     NaN       0.00179            NaN   \n",
       "model_entropy                  NaN           NaN            NaN   \n",
       "res_model_dice            0.416162      0.000923            NaN   \n",
       "res_model_entropy              NaN      0.494867            NaN   \n",
       "attention_model_dice      0.312706      0.000321       0.392178   \n",
       "attention_model_entropy        NaN      0.200584            NaN   \n",
       "\n",
       "                        res_model_entropy attention_model_dice  \\\n",
       "efficient_model_dice             0.000839                  NaN   \n",
       "efficient_model_entropy          0.073198                  NaN   \n",
       "model_dice                       0.001897                  NaN   \n",
       "model_entropy                         NaN                  NaN   \n",
       "res_model_dice                   0.000983                  NaN   \n",
       "res_model_entropy                     NaN                  NaN   \n",
       "attention_model_dice             0.000344                  NaN   \n",
       "attention_model_entropy          0.204652                  NaN   \n",
       "\n",
       "                        attention_model_entropy  \n",
       "efficient_model_dice                   0.010123  \n",
       "efficient_model_entropy                0.259915  \n",
       "model_dice                             0.018719  \n",
       "model_entropy                               NaN  \n",
       "res_model_dice                         0.011144  \n",
       "res_model_entropy                           NaN  \n",
       "attention_model_dice                   0.004949  \n",
       "attention_model_entropy                     NaN  "
      ]
     },
     "metadata": {},
     "output_type": "display_data"
    }
   ],
   "source": [
    "for key in p_values_dict.keys():\n",
    "    print(key)\n",
    "    display(p_values_dict[key])"
   ]
  },
  {
   "cell_type": "markdown",
   "id": "70632d5c-2859-423d-ae07-7f38dce9840a",
   "metadata": {},
   "source": [
    "While the above results are useful, they are over whelming. Also, many of the comparisons do not have statistical significance. Using the Tukey HSD would have been a better option here because of the issue of false discovery rate and the p-value needing a correction for multiple tests.\n",
    "## Comparison of IoU between models\n",
    "Next we combine the areas of interest into one set of samples, this simplifies the results so that we can just focus on analyzing the IoU differences between the models. This is marginalizing over the areas of interest and categories of building and roads.\n",
    "\n",
    "Below we plot the IoU histograms side by side for each of the models, and report their mean and standard deviation:"
   ]
  },
  {
   "cell_type": "code",
   "execution_count": 15,
   "id": "17db5f06-7df7-45c6-acfa-c5d51a6e8c91",
   "metadata": {},
   "outputs": [
    {
     "data": {
      "image/png": "[encoded data removed]",
      "text/plain": [
       "<Figure size 432x288 with 1 Axes>"
      ]
     },
     "metadata": {
      "needs_background": "light"
     },
     "output_type": "display_data"
    },
    {
     "data": {
      "image/png": "[encoded data removed]",
      "text/plain": [
       "<Figure size 432x288 with 1 Axes>"
      ]
     },
     "metadata": {
      "needs_background": "light"
     },
     "output_type": "display_data"
    },
    {
     "data": {
      "image/png": "[encoded data removed]",
      "text/plain": [
       "<Figure size 432x288 with 1 Axes>"
      ]
     },
     "metadata": {
      "needs_background": "light"
     },
     "output_type": "display_data"
    },
    {
     "data": {
      "image/png": "[encoded data removed]",
      "text/plain": [
       "<Figure size 432x288 with 1 Axes>"
      ]
     },
     "metadata": {
      "needs_background": "light"
     },
     "output_type": "display_data"
    },
    {
     "data": {
      "image/png": "[encoded data removed]",
      "text/plain": [
       "<Figure size 432x288 with 1 Axes>"
      ]
     },
     "metadata": {
      "needs_background": "light"
     },
     "output_type": "display_data"
    },
    {
     "data": {
      "image/png": "[encoded data removed]",
      "text/plain": [
       "<Figure size 432x288 with 1 Axes>"
      ]
     },
     "metadata": {
      "needs_background": "light"
     },
     "output_type": "display_data"
    },
    {
     "data": {
      "image/png": "[encoded data removed]",
      "text/plain": [
       "<Figure size 432x288 with 1 Axes>"
      ]
     },
     "metadata": {
      "needs_background": "light"
     },
     "output_type": "display_data"
    },
    {
     "data": {
      "image/png": "[encoded data removed]",
      "text/plain": [
       "<Figure size 432x288 with 1 Axes>"
      ]
     },
     "metadata": {
      "needs_background": "light"
     },
     "output_type": "display_data"
    },
    {
     "data": {
      "text/html": [
       "<div>\n",
       "<style scoped>\n",
       "    .dataframe tbody tr th:only-of-type {\n",
       "        vertical-align: middle;\n",
       "    }\n",
       "\n",
       "    .dataframe tbody tr th {\n",
       "        vertical-align: top;\n",
       "    }\n",
       "\n",
       "    .dataframe thead th {\n",
       "        text-align: right;\n",
       "    }\n",
       "</style>\n",
       "<table border=\"1\" class=\"dataframe\">\n",
       "  <thead>\n",
       "    <tr style=\"text-align: right;\">\n",
       "      <th></th>\n",
       "      <th>Mean IoU</th>\n",
       "      <th>Median IoU</th>\n",
       "    </tr>\n",
       "  </thead>\n",
       "  <tbody>\n",
       "    <tr>\n",
       "      <th>efficient_model_dice</th>\n",
       "      <td>0.641711</td>\n",
       "      <td>0.672685</td>\n",
       "    </tr>\n",
       "    <tr>\n",
       "      <th>attention_model_dice</th>\n",
       "      <td>0.64171</td>\n",
       "      <td>0.674649</td>\n",
       "    </tr>\n",
       "    <tr>\n",
       "      <th>model_dice</th>\n",
       "      <td>0.641359</td>\n",
       "      <td>0.673929</td>\n",
       "    </tr>\n",
       "    <tr>\n",
       "      <th>attention_model_entropy</th>\n",
       "      <td>0.631864</td>\n",
       "      <td>0.67001</td>\n",
       "    </tr>\n",
       "    <tr>\n",
       "      <th>res_model_dice</th>\n",
       "      <td>0.631679</td>\n",
       "      <td>0.668062</td>\n",
       "    </tr>\n",
       "    <tr>\n",
       "      <th>efficient_model_entropy</th>\n",
       "      <td>0.631089</td>\n",
       "      <td>0.665956</td>\n",
       "    </tr>\n",
       "    <tr>\n",
       "      <th>model_entropy</th>\n",
       "      <td>0.630185</td>\n",
       "      <td>0.665946</td>\n",
       "    </tr>\n",
       "    <tr>\n",
       "      <th>res_model_entropy</th>\n",
       "      <td>0.627079</td>\n",
       "      <td>0.666237</td>\n",
       "    </tr>\n",
       "  </tbody>\n",
       "</table>\n",
       "</div>"
      ],
      "text/plain": [
       "                         Mean IoU Median IoU\n",
       "efficient_model_dice     0.641711   0.672685\n",
       "attention_model_dice      0.64171   0.674649\n",
       "model_dice               0.641359   0.673929\n",
       "attention_model_entropy  0.631864    0.67001\n",
       "res_model_dice           0.631679   0.668062\n",
       "efficient_model_entropy  0.631089   0.665956\n",
       "model_entropy            0.630185   0.665946\n",
       "res_model_entropy        0.627079   0.666237"
      ]
     },
     "execution_count": 15,
     "metadata": {},
     "output_type": "execute_result"
    }
   ],
   "source": [
    "combined_data = {}\n",
    "iou_stats = pd.DataFrame(index=models, columns=['Mean IoU','Median IoU'])\n",
    "for area in areas_of_interest:\n",
    "    for m1 in models:\n",
    "        if m1 not in combined_data.keys():\n",
    "             combined_data[m1]= []\n",
    "        combined_data[m1] += list(model_metrics[m1]['road_iou'][area]) + list(model_metrics[m1]['building_iou'][area])\n",
    "for m1 in models:\n",
    "    sns.histplot(x=combined_data[m1], bins=np.arange(0, 1, 0.05), label=f'{m1}', color='navy', legend=m1)\n",
    "    plt.xlim([0,1])\n",
    "    plt.ylim([0, 4000])\n",
    "    plt.axvline(np.mean(combined_data[m1]), label='mean', c ='red')\n",
    "    plt.axvline(np.median(combined_data[m1]), label='median', c='green')\n",
    "    plt.xlabel(\"IoU\")\n",
    "    plt.legend()\n",
    "    plt.show()\n",
    "    iou_stats.loc[m1, 'Mean IoU'] =  np.mean(combined_data[m1])\n",
    "    iou_stats.loc[m1, 'Median IoU'] = np.median(combined_data[m1])\n",
    "iou_stats.sort_values('Mean IoU', ascending=False, inplace=True)\n",
    "iou_stats"
   ]
  },
  {
   "cell_type": "markdown",
   "id": "d6b3212b-c62e-4862-8224-3dd3f6f14149",
   "metadata": {},
   "source": [
    "Above you can see the differences appear quite small, and it is difficult to compare by eyes. However, if you pay attention, you will notice that models using the cross entropy have a lower mean and median than models using the dice loss.\n",
    "\n",
    "\n",
    "Now we do a pair-wise t-test, we then plot the p-values. \n",
    "\n",
    "We mask the p-values where the mean in the model for the columns is less or equal to the mean for the model in the rows."
   ]
  },
  {
   "cell_type": "code",
   "execution_count": 16,
   "id": "60802cd8-d2c6-47ea-9ab4-085cf5c617ee",
   "metadata": {},
   "outputs": [
    {
     "data": {
      "image/png": "[encoded data removed]",
      "text/plain": [
       "<Figure size 1080x1080 with 2 Axes>"
      ]
     },
     "metadata": {
      "needs_background": "light"
     },
     "output_type": "display_data"
    }
   ],
   "source": [
    "p_values = pd.DataFrame(index=models, columns=models, dtype=float)  \n",
    "\n",
    "for m1, m2 in pairs:\n",
    "    if m1 != m2:\n",
    "        if np.mean(combined_data[m1]) > np.mean(combined_data[m2]):\n",
    "            _, p_val = stats.ttest_ind(combined_data[m1], combined_data[m2], alternative ='greater')\n",
    "            p_values.loc[m1, m2] = p_val\n",
    "            p_values.loc[m2, m1] = np.nan\n",
    "        else:\n",
    "            _, p_val = stats.ttest_ind(combined_data[m1], combined_data[m2], alternative ='greater')\n",
    "            p_values.loc[m2, m1] = p_val\n",
    "            p_values.loc[m1, m2] = np.nan\n",
    "plt.figure(figsize=(15, 15))\n",
    "plt.title('p-value (hypothesis: models on the rows have a greater IoU)')\n",
    "sns.heatmap(p_values, mask = np.isnan(p_values), annot=True)\n",
    "plt.show()"
   ]
  },
  {
   "cell_type": "markdown",
   "id": "bb725d4b-99e1-49e4-ad2a-551d4928bdea",
   "metadata": {},
   "source": [
    "While this is insightful, it doesn't account for the fact that we are doing multiple pair-wise t-tests tests. When doing multiple pair-wise p-value comparisons, we need to correct for the false discovery rate.\n",
    "There is still quite a lot of complexity in plotting this matrix.\n",
    "\n",
    "## Tukey HSD\n",
    "To fix both the issue of false discovery rate and complexity, we use the Tukey HSD pair-wise test:"
   ]
  },
  {
   "cell_type": "code",
   "execution_count": 17,
   "id": "23005075-1e50-4c38-9476-f0ef9762cbb2",
   "metadata": {},
   "outputs": [],
   "source": [
    "from statsmodels.stats.multicomp import MultiComparison\n",
    "input_data = []\n",
    "input_group = []\n",
    "for k in combined_data.keys():\n",
    "    input_data += list(combined_data[k])\n",
    "    input_group += [k for l in range(len(combined_data[k]))]\n",
    "comp = MultiComparison(input_data, input_group)\n",
    "tukey_hsd_results = comp.tukeyhsd()"
   ]
  },
  {
   "cell_type": "markdown",
   "id": "6987c1c0-c36c-4630-88ed-75f089e55e55",
   "metadata": {},
   "source": [
    "There are two major outputs from the Tukey HSD:\n",
    "1. The first is a plot of the mean IoU score with associated error bars for each model, when the error bras don't overlap we can say there is a significant difference between two models.\n",
    "2. The below plots are much simpler. There are three plots that are identical in data, but showing how model_dice, efficient_model_dice, and attention_model_dice have a statistically significant larger IoU on average than the other models."
   ]
  },
  {
   "cell_type": "code",
   "execution_count": 18,
   "id": "79c6a378-063b-4d8f-bc6d-cdda55cb0a52",
   "metadata": {},
   "outputs": [
    {
     "data": {
      "image/png": "[encoded data removed]",
      "text/plain": [
       "<Figure size 1224x360 with 3 Axes>"
      ]
     },
     "metadata": {
      "needs_background": "light"
     },
     "output_type": "display_data"
    }
   ],
   "source": [
    "from matplotlib.patches import Patch\n",
    "fig, ax = plt.subplots(1,3)\n",
    "tukey_hsd_results.plot_simultaneous(comparison_name='model_dice', ax=ax[0], xlabel='Mean IoU Score')\n",
    "tukey_hsd_results.plot_simultaneous(comparison_name='efficient_model_dice', ax=ax[1], xlabel='Mean IoU Score')\n",
    "tukey_hsd_results.plot_simultaneous(comparison_name='attention_model_dice', ax=ax[2], xlabel='Mean IoU Score', figsize=(17, 5))\n",
    "ax[0].set_title('')\n",
    "ax[1].set_title('')\n",
    "ax[2].set_title('')\n",
    "fig.suptitle(\"Tukey HSD Comparison\")\n",
    "ax[0].legend(handles=[Patch(facecolor='blue', edgecolor='blue',\n",
    "                         label='model_dice'), Patch(facecolor='grey', edgecolor='grey',\n",
    "                         label='Comparable'), Patch(facecolor='red', edgecolor='red',\n",
    "                         label='Less')], loc=\"upper right\")\n",
    "ax[1].legend(handles=[Patch(facecolor='blue', edgecolor='blue',\n",
    "                         label='efficient_model_dice'), Patch(facecolor='grey', edgecolor='grey',\n",
    "                         label='Comparable'), Patch(facecolor='red', edgecolor='red',\n",
    "                         label='Less')], loc=\"upper right\")\n",
    "ax[2].legend(handles=[Patch(facecolor='blue', edgecolor='blue',\n",
    "                         label='attention_model_dice'), Patch(facecolor='grey', edgecolor='grey',\n",
    "                         label='Comparable'), Patch(facecolor='red', edgecolor='red',\n",
    "                         label='Less')], loc=\"upper right\")\n",
    "ax[1].axes.get_yaxis().set_visible(False)\n",
    "ax[2].axes.get_yaxis().set_visible(False)\n",
    "plt.show()"
   ]
  },
  {
   "cell_type": "markdown",
   "id": "82e89603-93bd-4885-9754-d02284e80736",
   "metadata": {},
   "source": [
    "What we are seeing that the dice loss performs better than the categorical cross-entropy for providing a higher IoU on average per an image, unless using a residual UNet model with a dice loss.\n",
    "\n",
    "The dice loss has a similar form to the IoU metric, this might be why it appears to perform better. For example, minimizing the dice loss might lead to a larger IoU by construction.\n",
    "One issue with the binary cross-entropy, is that the categories are not balanced. Most of the pixels in an image will not be a building or a road. This makes metrics, such as accuracy not reliable.\n",
    "\n",
    "The same results that are displayed above are shown in the table below, where we can see if we can reject the null-hypothesis that two means are the same."
   ]
  },
  {
   "cell_type": "code",
   "execution_count": 19,
   "id": "641e9850-b961-484c-9eaf-a73ebfe964b9",
   "metadata": {},
   "outputs": [
    {
     "data": {
      "text/html": [
       "<table class=\"simpletable\">\n",
       "<caption>Multiple Comparison of Means - Tukey HSD, FWER=0.05</caption>\n",
       "<tr>\n",
       "          <th>group1</th>                  <th>group2</th>          <th>meandiff</th>  <th>p-adj</th>  <th>lower</th>   <th>upper</th>  <th>reject</th>\n",
       "</tr>\n",
       "<tr>\n",
       "   <td>attention_model_dice</td>   <td>attention_model_entropy</td>  <td>-0.0098</td>   <td>0.0</td>  <td>-0.0146</td> <td>-0.0051</td>  <td>True</td> \n",
       "</tr>\n",
       "<tr>\n",
       "   <td>attention_model_dice</td>    <td>efficient_model_dice</td>      <td>0.0</td>     <td>1.0</td>  <td>-0.0047</td> <td>0.0047</td>   <td>False</td>\n",
       "</tr>\n",
       "<tr>\n",
       "   <td>attention_model_dice</td>   <td>efficient_model_entropy</td>  <td>-0.0106</td>   <td>0.0</td>  <td>-0.0153</td> <td>-0.0059</td>  <td>True</td> \n",
       "</tr>\n",
       "<tr>\n",
       "   <td>attention_model_dice</td>         <td>model_dice</td>         <td>-0.0004</td>   <td>1.0</td>  <td>-0.0051</td> <td>0.0044</td>   <td>False</td>\n",
       "</tr>\n",
       "<tr>\n",
       "   <td>attention_model_dice</td>        <td>model_entropy</td>       <td>-0.0115</td>   <td>0.0</td>  <td>-0.0163</td> <td>-0.0068</td>  <td>True</td> \n",
       "</tr>\n",
       "<tr>\n",
       "   <td>attention_model_dice</td>       <td>res_model_dice</td>        <td>-0.01</td>    <td>0.0</td>  <td>-0.0148</td> <td>-0.0053</td>  <td>True</td> \n",
       "</tr>\n",
       "<tr>\n",
       "   <td>attention_model_dice</td>      <td>res_model_entropy</td>     <td>-0.0146</td>   <td>0.0</td>  <td>-0.0194</td> <td>-0.0099</td>  <td>True</td> \n",
       "</tr>\n",
       "<tr>\n",
       "  <td>attention_model_entropy</td>  <td>efficient_model_dice</td>    <td>0.0098</td>    <td>0.0</td>  <td>0.0051</td>  <td>0.0146</td>   <td>True</td> \n",
       "</tr>\n",
       "<tr>\n",
       "  <td>attention_model_entropy</td> <td>efficient_model_entropy</td>  <td>-0.0008</td> <td>0.9997</td> <td>-0.0055</td>  <td>0.004</td>   <td>False</td>\n",
       "</tr>\n",
       "<tr>\n",
       "  <td>attention_model_entropy</td>       <td>model_dice</td>         <td>0.0095</td>    <td>0.0</td>  <td>0.0048</td>  <td>0.0142</td>   <td>True</td> \n",
       "</tr>\n",
       "<tr>\n",
       "  <td>attention_model_entropy</td>      <td>model_entropy</td>       <td>-0.0017</td> <td>0.9618</td> <td>-0.0064</td>  <td>0.003</td>   <td>False</td>\n",
       "</tr>\n",
       "<tr>\n",
       "  <td>attention_model_entropy</td>     <td>res_model_dice</td>       <td>-0.0002</td>   <td>1.0</td>  <td>-0.0049</td> <td>0.0045</td>   <td>False</td>\n",
       "</tr>\n",
       "<tr>\n",
       "  <td>attention_model_entropy</td>    <td>res_model_entropy</td>     <td>-0.0048</td> <td>0.0448</td> <td>-0.0095</td> <td>-0.0001</td>  <td>True</td> \n",
       "</tr>\n",
       "<tr>\n",
       "   <td>efficient_model_dice</td>   <td>efficient_model_entropy</td>  <td>-0.0106</td>   <td>0.0</td>  <td>-0.0153</td> <td>-0.0059</td>  <td>True</td> \n",
       "</tr>\n",
       "<tr>\n",
       "   <td>efficient_model_dice</td>         <td>model_dice</td>         <td>-0.0004</td>   <td>1.0</td>  <td>-0.0051</td> <td>0.0044</td>   <td>False</td>\n",
       "</tr>\n",
       "<tr>\n",
       "   <td>efficient_model_dice</td>        <td>model_entropy</td>       <td>-0.0115</td>   <td>0.0</td>  <td>-0.0163</td> <td>-0.0068</td>  <td>True</td> \n",
       "</tr>\n",
       "<tr>\n",
       "   <td>efficient_model_dice</td>       <td>res_model_dice</td>        <td>-0.01</td>    <td>0.0</td>  <td>-0.0148</td> <td>-0.0053</td>  <td>True</td> \n",
       "</tr>\n",
       "<tr>\n",
       "   <td>efficient_model_dice</td>      <td>res_model_entropy</td>     <td>-0.0146</td>   <td>0.0</td>  <td>-0.0194</td> <td>-0.0099</td>  <td>True</td> \n",
       "</tr>\n",
       "<tr>\n",
       "  <td>efficient_model_entropy</td>       <td>model_dice</td>         <td>0.0103</td>    <td>0.0</td>  <td>0.0055</td>   <td>0.015</td>   <td>True</td> \n",
       "</tr>\n",
       "<tr>\n",
       "  <td>efficient_model_entropy</td>      <td>model_entropy</td>       <td>-0.0009</td> <td>0.9991</td> <td>-0.0056</td> <td>0.0038</td>   <td>False</td>\n",
       "</tr>\n",
       "<tr>\n",
       "  <td>efficient_model_entropy</td>     <td>res_model_dice</td>       <td>0.0006</td>  <td>0.9999</td> <td>-0.0041</td> <td>0.0053</td>   <td>False</td>\n",
       "</tr>\n",
       "<tr>\n",
       "  <td>efficient_model_entropy</td>    <td>res_model_entropy</td>     <td>-0.004</td>  <td>0.1663</td> <td>-0.0087</td> <td>0.0007</td>   <td>False</td>\n",
       "</tr>\n",
       "<tr>\n",
       "        <td>model_dice</td>             <td>model_entropy</td>       <td>-0.0112</td>   <td>0.0</td>  <td>-0.0159</td> <td>-0.0064</td>  <td>True</td> \n",
       "</tr>\n",
       "<tr>\n",
       "        <td>model_dice</td>            <td>res_model_dice</td>       <td>-0.0097</td>   <td>0.0</td>  <td>-0.0144</td> <td>-0.005</td>   <td>True</td> \n",
       "</tr>\n",
       "<tr>\n",
       "        <td>model_dice</td>           <td>res_model_entropy</td>     <td>-0.0143</td>   <td>0.0</td>  <td>-0.019</td>  <td>-0.0096</td>  <td>True</td> \n",
       "</tr>\n",
       "<tr>\n",
       "       <td>model_entropy</td>          <td>res_model_dice</td>       <td>0.0015</td>  <td>0.9801</td> <td>-0.0032</td> <td>0.0062</td>   <td>False</td>\n",
       "</tr>\n",
       "<tr>\n",
       "       <td>model_entropy</td>         <td>res_model_entropy</td>     <td>-0.0031</td> <td>0.4874</td> <td>-0.0078</td> <td>0.0016</td>   <td>False</td>\n",
       "</tr>\n",
       "<tr>\n",
       "      <td>res_model_dice</td>         <td>res_model_entropy</td>     <td>-0.0046</td> <td>0.0631</td> <td>-0.0093</td> <td>0.0001</td>   <td>False</td>\n",
       "</tr>\n",
       "</table>"
      ],
      "text/plain": [
       "<class 'statsmodels.iolib.table.SimpleTable'>"
      ]
     },
     "execution_count": 19,
     "metadata": {},
     "output_type": "execute_result"
    }
   ],
   "source": [
    "tukey_hsd_results.summary()"
   ]
  },
  {
   "cell_type": "markdown",
   "id": "b6ebc03c-15f8-4270-af0f-25923b79ed93",
   "metadata": {},
   "source": [
    "# Conclusions\n",
    "We set out to compare different convolutional neural networks, and find out if we can get reasonable results.\n",
    "1. We cleaned, combined, and processed two different datasets. \n",
    "2. These datasets were then used to train convolutional neural networks to simultaneously extract buildings and road networks, through a process known as semantic segmentation. \n",
    "3. We used a UNet architecture, which has an encoder and decoder component with connections between the encoder and decoder layers.\n",
    "4. We compared 8 different models, the UNet, EfficientNet UNet, Attention-UNet, and Residual UNet models trained on two different loss functions.\n",
    "5. I found that the results improved when completely removed images that were missing either building or road labels, e.g., using partial label data is not a good idea! (but it was worth a try.)\n",
    "6. To compare the models we used the Intersection over Union (IoU) score which ranges between 0 to 1. It is a measure of how much the true and predicted feature extractions overlap.\n",
    "7. The IoU scores on median and average were greater than 0.62 on the test set. This means on average 38% of the structures do not overlap with the ground truth.\n",
    "8. The models perform differently on each area of interest, non-paved roads, angle of view, and objects obscuring buildings or roads can matter.\n",
    "9. A Tukey HSD test was used to find the best models: UNet, EfficientNet UNet, Attention-UNet using the dice loss performed better on average.\n",
    "\n",
    "# Discussion and Remarks\n",
    "There are many things that can still be explored and might improve the results in training these models. \n",
    "- Making use of stacking with the UNet models or some type of aggregation of an ensemble of models might help improve the result, this was shown to perform well in competitions. However, due to limited time it was not possible to train an ensemble of models.\n",
    "- It could be worth trying an ensemble method in the cloud, making use of AWS SageMaker and Spark.\n",
    "- There are a few other methods for semantic segmentation, like one called Mask R-CNN, that I could have tried using.\n",
    "- Rather than predict the pixel labels, I could have tried to predict the polygons directly. \n",
    "- There were a lot of images, and automated cleaning was used for the most part. Manually going through the images for quality assurance could help improve the results.\n",
    "- There are likely still issues with the road labels, I have seen a few images where the UNet detects a structure that could actually be a road but it is not labeled as a road. These will be difficult to find, but a manual quality assurance check could find these images.\n"
   ]
  }
 ],
 "metadata": {
  "kernelspec": {
   "display_name": "Python [conda env:tensorflow]",
   "language": "python",
   "name": "conda-env-tensorflow-py"
  },
  "language_info": {
   "codemirror_mode": {
    "name": "ipython",
    "version": 3
   },
   "file_extension": ".py",
   "mimetype": "text/x-python",
   "name": "python",
   "nbconvert_exporter": "python",
   "pygments_lexer": "ipython3",
   "version": "3.8.12"
  }
 },
 "nbformat": 4,
 "nbformat_minor": 5
}
