{
 "cells": [
  {
   "cell_type": "markdown",
   "id": "d1bce70b-641d-4de1-91bf-27ee08d429af",
   "metadata": {},
   "source": [
    "# Name: Luke Pratley\n",
    "\n",
    "## Statistical analysis of IoU scores\n",
    "The metric used to compare the detection against the ground truth is the [Intersection over Union](https://en.wikipedia.org/wiki/Jaccard_index) or IoU. It is a measure of how much the detection and ground truth labels overlap. The IoU is calculated as $${\\rm IoU} = \\frac{|Y \\cap \\hat{Y}|}{|Y \\cup \\hat{Y}|}\\, $$ where $Y$ is the set of predicted classifications and $\\hat{Y}$ is the set of ground truth classifications, and $|\\cdot|$ is the cardinally of a set.\n",
    "\n",
    "A high IoU score suggests that the predicted and the ground truth extracted features overlap, while a low IoU score suggests they do not."
   ]
  },
  {
   "cell_type": "markdown",
   "id": "54896669-f925-4a8c-9b53-14bcfc6c1c8a",
   "metadata": {},
   "source": [
    "First we import some libraries that we will find useful:"
   ]
  },
  {
   "cell_type": "code",
   "execution_count": 1,
   "id": "6420880d-2ddb-49d9-9b51-5ef3f1e0418f",
   "metadata": {},
   "outputs": [],
   "source": [
    "import pandas as pd\n",
    "import seaborn as sns\n",
    "import matplotlib.pyplot as plt\n",
    "import numpy as np\n",
    "\n",
    "from scipy import stats\n",
    "\n",
    "import pickle\n",
    "import itertools"
   ]
  },
  {
   "cell_type": "markdown",
   "id": "fe9e0f25-2813-4dc8-b1ef-d626435d30d5",
   "metadata": {},
   "source": [
    "Here we are opening the measured IoU metrics that have been saved from the trained models:"
   ]
  },
  {
   "cell_type": "code",
   "execution_count": 2,
   "id": "0d7cae63-f2b9-466d-a2ae-fc2222bb0eb1",
   "metadata": {},
   "outputs": [],
   "source": [
    "with open('iou_metric_test_results.pkl', 'rb') as file:\n",
    "    model_metrics = pickle.load(file)\n",
    "  "
   ]
  },
  {
   "cell_type": "code",
   "execution_count": 3,
   "id": "41f59e80-42e3-4a4e-a71e-227d3726ca93",
   "metadata": {},
   "outputs": [],
   "source": [
    "models = list(model_metrics.keys())\n",
    "iou_info = list(model_metrics[models[0]].keys())\n",
    "areas_of_interest = list(model_metrics[models[0]][iou_info[0]].keys())"
   ]
  },
  {
   "cell_type": "markdown",
   "id": "6413f89b-85a4-4e79-9bc8-00db176a50df",
   "metadata": {},
   "source": [
    "The models are:"
   ]
  },
  {
   "cell_type": "code",
   "execution_count": 4,
   "id": "aa14e55d-ccc4-42ea-ad3b-bf78722fc0d4",
   "metadata": {},
   "outputs": [
    {
     "data": {
      "text/plain": [
       "['efficient_model_dice',\n",
       " 'efficient_model_entropy',\n",
       " 'model_dice',\n",
       " 'model_entropy',\n",
       " 'res_model_dice',\n",
       " 'res_model_entropy',\n",
       " 'attention_model_dice',\n",
       " 'attention_model_entropy']"
      ]
     },
     "execution_count": 4,
     "metadata": {},
     "output_type": "execute_result"
    }
   ],
   "source": [
    "models"
   ]
  },
  {
   "cell_type": "markdown",
   "id": "3ef80f15-3ffa-4a97-b5e7-897aa5febb82",
   "metadata": {},
   "source": [
    "Information relating to the IoU metrics that we have loaded. We have the file path for each road and building IoU metric and the corresponding index for that file."
   ]
  },
  {
   "cell_type": "code",
   "execution_count": 5,
   "id": "61378093-3ef1-4cc7-a6c5-681c04189a0e",
   "metadata": {},
   "outputs": [
    {
     "data": {
      "text/plain": [
       "['road_iou',\n",
       " 'building_iou',\n",
       " 'road_file',\n",
       " 'road_index',\n",
       " 'building_file',\n",
       " 'building_index']"
      ]
     },
     "execution_count": 5,
     "metadata": {},
     "output_type": "execute_result"
    }
   ],
   "source": [
    "iou_info"
   ]
  },
  {
   "cell_type": "markdown",
   "id": "57dc0aa0-ccfc-4b1a-b12e-529741693424",
   "metadata": {},
   "source": [
    "We have the area of interest for the particular IoU that was measured:"
   ]
  },
  {
   "cell_type": "code",
   "execution_count": 6,
   "id": "9a54db89-4cc5-43a3-9991-02706228e768",
   "metadata": {},
   "outputs": [
    {
     "data": {
      "text/plain": [
       "['AOI_2_Vegas', 'AOI_3_Paris', 'AOI_4_Shanghai', 'AOI_5_Khartoum']"
      ]
     },
     "execution_count": 6,
     "metadata": {},
     "output_type": "execute_result"
    }
   ],
   "source": [
    "areas_of_interest"
   ]
  },
  {
   "cell_type": "code",
   "execution_count": 7,
   "id": "ea9654a7-53d5-4cd3-9185-1ccebc168506",
   "metadata": {},
   "outputs": [],
   "source": [
    "def plot_metrics(model_metrics, model_name):\n",
    "    \"\"\"\n",
    "    A function that plots the IoU metrics \n",
    "    for each model and area of interest \n",
    "    for roads and buildings.\n",
    "    \n",
    "    Inputs:\n",
    "        model_metrics: the dictionary containing the saved IoU scores for each image.\n",
    "        model_name: the name of the model which is used as a dictionary key for model_metrics\n",
    "    \"\"\"\n",
    "    fig, ax = plt.subplots(1, 4, sharex=True, sharey=True, figsize=(10, 2))\n",
    "    plt.suptitle(f'Road Average IoU per Image ({model_name})')\n",
    "    ax = np.ravel(ax)\n",
    "    all_values = []\n",
    "    for k, key in enumerate(model_metrics[model_name]['road_iou'].keys()):\n",
    "        all_values = np.concatenate((all_values, model_metrics[model_name]['road_iou'][key]))\n",
    "        model_metrics[model_name]['road_iou'][key] = np.array(model_metrics[model_name]['road_iou'][key])   \n",
    "        ax[k].hist(model_metrics[model_name]['road_iou'][key], density=True, alpha=0.5, bins=np.arange(0, 1.05, 0.05), label=key, color=['green', 'red', 'navy', 'purple'][k])\n",
    "        ax[k].legend()\n",
    "        ax[k].set_xlabel('IoU')\n",
    "        ax[k].axvline(np.median(model_metrics[model_name]['road_iou'][key]))\n",
    "    print(f'The median IoU for roads is {np.median(all_values): 0.4f}')\n",
    "    ax[0].set_ylabel('Density')\n",
    "    plt.show()\n",
    "    all_values = []\n",
    "    fig, ax = plt.subplots(1, 4, sharex=True, sharey=True, figsize=(10, 2))\n",
    "    fig.suptitle(f'Building Average IoU per Image ({model_name})')\n",
    "    ax = np.ravel(ax)\n",
    "    for k, key in enumerate(model_metrics[model_name]['building_iou'].keys()):\n",
    "        all_values = np.concatenate((all_values, model_metrics[model_name]['building_iou'][key]))\n",
    "        model_metrics[model_name]['building_iou'][key] = np.array(model_metrics[model_name]['building_iou'][key])\n",
    "        ax[k].hist(model_metrics[model_name]['building_iou'][key], density=True, alpha=0.5, bins=np.arange(0, 1.05, 0.05), label=key, color=['green', 'red', 'navy', 'purple'][k])\n",
    "        ax[k].legend()\n",
    "        ax[k].set_xlabel('IoU')\n",
    "        ax[k].axvline(np.median(model_metrics[model_name]['building_iou'][key]))\n",
    "    print(f'The median IoU for buildings is {np.median(all_values): 0.4f}')\n",
    "    ax[0].set_ylabel('Density')\n",
    "    plt.show()"
   ]
  },
  {
   "cell_type": "markdown",
   "id": "dda60ce3-5762-486e-9b65-6d8f520fcd64",
   "metadata": {},
   "source": [
    "Here we plot histograms of the results calculated above. The vertical blue line shows the location of the median IoU for each area of interest.\n",
    "\n",
    "The printed out IoU value is the median for all images in the dataset."
   ]
  },
  {
   "cell_type": "code",
   "execution_count": 8,
   "id": "44c83086-5531-4573-93a2-3b426980d5cb",
   "metadata": {},
   "outputs": [
    {
     "name": "stdout",
     "output_type": "stream",
     "text": [
      "efficient_model_dice\n",
      "The median IoU for roads is  0.6574\n"
     ]
    },
    {
     "data": {
      "image/png": "[encoded data removed]",
      "text/plain": [
       "<Figure size 720x144 with 4 Axes>"
      ]
     },
     "metadata": {
      "needs_background": "light"
     },
     "output_type": "display_data"
    },
    {
     "name": "stdout",
     "output_type": "stream",
     "text": [
      "The median IoU for buildings is  0.6892\n"
     ]
    },
    {
     "data": {
      "image/png": "[encoded data removed]",
      "text/plain": [
       "<Figure size 720x144 with 4 Axes>"
      ]
     },
     "metadata": {
      "needs_background": "light"
     },
     "output_type": "display_data"
    },
    {
     "name": "stdout",
     "output_type": "stream",
     "text": [
      "efficient_model_entropy\n",
      "The median IoU for roads is  0.6518\n"
     ]
    },
    {
     "data": {
      "image/png": "[encoded data removed]",
      "text/plain": [
       "<Figure size 720x144 with 4 Axes>"
      ]
     },
     "metadata": {
      "needs_background": "light"
     },
     "output_type": "display_data"
    },
    {
     "name": "stdout",
     "output_type": "stream",
     "text": [
      "The median IoU for buildings is  0.6827\n"
     ]
    },
    {
     "data": {
      "image/png": "[encoded data removed]",
      "text/plain": [
       "<Figure size 720x144 with 4 Axes>"
      ]
     },
     "metadata": {
      "needs_background": "light"
     },
     "output_type": "display_data"
    },
    {
     "name": "stdout",
     "output_type": "stream",
     "text": [
      "model_dice\n",
      "The median IoU for roads is  0.6569\n"
     ]
    },
    {
     "data": {
      "image/png": "[encoded data removed]",
      "text/plain": [
       "<Figure size 720x144 with 4 Axes>"
      ]
     },
     "metadata": {
      "needs_background": "light"
     },
     "output_type": "display_data"
    },
    {
     "name": "stdout",
     "output_type": "stream",
     "text": [
      "The median IoU for buildings is  0.6917\n"
     ]
    },
    {
     "data": {
      "image/png": "[encoded data removed]",
      "text/plain": [
       "<Figure size 720x144 with 4 Axes>"
      ]
     },
     "metadata": {
      "needs_background": "light"
     },
     "output_type": "display_data"
    },
    {
     "name": "stdout",
     "output_type": "stream",
     "text": [
      "model_entropy\n",
      "The median IoU for roads is  0.6481\n"
     ]
    },
    {
     "data": {
      "image/png": "[encoded data removed]",
      "text/plain": [
       "<Figure size 720x144 with 4 Axes>"
      ]
     },
     "metadata": {
      "needs_background": "light"
     },
     "output_type": "display_data"
    },
    {
     "name": "stdout",
     "output_type": "stream",
     "text": [
      "The median IoU for buildings is  0.6861\n"
     ]
    },
    {
     "data": {
      "image/png": "[encoded data removed]",
      "text/plain": [
       "<Figure size 720x144 with 4 Axes>"
      ]
     },
     "metadata": {
      "needs_background": "light"
     },
     "output_type": "display_data"
    },
    {
     "name": "stdout",
     "output_type": "stream",
     "text": [
      "res_model_dice\n",
      "The median IoU for roads is  0.6585\n"
     ]
    },
    {
     "data": {
      "image/png": "[encoded data removed]",
      "text/plain": [
       "<Figure size 720x144 with 4 Axes>"
      ]
     },
     "metadata": {
      "needs_background": "light"
     },
     "output_type": "display_data"
    },
    {
     "name": "stdout",
     "output_type": "stream",
     "text": [
      "The median IoU for buildings is  0.6787\n"
     ]
    },
    {
     "data": {
      "image/png": "[encoded data removed]",
      "text/plain": [
       "<Figure size 720x144 with 4 Axes>"
      ]
     },
     "metadata": {
      "needs_background": "light"
     },
     "output_type": "display_data"
    },
    {
     "name": "stdout",
     "output_type": "stream",
     "text": [
      "res_model_entropy\n",
      "The median IoU for roads is  0.6518\n"
     ]
    },
    {
     "data": {
      "image/png": "[encoded data removed]",
      "text/plain": [
       "<Figure size 720x144 with 4 Axes>"
      ]
     },
     "metadata": {
      "needs_background": "light"
     },
     "output_type": "display_data"
    },
    {
     "name": "stdout",
     "output_type": "stream",
     "text": [
      "The median IoU for buildings is  0.6827\n"
     ]
    },
    {
     "data": {
      "image/png": "[encoded data removed]",
      "text/plain": [
       "<Figure size 720x144 with 4 Axes>"
      ]
     },
     "metadata": {
      "needs_background": "light"
     },
     "output_type": "display_data"
    },
    {
     "name": "stdout",
     "output_type": "stream",
     "text": [
      "attention_model_dice\n",
      "The median IoU for roads is  0.6602\n"
     ]
    },
    {
     "data": {
      "image/png": "[encoded data removed]",
      "text/plain": [
       "<Figure size 720x144 with 4 Axes>"
      ]
     },
     "metadata": {
      "needs_background": "light"
     },
     "output_type": "display_data"
    },
    {
     "name": "stdout",
     "output_type": "stream",
     "text": [
      "The median IoU for buildings is  0.6879\n"
     ]
    },
    {
     "data": {
      "image/png": "[encoded data removed]",
      "text/plain": [
       "<Figure size 720x144 with 4 Axes>"
      ]
     },
     "metadata": {
      "needs_background": "light"
     },
     "output_type": "display_data"
    },
    {
     "name": "stdout",
     "output_type": "stream",
     "text": [
      "attention_model_entropy\n",
      "The median IoU for roads is  0.6609\n"
     ]
    },
    {
     "data": {
      "image/png": "[encoded data removed]",
      "text/plain": [
       "<Figure size 720x144 with 4 Axes>"
      ]
     },
     "metadata": {
      "needs_background": "light"
     },
     "output_type": "display_data"
    },
    {
     "name": "stdout",
     "output_type": "stream",
     "text": [
      "The median IoU for buildings is  0.6815\n"
     ]
    },
    {
     "data": {
      "image/png": "[encoded data removed]",
      "text/plain": [
       "<Figure size 720x144 with 4 Axes>"
      ]
     },
     "metadata": {
      "needs_background": "light"
     },
     "output_type": "display_data"
    }
   ],
   "source": [
    "for model_name in models:\n",
    "        print(model_name)\n",
    "        plot_metrics(model_metrics, model_name)"
   ]
  },
  {
   "cell_type": "markdown",
   "id": "96bb7c07-1feb-418e-bcaf-a2d69d32469b",
   "metadata": {},
   "source": [
    "Above we can compare see a comparison for the distribution of IoU scores per an image, between areas of interest for both building and road extraction. While the building detection has a higher median IoU score than road detection, the IoU distribution varies from city to city. For example, Paris and Shanghai are particularly challenging in detecting buildings with their median IoU scores appearing closer to 0.5. However, Las Vegas shows a stronger performance with its IoU score distribution for both roads and buildings with a higher median score and with less scatter in the IoU distribution."
   ]
  },
  {
   "cell_type": "markdown",
   "id": "6c83e3ee-1cbd-4c49-a08d-9c38c2024f5b",
   "metadata": {},
   "source": [
    "Now we are creating a list of unique pairs for the model comparisons:"
   ]
  },
  {
   "cell_type": "code",
   "execution_count": 9,
   "id": "c7493f9f-7693-48c3-a335-db45d78ed048",
   "metadata": {},
   "outputs": [],
   "source": [
    "pairs = list(itertools.product(models, models))\n",
    "for p in pairs:\n",
    "    p2 = (p[1], p[0])\n",
    "    if p2 in pairs:\n",
    "        pairs.remove(p)"
   ]
  },
  {
   "cell_type": "code",
   "execution_count": 10,
   "id": "5ff25e91-344b-47c3-a877-64af1ade380d",
   "metadata": {},
   "outputs": [
    {
     "name": "stdout",
     "output_type": "stream",
     "text": [
      "There are 38 model pairs that are unique.\n"
     ]
    }
   ],
   "source": [
    "print(f'There are {len(pairs)} model pairs that are unique.')"
   ]
  },
  {
   "cell_type": "markdown",
   "id": "4bb59b06-a4fa-4bf4-b41a-3a8ee3399433",
   "metadata": {
    "tags": []
   },
   "source": [
    "## Comparison of models by Area of Interest and by category (e.g., road or building extraction)\n",
    "\n",
    "Below we plot out the histogram of IoU (per image) for the test data set. We compare models pairwise and set the alpha value of each histogram to 0.5. The overlapping region is darker making it easier to see the difference in the lighter regions.\n",
    "\n",
    "We also record the pairwise p-value using Student's t-test. The null hypothesis is that one model has an average IoU is less than or equal to the other model. If the p-value is less than 0.05, we can reject the null-hypothesis and conclude that one model has a larger IoU than the other on average. For obvious reasons, we only perform the test for the case where the mean IoU of one model is greater than the other model.\n",
    "\n",
    "### Roads\n",
    "\n",
    "We first compare the IoU for extracted roads and then we can compare the IoU for extracted buildings:"
   ]
  },
  {
   "cell_type": "code",
   "execution_count": 11,
   "id": "6f9fe9f5-96b6-4644-af4b-7557f9de88e1",
   "metadata": {
    "tags": []
   },
   "outputs": [],
   "source": [
    "p_values_dict = {}\n",
    "for area in areas_of_interest:\n",
    "    p_values_dict[area] = pd.DataFrame(index=models, columns=models)\n",
    "    for m1, m2 in pairs:\n",
    "        if m1 != m2:\n",
    "            if (np.mean(model_metrics[m1]['road_iou'][area]) > np.mean(model_metrics[m2]['road_iou'][area])):\n",
    "                _, p_val = stats.ttest_ind(model_metrics[m1]['road_iou'][area], model_metrics[m2]['road_iou'][area], alternative ='greater')\n",
    "                p_values_dict[area].loc[m2, m1] = p_val\n",
    "            else:\n",
    "                _, p_val = stats.ttest_ind(model_metrics[m2]['road_iou'][area], model_metrics[m1]['road_iou'][area], alternative ='greater')\n",
    "                p_values_dict[area].loc[m1, m2] = p_val"
   ]
  },
  {
   "cell_type": "markdown",
   "id": "2f7d3c2f-ab46-45d4-a8f0-06c6dfca9482",
   "metadata": {},
   "source": [
    "Below we present a table of p-values testing if the models in the rows have a greater IoU than the models in the columns on average. This is limited to comparing roads. We only compare the cases where the mean IoU of one model is measured to be greater than another. If p-value is less than 0.05 this is what we can conclude this to be statistically significant."
   ]
  },
  {
   "cell_type": "code",
   "execution_count": 12,
   "id": "d23e439e-7a9f-4dbf-aede-3be6ae646b05",
   "metadata": {},
   "outputs": [
    {
     "name": "stdout",
     "output_type": "stream",
     "text": [
      "AOI_2_Vegas\n"
     ]
    },
    {
     "data": {
      "text/html": [
       "<div>\n",
       "<style scoped>\n",
       "    .dataframe tbody tr th:only-of-type {\n",
       "        vertical-align: middle;\n",
       "    }\n",
       "\n",
       "    .dataframe tbody tr th {\n",
       "        vertical-align: top;\n",
       "    }\n",
       "\n",
       "    .dataframe thead th {\n",
       "        text-align: right;\n",
       "    }\n",
       "</style>\n",
       "<table border=\"1\" class=\"dataframe\">\n",
       "  <thead>\n",
       "    <tr style=\"text-align: right;\">\n",
       "      <th></th>\n",
       "      <th>efficient_model_dice</th>\n",
       "      <th>efficient_model_entropy</th>\n",
       "      <th>model_dice</th>\n",
       "      <th>model_entropy</th>\n",
       "      <th>res_model_dice</th>\n",
       "      <th>res_model_entropy</th>\n",
       "      <th>attention_model_dice</th>\n",
       "      <th>attention_model_entropy</th>\n",
       "    </tr>\n",
       "  </thead>\n",
       "  <tbody>\n",
       "    <tr>\n",
       "      <th>efficient_model_dice</th>\n",
       "      <td>NaN</td>\n",
       "      <td>NaN</td>\n",
       "      <td>NaN</td>\n",
       "      <td>NaN</td>\n",
       "      <td>NaN</td>\n",
       "      <td>NaN</td>\n",
       "      <td>0.236838</td>\n",
       "      <td>0.07491</td>\n",
       "    </tr>\n",
       "    <tr>\n",
       "      <th>efficient_model_entropy</th>\n",
       "      <td>0.141697</td>\n",
       "      <td>NaN</td>\n",
       "      <td>0.175373</td>\n",
       "      <td>NaN</td>\n",
       "      <td>0.304599</td>\n",
       "      <td>NaN</td>\n",
       "      <td>0.035598</td>\n",
       "      <td>0.005729</td>\n",
       "    </tr>\n",
       "    <tr>\n",
       "      <th>model_dice</th>\n",
       "      <td>0.439994</td>\n",
       "      <td>NaN</td>\n",
       "      <td>NaN</td>\n",
       "      <td>NaN</td>\n",
       "      <td>NaN</td>\n",
       "      <td>NaN</td>\n",
       "      <td>0.190172</td>\n",
       "      <td>0.053855</td>\n",
       "    </tr>\n",
       "    <tr>\n",
       "      <th>model_entropy</th>\n",
       "      <td>0.13067</td>\n",
       "      <td>0.479476</td>\n",
       "      <td>0.162483</td>\n",
       "      <td>NaN</td>\n",
       "      <td>0.286971</td>\n",
       "      <td>NaN</td>\n",
       "      <td>0.031815</td>\n",
       "      <td>0.004964</td>\n",
       "    </tr>\n",
       "    <tr>\n",
       "      <th>res_model_dice</th>\n",
       "      <td>0.286985</td>\n",
       "      <td>NaN</td>\n",
       "      <td>0.338314</td>\n",
       "      <td>NaN</td>\n",
       "      <td>NaN</td>\n",
       "      <td>NaN</td>\n",
       "      <td>0.099046</td>\n",
       "      <td>0.022141</td>\n",
       "    </tr>\n",
       "    <tr>\n",
       "      <th>res_model_entropy</th>\n",
       "      <td>0.066644</td>\n",
       "      <td>0.329105</td>\n",
       "      <td>0.085675</td>\n",
       "      <td>0.347827</td>\n",
       "      <td>0.171761</td>\n",
       "      <td>NaN</td>\n",
       "      <td>0.012905</td>\n",
       "      <td>0.001619</td>\n",
       "    </tr>\n",
       "    <tr>\n",
       "      <th>attention_model_dice</th>\n",
       "      <td>NaN</td>\n",
       "      <td>NaN</td>\n",
       "      <td>NaN</td>\n",
       "      <td>NaN</td>\n",
       "      <td>NaN</td>\n",
       "      <td>NaN</td>\n",
       "      <td>NaN</td>\n",
       "      <td>0.231697</td>\n",
       "    </tr>\n",
       "    <tr>\n",
       "      <th>attention_model_entropy</th>\n",
       "      <td>NaN</td>\n",
       "      <td>NaN</td>\n",
       "      <td>NaN</td>\n",
       "      <td>NaN</td>\n",
       "      <td>NaN</td>\n",
       "      <td>NaN</td>\n",
       "      <td>NaN</td>\n",
       "      <td>NaN</td>\n",
       "    </tr>\n",
       "  </tbody>\n",
       "</table>\n",
       "</div>"
      ],
      "text/plain": [
       "                        efficient_model_dice efficient_model_entropy  \\\n",
       "efficient_model_dice                     NaN                     NaN   \n",
       "efficient_model_entropy             0.141697                     NaN   \n",
       "model_dice                          0.439994                     NaN   \n",
       "model_entropy                        0.13067                0.479476   \n",
       "res_model_dice                      0.286985                     NaN   \n",
       "res_model_entropy                   0.066644                0.329105   \n",
       "attention_model_dice                     NaN                     NaN   \n",
       "attention_model_entropy                  NaN                     NaN   \n",
       "\n",
       "                        model_dice model_entropy res_model_dice  \\\n",
       "efficient_model_dice           NaN           NaN            NaN   \n",
       "efficient_model_entropy   0.175373           NaN       0.304599   \n",
       "model_dice                     NaN           NaN            NaN   \n",
       "model_entropy             0.162483           NaN       0.286971   \n",
       "res_model_dice            0.338314           NaN            NaN   \n",
       "res_model_entropy         0.085675      0.347827       0.171761   \n",
       "attention_model_dice           NaN           NaN            NaN   \n",
       "attention_model_entropy        NaN           NaN            NaN   \n",
       "\n",
       "                        res_model_entropy attention_model_dice  \\\n",
       "efficient_model_dice                  NaN             0.236838   \n",
       "efficient_model_entropy               NaN             0.035598   \n",
       "model_dice                            NaN             0.190172   \n",
       "model_entropy                         NaN             0.031815   \n",
       "res_model_dice                        NaN             0.099046   \n",
       "res_model_entropy                     NaN             0.012905   \n",
       "attention_model_dice                  NaN                  NaN   \n",
       "attention_model_entropy               NaN                  NaN   \n",
       "\n",
       "                        attention_model_entropy  \n",
       "efficient_model_dice                    0.07491  \n",
       "efficient_model_entropy                0.005729  \n",
       "model_dice                             0.053855  \n",
       "model_entropy                          0.004964  \n",
       "res_model_dice                         0.022141  \n",
       "res_model_entropy                      0.001619  \n",
       "attention_model_dice                   0.231697  \n",
       "attention_model_entropy                     NaN  "
      ]
     },
     "metadata": {},
     "output_type": "display_data"
    },
    {
     "name": "stdout",
     "output_type": "stream",
     "text": [
      "AOI_3_Paris\n"
     ]
    },
    {
     "data": {
      "text/html": [
       "<div>\n",
       "<style scoped>\n",
       "    .dataframe tbody tr th:only-of-type {\n",
       "        vertical-align: middle;\n",
       "    }\n",
       "\n",
       "    .dataframe tbody tr th {\n",
       "        vertical-align: top;\n",
       "    }\n",
       "\n",
       "    .dataframe thead th {\n",
       "        text-align: right;\n",
       "    }\n",
       "</style>\n",
       "<table border=\"1\" class=\"dataframe\">\n",
       "  <thead>\n",
       "    <tr style=\"text-align: right;\">\n",
       "      <th></th>\n",
       "      <th>efficient_model_dice</th>\n",
       "      <th>efficient_model_entropy</th>\n",
       "      <th>model_dice</th>\n",
       "      <th>model_entropy</th>\n",
       "      <th>res_model_dice</th>\n",
       "      <th>res_model_entropy</th>\n",
       "      <th>attention_model_dice</th>\n",
       "      <th>attention_model_entropy</th>\n",
       "    </tr>\n",
       "  </thead>\n",
       "  <tbody>\n",
       "    <tr>\n",
       "      <th>efficient_model_dice</th>\n",
       "      <td>NaN</td>\n",
       "      <td>NaN</td>\n",
       "      <td>NaN</td>\n",
       "      <td>NaN</td>\n",
       "      <td>0.457731</td>\n",
       "      <td>NaN</td>\n",
       "      <td>0.161681</td>\n",
       "      <td>NaN</td>\n",
       "    </tr>\n",
       "    <tr>\n",
       "      <th>efficient_model_entropy</th>\n",
       "      <td>0.001766</td>\n",
       "      <td>NaN</td>\n",
       "      <td>0.012082</td>\n",
       "      <td>NaN</td>\n",
       "      <td>0.001209</td>\n",
       "      <td>NaN</td>\n",
       "      <td>0.000032</td>\n",
       "      <td>NaN</td>\n",
       "    </tr>\n",
       "    <tr>\n",
       "      <th>model_dice</th>\n",
       "      <td>0.230963</td>\n",
       "      <td>NaN</td>\n",
       "      <td>NaN</td>\n",
       "      <td>NaN</td>\n",
       "      <td>0.198444</td>\n",
       "      <td>NaN</td>\n",
       "      <td>0.038085</td>\n",
       "      <td>NaN</td>\n",
       "    </tr>\n",
       "    <tr>\n",
       "      <th>model_entropy</th>\n",
       "      <td>0.000783</td>\n",
       "      <td>0.3797</td>\n",
       "      <td>0.005892</td>\n",
       "      <td>NaN</td>\n",
       "      <td>0.000525</td>\n",
       "      <td>0.38551</td>\n",
       "      <td>0.000012</td>\n",
       "      <td>0.451325</td>\n",
       "    </tr>\n",
       "    <tr>\n",
       "      <th>res_model_dice</th>\n",
       "      <td>NaN</td>\n",
       "      <td>NaN</td>\n",
       "      <td>NaN</td>\n",
       "      <td>NaN</td>\n",
       "      <td>NaN</td>\n",
       "      <td>NaN</td>\n",
       "      <td>0.188944</td>\n",
       "      <td>NaN</td>\n",
       "    </tr>\n",
       "    <tr>\n",
       "      <th>res_model_entropy</th>\n",
       "      <td>0.001507</td>\n",
       "      <td>0.49253</td>\n",
       "      <td>0.010767</td>\n",
       "      <td>NaN</td>\n",
       "      <td>0.001021</td>\n",
       "      <td>NaN</td>\n",
       "      <td>0.000025</td>\n",
       "      <td>NaN</td>\n",
       "    </tr>\n",
       "    <tr>\n",
       "      <th>attention_model_dice</th>\n",
       "      <td>NaN</td>\n",
       "      <td>NaN</td>\n",
       "      <td>NaN</td>\n",
       "      <td>NaN</td>\n",
       "      <td>NaN</td>\n",
       "      <td>NaN</td>\n",
       "      <td>NaN</td>\n",
       "      <td>NaN</td>\n",
       "    </tr>\n",
       "    <tr>\n",
       "      <th>attention_model_entropy</th>\n",
       "      <td>0.001115</td>\n",
       "      <td>0.427251</td>\n",
       "      <td>0.008028</td>\n",
       "      <td>NaN</td>\n",
       "      <td>0.000755</td>\n",
       "      <td>0.43376</td>\n",
       "      <td>0.000019</td>\n",
       "      <td>NaN</td>\n",
       "    </tr>\n",
       "  </tbody>\n",
       "</table>\n",
       "</div>"
      ],
      "text/plain": [
       "                        efficient_model_dice efficient_model_entropy  \\\n",
       "efficient_model_dice                     NaN                     NaN   \n",
       "efficient_model_entropy             0.001766                     NaN   \n",
       "model_dice                          0.230963                     NaN   \n",
       "model_entropy                       0.000783                  0.3797   \n",
       "res_model_dice                           NaN                     NaN   \n",
       "res_model_entropy                   0.001507                 0.49253   \n",
       "attention_model_dice                     NaN                     NaN   \n",
       "attention_model_entropy             0.001115                0.427251   \n",
       "\n",
       "                        model_dice model_entropy res_model_dice  \\\n",
       "efficient_model_dice           NaN           NaN       0.457731   \n",
       "efficient_model_entropy   0.012082           NaN       0.001209   \n",
       "model_dice                     NaN           NaN       0.198444   \n",
       "model_entropy             0.005892           NaN       0.000525   \n",
       "res_model_dice                 NaN           NaN            NaN   \n",
       "res_model_entropy         0.010767           NaN       0.001021   \n",
       "attention_model_dice           NaN           NaN            NaN   \n",
       "attention_model_entropy   0.008028           NaN       0.000755   \n",
       "\n",
       "                        res_model_entropy attention_model_dice  \\\n",
       "efficient_model_dice                  NaN             0.161681   \n",
       "efficient_model_entropy               NaN             0.000032   \n",
       "model_dice                            NaN             0.038085   \n",
       "model_entropy                     0.38551             0.000012   \n",
       "res_model_dice                        NaN             0.188944   \n",
       "res_model_entropy                     NaN             0.000025   \n",
       "attention_model_dice                  NaN                  NaN   \n",
       "attention_model_entropy           0.43376             0.000019   \n",
       "\n",
       "                        attention_model_entropy  \n",
       "efficient_model_dice                        NaN  \n",
       "efficient_model_entropy                     NaN  \n",
       "model_dice                                  NaN  \n",
       "model_entropy                          0.451325  \n",
       "res_model_dice                              NaN  \n",
       "res_model_entropy                           NaN  \n",
       "attention_model_dice                        NaN  \n",
       "attention_model_entropy                     NaN  "
      ]
     },
     "metadata": {},
     "output_type": "display_data"
    },
    {
     "name": "stdout",
     "output_type": "stream",
     "text": [
      "AOI_4_Shanghai\n"
     ]
    },
    {
     "data": {
      "text/html": [
       "<div>\n",
       "<style scoped>\n",
       "    .dataframe tbody tr th:only-of-type {\n",
       "        vertical-align: middle;\n",
       "    }\n",
       "\n",
       "    .dataframe tbody tr th {\n",
       "        vertical-align: top;\n",
       "    }\n",
       "\n",
       "    .dataframe thead th {\n",
       "        text-align: right;\n",
       "    }\n",
       "</style>\n",
       "<table border=\"1\" class=\"dataframe\">\n",
       "  <thead>\n",
       "    <tr style=\"text-align: right;\">\n",
       "      <th></th>\n",
       "      <th>efficient_model_dice</th>\n",
       "      <th>efficient_model_entropy</th>\n",
       "      <th>model_dice</th>\n",
       "      <th>model_entropy</th>\n",
       "      <th>res_model_dice</th>\n",
       "      <th>res_model_entropy</th>\n",
       "      <th>attention_model_dice</th>\n",
       "      <th>attention_model_entropy</th>\n",
       "    </tr>\n",
       "  </thead>\n",
       "  <tbody>\n",
       "    <tr>\n",
       "      <th>efficient_model_dice</th>\n",
       "      <td>NaN</td>\n",
       "      <td>NaN</td>\n",
       "      <td>NaN</td>\n",
       "      <td>NaN</td>\n",
       "      <td>NaN</td>\n",
       "      <td>NaN</td>\n",
       "      <td>NaN</td>\n",
       "      <td>NaN</td>\n",
       "    </tr>\n",
       "    <tr>\n",
       "      <th>efficient_model_entropy</th>\n",
       "      <td>0.000004</td>\n",
       "      <td>NaN</td>\n",
       "      <td>0.00002</td>\n",
       "      <td>NaN</td>\n",
       "      <td>0.146577</td>\n",
       "      <td>NaN</td>\n",
       "      <td>0.000373</td>\n",
       "      <td>0.092579</td>\n",
       "    </tr>\n",
       "    <tr>\n",
       "      <th>model_dice</th>\n",
       "      <td>0.379944</td>\n",
       "      <td>NaN</td>\n",
       "      <td>NaN</td>\n",
       "      <td>NaN</td>\n",
       "      <td>NaN</td>\n",
       "      <td>NaN</td>\n",
       "      <td>NaN</td>\n",
       "      <td>NaN</td>\n",
       "    </tr>\n",
       "    <tr>\n",
       "      <th>model_entropy</th>\n",
       "      <td>0.0</td>\n",
       "      <td>0.16353</td>\n",
       "      <td>0.0</td>\n",
       "      <td>NaN</td>\n",
       "      <td>0.022971</td>\n",
       "      <td>NaN</td>\n",
       "      <td>0.000007</td>\n",
       "      <td>0.010681</td>\n",
       "    </tr>\n",
       "    <tr>\n",
       "      <th>res_model_dice</th>\n",
       "      <td>0.000594</td>\n",
       "      <td>NaN</td>\n",
       "      <td>0.001717</td>\n",
       "      <td>NaN</td>\n",
       "      <td>NaN</td>\n",
       "      <td>NaN</td>\n",
       "      <td>0.013237</td>\n",
       "      <td>0.408862</td>\n",
       "    </tr>\n",
       "    <tr>\n",
       "      <th>res_model_entropy</th>\n",
       "      <td>0.0</td>\n",
       "      <td>0.036018</td>\n",
       "      <td>0.0</td>\n",
       "      <td>0.20131</td>\n",
       "      <td>0.002809</td>\n",
       "      <td>NaN</td>\n",
       "      <td>0.0</td>\n",
       "      <td>0.000989</td>\n",
       "    </tr>\n",
       "    <tr>\n",
       "      <th>attention_model_dice</th>\n",
       "      <td>0.154303</td>\n",
       "      <td>NaN</td>\n",
       "      <td>0.238936</td>\n",
       "      <td>NaN</td>\n",
       "      <td>NaN</td>\n",
       "      <td>NaN</td>\n",
       "      <td>NaN</td>\n",
       "      <td>NaN</td>\n",
       "    </tr>\n",
       "    <tr>\n",
       "      <th>attention_model_entropy</th>\n",
       "      <td>0.000942</td>\n",
       "      <td>NaN</td>\n",
       "      <td>0.002696</td>\n",
       "      <td>NaN</td>\n",
       "      <td>NaN</td>\n",
       "      <td>NaN</td>\n",
       "      <td>0.019983</td>\n",
       "      <td>NaN</td>\n",
       "    </tr>\n",
       "  </tbody>\n",
       "</table>\n",
       "</div>"
      ],
      "text/plain": [
       "                        efficient_model_dice efficient_model_entropy  \\\n",
       "efficient_model_dice                     NaN                     NaN   \n",
       "efficient_model_entropy             0.000004                     NaN   \n",
       "model_dice                          0.379944                     NaN   \n",
       "model_entropy                            0.0                 0.16353   \n",
       "res_model_dice                      0.000594                     NaN   \n",
       "res_model_entropy                        0.0                0.036018   \n",
       "attention_model_dice                0.154303                     NaN   \n",
       "attention_model_entropy             0.000942                     NaN   \n",
       "\n",
       "                        model_dice model_entropy res_model_dice  \\\n",
       "efficient_model_dice           NaN           NaN            NaN   \n",
       "efficient_model_entropy    0.00002           NaN       0.146577   \n",
       "model_dice                     NaN           NaN            NaN   \n",
       "model_entropy                  0.0           NaN       0.022971   \n",
       "res_model_dice            0.001717           NaN            NaN   \n",
       "res_model_entropy              0.0       0.20131       0.002809   \n",
       "attention_model_dice      0.238936           NaN            NaN   \n",
       "attention_model_entropy   0.002696           NaN            NaN   \n",
       "\n",
       "                        res_model_entropy attention_model_dice  \\\n",
       "efficient_model_dice                  NaN                  NaN   \n",
       "efficient_model_entropy               NaN             0.000373   \n",
       "model_dice                            NaN                  NaN   \n",
       "model_entropy                         NaN             0.000007   \n",
       "res_model_dice                        NaN             0.013237   \n",
       "res_model_entropy                     NaN                  0.0   \n",
       "attention_model_dice                  NaN                  NaN   \n",
       "attention_model_entropy               NaN             0.019983   \n",
       "\n",
       "                        attention_model_entropy  \n",
       "efficient_model_dice                        NaN  \n",
       "efficient_model_entropy                0.092579  \n",
       "model_dice                                  NaN  \n",
       "model_entropy                          0.010681  \n",
       "res_model_dice                         0.408862  \n",
       "res_model_entropy                      0.000989  \n",
       "attention_model_dice                        NaN  \n",
       "attention_model_entropy                     NaN  "
      ]
     },
     "metadata": {},
     "output_type": "display_data"
    },
    {
     "name": "stdout",
     "output_type": "stream",
     "text": [
      "AOI_5_Khartoum\n"
     ]
    },
    {
     "data": {
      "text/html": [
       "<div>\n",
       "<style scoped>\n",
       "    .dataframe tbody tr th:only-of-type {\n",
       "        vertical-align: middle;\n",
       "    }\n",
       "\n",
       "    .dataframe tbody tr th {\n",
       "        vertical-align: top;\n",
       "    }\n",
       "\n",
       "    .dataframe thead th {\n",
       "        text-align: right;\n",
       "    }\n",
       "</style>\n",
       "<table border=\"1\" class=\"dataframe\">\n",
       "  <thead>\n",
       "    <tr style=\"text-align: right;\">\n",
       "      <th></th>\n",
       "      <th>efficient_model_dice</th>\n",
       "      <th>efficient_model_entropy</th>\n",
       "      <th>model_dice</th>\n",
       "      <th>model_entropy</th>\n",
       "      <th>res_model_dice</th>\n",
       "      <th>res_model_entropy</th>\n",
       "      <th>attention_model_dice</th>\n",
       "      <th>attention_model_entropy</th>\n",
       "    </tr>\n",
       "  </thead>\n",
       "  <tbody>\n",
       "    <tr>\n",
       "      <th>efficient_model_dice</th>\n",
       "      <td>NaN</td>\n",
       "      <td>NaN</td>\n",
       "      <td>0.232173</td>\n",
       "      <td>NaN</td>\n",
       "      <td>NaN</td>\n",
       "      <td>NaN</td>\n",
       "      <td>0.184501</td>\n",
       "      <td>0.471178</td>\n",
       "    </tr>\n",
       "    <tr>\n",
       "      <th>efficient_model_entropy</th>\n",
       "      <td>0.143251</td>\n",
       "      <td>NaN</td>\n",
       "      <td>0.0373</td>\n",
       "      <td>NaN</td>\n",
       "      <td>0.257687</td>\n",
       "      <td>NaN</td>\n",
       "      <td>0.026478</td>\n",
       "      <td>0.129558</td>\n",
       "    </tr>\n",
       "    <tr>\n",
       "      <th>model_dice</th>\n",
       "      <td>NaN</td>\n",
       "      <td>NaN</td>\n",
       "      <td>NaN</td>\n",
       "      <td>NaN</td>\n",
       "      <td>NaN</td>\n",
       "      <td>NaN</td>\n",
       "      <td>0.430704</td>\n",
       "      <td>NaN</td>\n",
       "    </tr>\n",
       "    <tr>\n",
       "      <th>model_entropy</th>\n",
       "      <td>0.037608</td>\n",
       "      <td>0.243131</td>\n",
       "      <td>0.006244</td>\n",
       "      <td>NaN</td>\n",
       "      <td>0.087062</td>\n",
       "      <td>0.282151</td>\n",
       "      <td>0.004109</td>\n",
       "      <td>0.033157</td>\n",
       "    </tr>\n",
       "    <tr>\n",
       "      <th>res_model_dice</th>\n",
       "      <td>0.337838</td>\n",
       "      <td>NaN</td>\n",
       "      <td>0.125827</td>\n",
       "      <td>NaN</td>\n",
       "      <td>NaN</td>\n",
       "      <td>NaN</td>\n",
       "      <td>0.095492</td>\n",
       "      <td>0.313125</td>\n",
       "    </tr>\n",
       "    <tr>\n",
       "      <th>res_model_entropy</th>\n",
       "      <td>0.121372</td>\n",
       "      <td>0.455444</td>\n",
       "      <td>0.030228</td>\n",
       "      <td>NaN</td>\n",
       "      <td>0.224556</td>\n",
       "      <td>NaN</td>\n",
       "      <td>0.021309</td>\n",
       "      <td>0.109452</td>\n",
       "    </tr>\n",
       "    <tr>\n",
       "      <th>attention_model_dice</th>\n",
       "      <td>NaN</td>\n",
       "      <td>NaN</td>\n",
       "      <td>NaN</td>\n",
       "      <td>NaN</td>\n",
       "      <td>NaN</td>\n",
       "      <td>NaN</td>\n",
       "      <td>NaN</td>\n",
       "      <td>NaN</td>\n",
       "    </tr>\n",
       "    <tr>\n",
       "      <th>attention_model_entropy</th>\n",
       "      <td>NaN</td>\n",
       "      <td>NaN</td>\n",
       "      <td>0.256671</td>\n",
       "      <td>NaN</td>\n",
       "      <td>NaN</td>\n",
       "      <td>NaN</td>\n",
       "      <td>0.206135</td>\n",
       "      <td>NaN</td>\n",
       "    </tr>\n",
       "  </tbody>\n",
       "</table>\n",
       "</div>"
      ],
      "text/plain": [
       "                        efficient_model_dice efficient_model_entropy  \\\n",
       "efficient_model_dice                     NaN                     NaN   \n",
       "efficient_model_entropy             0.143251                     NaN   \n",
       "model_dice                               NaN                     NaN   \n",
       "model_entropy                       0.037608                0.243131   \n",
       "res_model_dice                      0.337838                     NaN   \n",
       "res_model_entropy                   0.121372                0.455444   \n",
       "attention_model_dice                     NaN                     NaN   \n",
       "attention_model_entropy                  NaN                     NaN   \n",
       "\n",
       "                        model_dice model_entropy res_model_dice  \\\n",
       "efficient_model_dice      0.232173           NaN            NaN   \n",
       "efficient_model_entropy     0.0373           NaN       0.257687   \n",
       "model_dice                     NaN           NaN            NaN   \n",
       "model_entropy             0.006244           NaN       0.087062   \n",
       "res_model_dice            0.125827           NaN            NaN   \n",
       "res_model_entropy         0.030228           NaN       0.224556   \n",
       "attention_model_dice           NaN           NaN            NaN   \n",
       "attention_model_entropy   0.256671           NaN            NaN   \n",
       "\n",
       "                        res_model_entropy attention_model_dice  \\\n",
       "efficient_model_dice                  NaN             0.184501   \n",
       "efficient_model_entropy               NaN             0.026478   \n",
       "model_dice                            NaN             0.430704   \n",
       "model_entropy                    0.282151             0.004109   \n",
       "res_model_dice                        NaN             0.095492   \n",
       "res_model_entropy                     NaN             0.021309   \n",
       "attention_model_dice                  NaN                  NaN   \n",
       "attention_model_entropy               NaN             0.206135   \n",
       "\n",
       "                        attention_model_entropy  \n",
       "efficient_model_dice                   0.471178  \n",
       "efficient_model_entropy                0.129558  \n",
       "model_dice                                  NaN  \n",
       "model_entropy                          0.033157  \n",
       "res_model_dice                         0.313125  \n",
       "res_model_entropy                      0.109452  \n",
       "attention_model_dice                        NaN  \n",
       "attention_model_entropy                     NaN  "
      ]
     },
     "metadata": {},
     "output_type": "display_data"
    }
   ],
   "source": [
    "for key in p_values_dict.keys():\n",
    "    print(key)\n",
    "    display(p_values_dict[key])"
   ]
  },
  {
   "cell_type": "markdown",
   "id": "97addeb7-5cb9-481b-9daf-53c018742cf3",
   "metadata": {},
   "source": [
    "### Buildings\n",
    "We now perform the same analysis as above as we did for the extracted roads, but for extracted buildings:"
   ]
  },
  {
   "cell_type": "code",
   "execution_count": 13,
   "id": "8d4edfd7-1343-4351-b80c-5284434ccd96",
   "metadata": {
    "tags": []
   },
   "outputs": [],
   "source": [
    "p_values_dict = {}\n",
    "for area in areas_of_interest:\n",
    "    p_values_dict[area] = pd.DataFrame(index=models, columns=models)\n",
    "    for m1, m2 in pairs:\n",
    "        if m1 != m2:\n",
    "            if (np.mean(model_metrics[m1]['building_iou'][area]) > np.mean(model_metrics[m2]['building_iou'][area])):\n",
    "                _, p_val = stats.ttest_ind(model_metrics[m1]['building_iou'][area], model_metrics[m2]['building_iou'][area], alternative ='greater')\n",
    "                p_values_dict[area].loc[m1, m2] = p_val\n",
    "            else:\n",
    "                _, p_val = stats.ttest_ind(model_metrics[m2]['building_iou'][area], model_metrics[m1]['building_iou'][area], alternative ='greater')\n",
    "                p_values_dict[area].loc[m2, m1] = p_val"
   ]
  },
  {
   "cell_type": "code",
   "execution_count": 14,
   "id": "ca22fa1f-50ef-4657-806f-6167743547e8",
   "metadata": {},
   "outputs": [
    {
     "name": "stdout",
     "output_type": "stream",
     "text": [
      "AOI_2_Vegas\n"
     ]
    },
    {
     "data": {
      "text/html": [
       "<div>\n",
       "<style scoped>\n",
       "    .dataframe tbody tr th:only-of-type {\n",
       "        vertical-align: middle;\n",
       "    }\n",
       "\n",
       "    .dataframe tbody tr th {\n",
       "        vertical-align: top;\n",
       "    }\n",
       "\n",
       "    .dataframe thead th {\n",
       "        text-align: right;\n",
       "    }\n",
       "</style>\n",
       "<table border=\"1\" class=\"dataframe\">\n",
       "  <thead>\n",
       "    <tr style=\"text-align: right;\">\n",
       "      <th></th>\n",
       "      <th>efficient_model_dice</th>\n",
       "      <th>efficient_model_entropy</th>\n",
       "      <th>model_dice</th>\n",
       "      <th>model_entropy</th>\n",
       "      <th>res_model_dice</th>\n",
       "      <th>res_model_entropy</th>\n",
       "      <th>attention_model_dice</th>\n",
       "      <th>attention_model_entropy</th>\n",
       "    </tr>\n",
       "  </thead>\n",
       "  <tbody>\n",
       "    <tr>\n",
       "      <th>efficient_model_dice</th>\n",
       "      <td>NaN</td>\n",
       "      <td>0.347079</td>\n",
       "      <td>0.273983</td>\n",
       "      <td>0.231439</td>\n",
       "      <td>0.000601</td>\n",
       "      <td>0.45424</td>\n",
       "      <td>0.306248</td>\n",
       "      <td>0.139334</td>\n",
       "    </tr>\n",
       "    <tr>\n",
       "      <th>efficient_model_entropy</th>\n",
       "      <td>NaN</td>\n",
       "      <td>NaN</td>\n",
       "      <td>0.423635</td>\n",
       "      <td>0.36921</td>\n",
       "      <td>0.002745</td>\n",
       "      <td>NaN</td>\n",
       "      <td>0.460545</td>\n",
       "      <td>0.250525</td>\n",
       "    </tr>\n",
       "    <tr>\n",
       "      <th>model_dice</th>\n",
       "      <td>NaN</td>\n",
       "      <td>NaN</td>\n",
       "      <td>NaN</td>\n",
       "      <td>0.440415</td>\n",
       "      <td>0.00403</td>\n",
       "      <td>NaN</td>\n",
       "      <td>NaN</td>\n",
       "      <td>0.309916</td>\n",
       "    </tr>\n",
       "    <tr>\n",
       "      <th>model_entropy</th>\n",
       "      <td>NaN</td>\n",
       "      <td>NaN</td>\n",
       "      <td>NaN</td>\n",
       "      <td>NaN</td>\n",
       "      <td>0.007464</td>\n",
       "      <td>NaN</td>\n",
       "      <td>NaN</td>\n",
       "      <td>0.368298</td>\n",
       "    </tr>\n",
       "    <tr>\n",
       "      <th>res_model_dice</th>\n",
       "      <td>NaN</td>\n",
       "      <td>NaN</td>\n",
       "      <td>NaN</td>\n",
       "      <td>NaN</td>\n",
       "      <td>NaN</td>\n",
       "      <td>NaN</td>\n",
       "      <td>NaN</td>\n",
       "      <td>NaN</td>\n",
       "    </tr>\n",
       "    <tr>\n",
       "      <th>res_model_entropy</th>\n",
       "      <td>NaN</td>\n",
       "      <td>0.39539</td>\n",
       "      <td>0.322444</td>\n",
       "      <td>0.276528</td>\n",
       "      <td>0.001355</td>\n",
       "      <td>NaN</td>\n",
       "      <td>0.355729</td>\n",
       "      <td>0.176752</td>\n",
       "    </tr>\n",
       "    <tr>\n",
       "      <th>attention_model_dice</th>\n",
       "      <td>NaN</td>\n",
       "      <td>NaN</td>\n",
       "      <td>0.461488</td>\n",
       "      <td>0.403429</td>\n",
       "      <td>0.002943</td>\n",
       "      <td>NaN</td>\n",
       "      <td>NaN</td>\n",
       "      <td>0.276777</td>\n",
       "    </tr>\n",
       "    <tr>\n",
       "      <th>attention_model_entropy</th>\n",
       "      <td>NaN</td>\n",
       "      <td>NaN</td>\n",
       "      <td>NaN</td>\n",
       "      <td>NaN</td>\n",
       "      <td>0.017557</td>\n",
       "      <td>NaN</td>\n",
       "      <td>NaN</td>\n",
       "      <td>NaN</td>\n",
       "    </tr>\n",
       "  </tbody>\n",
       "</table>\n",
       "</div>"
      ],
      "text/plain": [
       "                        efficient_model_dice efficient_model_entropy  \\\n",
       "efficient_model_dice                     NaN                0.347079   \n",
       "efficient_model_entropy                  NaN                     NaN   \n",
       "model_dice                               NaN                     NaN   \n",
       "model_entropy                            NaN                     NaN   \n",
       "res_model_dice                           NaN                     NaN   \n",
       "res_model_entropy                        NaN                 0.39539   \n",
       "attention_model_dice                     NaN                     NaN   \n",
       "attention_model_entropy                  NaN                     NaN   \n",
       "\n",
       "                        model_dice model_entropy res_model_dice  \\\n",
       "efficient_model_dice      0.273983      0.231439       0.000601   \n",
       "efficient_model_entropy   0.423635       0.36921       0.002745   \n",
       "model_dice                     NaN      0.440415        0.00403   \n",
       "model_entropy                  NaN           NaN       0.007464   \n",
       "res_model_dice                 NaN           NaN            NaN   \n",
       "res_model_entropy         0.322444      0.276528       0.001355   \n",
       "attention_model_dice      0.461488      0.403429       0.002943   \n",
       "attention_model_entropy        NaN           NaN       0.017557   \n",
       "\n",
       "                        res_model_entropy attention_model_dice  \\\n",
       "efficient_model_dice              0.45424             0.306248   \n",
       "efficient_model_entropy               NaN             0.460545   \n",
       "model_dice                            NaN                  NaN   \n",
       "model_entropy                         NaN                  NaN   \n",
       "res_model_dice                        NaN                  NaN   \n",
       "res_model_entropy                     NaN             0.355729   \n",
       "attention_model_dice                  NaN                  NaN   \n",
       "attention_model_entropy               NaN                  NaN   \n",
       "\n",
       "                        attention_model_entropy  \n",
       "efficient_model_dice                   0.139334  \n",
       "efficient_model_entropy                0.250525  \n",
       "model_dice                             0.309916  \n",
       "model_entropy                          0.368298  \n",
       "res_model_dice                              NaN  \n",
       "res_model_entropy                      0.176752  \n",
       "attention_model_dice                   0.276777  \n",
       "attention_model_entropy                     NaN  "
      ]
     },
     "metadata": {},
     "output_type": "display_data"
    },
    {
     "name": "stdout",
     "output_type": "stream",
     "text": [
      "AOI_3_Paris\n"
     ]
    },
    {
     "data": {
      "text/html": [
       "<div>\n",
       "<style scoped>\n",
       "    .dataframe tbody tr th:only-of-type {\n",
       "        vertical-align: middle;\n",
       "    }\n",
       "\n",
       "    .dataframe tbody tr th {\n",
       "        vertical-align: top;\n",
       "    }\n",
       "\n",
       "    .dataframe thead th {\n",
       "        text-align: right;\n",
       "    }\n",
       "</style>\n",
       "<table border=\"1\" class=\"dataframe\">\n",
       "  <thead>\n",
       "    <tr style=\"text-align: right;\">\n",
       "      <th></th>\n",
       "      <th>efficient_model_dice</th>\n",
       "      <th>efficient_model_entropy</th>\n",
       "      <th>model_dice</th>\n",
       "      <th>model_entropy</th>\n",
       "      <th>res_model_dice</th>\n",
       "      <th>res_model_entropy</th>\n",
       "      <th>attention_model_dice</th>\n",
       "      <th>attention_model_entropy</th>\n",
       "    </tr>\n",
       "  </thead>\n",
       "  <tbody>\n",
       "    <tr>\n",
       "      <th>efficient_model_dice</th>\n",
       "      <td>NaN</td>\n",
       "      <td>0.000056</td>\n",
       "      <td>0.096002</td>\n",
       "      <td>0.0</td>\n",
       "      <td>0.005509</td>\n",
       "      <td>0.004596</td>\n",
       "      <td>0.206522</td>\n",
       "      <td>0.0</td>\n",
       "    </tr>\n",
       "    <tr>\n",
       "      <th>efficient_model_entropy</th>\n",
       "      <td>NaN</td>\n",
       "      <td>NaN</td>\n",
       "      <td>NaN</td>\n",
       "      <td>0.052591</td>\n",
       "      <td>NaN</td>\n",
       "      <td>NaN</td>\n",
       "      <td>NaN</td>\n",
       "      <td>0.000346</td>\n",
       "    </tr>\n",
       "    <tr>\n",
       "      <th>model_dice</th>\n",
       "      <td>NaN</td>\n",
       "      <td>0.006084</td>\n",
       "      <td>NaN</td>\n",
       "      <td>0.000015</td>\n",
       "      <td>0.118742</td>\n",
       "      <td>0.100054</td>\n",
       "      <td>NaN</td>\n",
       "      <td>0.0</td>\n",
       "    </tr>\n",
       "    <tr>\n",
       "      <th>model_entropy</th>\n",
       "      <td>NaN</td>\n",
       "      <td>NaN</td>\n",
       "      <td>NaN</td>\n",
       "      <td>NaN</td>\n",
       "      <td>NaN</td>\n",
       "      <td>NaN</td>\n",
       "      <td>NaN</td>\n",
       "      <td>0.032606</td>\n",
       "    </tr>\n",
       "    <tr>\n",
       "      <th>res_model_dice</th>\n",
       "      <td>NaN</td>\n",
       "      <td>0.08401</td>\n",
       "      <td>NaN</td>\n",
       "      <td>0.001116</td>\n",
       "      <td>NaN</td>\n",
       "      <td>0.447036</td>\n",
       "      <td>NaN</td>\n",
       "      <td>0.000001</td>\n",
       "    </tr>\n",
       "    <tr>\n",
       "      <th>res_model_entropy</th>\n",
       "      <td>NaN</td>\n",
       "      <td>0.112355</td>\n",
       "      <td>NaN</td>\n",
       "      <td>0.002197</td>\n",
       "      <td>NaN</td>\n",
       "      <td>NaN</td>\n",
       "      <td>NaN</td>\n",
       "      <td>0.000002</td>\n",
       "    </tr>\n",
       "    <tr>\n",
       "      <th>attention_model_dice</th>\n",
       "      <td>NaN</td>\n",
       "      <td>0.001274</td>\n",
       "      <td>0.31263</td>\n",
       "      <td>0.000001</td>\n",
       "      <td>0.045342</td>\n",
       "      <td>0.037664</td>\n",
       "      <td>NaN</td>\n",
       "      <td>0.0</td>\n",
       "    </tr>\n",
       "    <tr>\n",
       "      <th>attention_model_entropy</th>\n",
       "      <td>NaN</td>\n",
       "      <td>NaN</td>\n",
       "      <td>NaN</td>\n",
       "      <td>NaN</td>\n",
       "      <td>NaN</td>\n",
       "      <td>NaN</td>\n",
       "      <td>NaN</td>\n",
       "      <td>NaN</td>\n",
       "    </tr>\n",
       "  </tbody>\n",
       "</table>\n",
       "</div>"
      ],
      "text/plain": [
       "                        efficient_model_dice efficient_model_entropy  \\\n",
       "efficient_model_dice                     NaN                0.000056   \n",
       "efficient_model_entropy                  NaN                     NaN   \n",
       "model_dice                               NaN                0.006084   \n",
       "model_entropy                            NaN                     NaN   \n",
       "res_model_dice                           NaN                 0.08401   \n",
       "res_model_entropy                        NaN                0.112355   \n",
       "attention_model_dice                     NaN                0.001274   \n",
       "attention_model_entropy                  NaN                     NaN   \n",
       "\n",
       "                        model_dice model_entropy res_model_dice  \\\n",
       "efficient_model_dice      0.096002           0.0       0.005509   \n",
       "efficient_model_entropy        NaN      0.052591            NaN   \n",
       "model_dice                     NaN      0.000015       0.118742   \n",
       "model_entropy                  NaN           NaN            NaN   \n",
       "res_model_dice                 NaN      0.001116            NaN   \n",
       "res_model_entropy              NaN      0.002197            NaN   \n",
       "attention_model_dice       0.31263      0.000001       0.045342   \n",
       "attention_model_entropy        NaN           NaN            NaN   \n",
       "\n",
       "                        res_model_entropy attention_model_dice  \\\n",
       "efficient_model_dice             0.004596             0.206522   \n",
       "efficient_model_entropy               NaN                  NaN   \n",
       "model_dice                       0.100054                  NaN   \n",
       "model_entropy                         NaN                  NaN   \n",
       "res_model_dice                   0.447036                  NaN   \n",
       "res_model_entropy                     NaN                  NaN   \n",
       "attention_model_dice             0.037664                  NaN   \n",
       "attention_model_entropy               NaN                  NaN   \n",
       "\n",
       "                        attention_model_entropy  \n",
       "efficient_model_dice                        0.0  \n",
       "efficient_model_entropy                0.000346  \n",
       "model_dice                                  0.0  \n",
       "model_entropy                          0.032606  \n",
       "res_model_dice                         0.000001  \n",
       "res_model_entropy                      0.000002  \n",
       "attention_model_dice                        0.0  \n",
       "attention_model_entropy                     NaN  "
      ]
     },
     "metadata": {},
     "output_type": "display_data"
    },
    {
     "name": "stdout",
     "output_type": "stream",
     "text": [
      "AOI_4_Shanghai\n"
     ]
    },
    {
     "data": {
      "text/html": [
       "<div>\n",
       "<style scoped>\n",
       "    .dataframe tbody tr th:only-of-type {\n",
       "        vertical-align: middle;\n",
       "    }\n",
       "\n",
       "    .dataframe tbody tr th {\n",
       "        vertical-align: top;\n",
       "    }\n",
       "\n",
       "    .dataframe thead th {\n",
       "        text-align: right;\n",
       "    }\n",
       "</style>\n",
       "<table border=\"1\" class=\"dataframe\">\n",
       "  <thead>\n",
       "    <tr style=\"text-align: right;\">\n",
       "      <th></th>\n",
       "      <th>efficient_model_dice</th>\n",
       "      <th>efficient_model_entropy</th>\n",
       "      <th>model_dice</th>\n",
       "      <th>model_entropy</th>\n",
       "      <th>res_model_dice</th>\n",
       "      <th>res_model_entropy</th>\n",
       "      <th>attention_model_dice</th>\n",
       "      <th>attention_model_entropy</th>\n",
       "    </tr>\n",
       "  </thead>\n",
       "  <tbody>\n",
       "    <tr>\n",
       "      <th>efficient_model_dice</th>\n",
       "      <td>NaN</td>\n",
       "      <td>0.0</td>\n",
       "      <td>NaN</td>\n",
       "      <td>0.000003</td>\n",
       "      <td>0.0</td>\n",
       "      <td>0.0</td>\n",
       "      <td>NaN</td>\n",
       "      <td>0.0</td>\n",
       "    </tr>\n",
       "    <tr>\n",
       "      <th>efficient_model_entropy</th>\n",
       "      <td>NaN</td>\n",
       "      <td>NaN</td>\n",
       "      <td>NaN</td>\n",
       "      <td>NaN</td>\n",
       "      <td>0.356296</td>\n",
       "      <td>0.00167</td>\n",
       "      <td>NaN</td>\n",
       "      <td>0.426951</td>\n",
       "    </tr>\n",
       "    <tr>\n",
       "      <th>model_dice</th>\n",
       "      <td>0.241121</td>\n",
       "      <td>0.0</td>\n",
       "      <td>NaN</td>\n",
       "      <td>0.0</td>\n",
       "      <td>0.0</td>\n",
       "      <td>0.0</td>\n",
       "      <td>0.335865</td>\n",
       "      <td>0.0</td>\n",
       "    </tr>\n",
       "    <tr>\n",
       "      <th>model_entropy</th>\n",
       "      <td>NaN</td>\n",
       "      <td>0.132321</td>\n",
       "      <td>NaN</td>\n",
       "      <td>NaN</td>\n",
       "      <td>0.067648</td>\n",
       "      <td>0.000025</td>\n",
       "      <td>NaN</td>\n",
       "      <td>0.096394</td>\n",
       "    </tr>\n",
       "    <tr>\n",
       "      <th>res_model_dice</th>\n",
       "      <td>NaN</td>\n",
       "      <td>NaN</td>\n",
       "      <td>NaN</td>\n",
       "      <td>NaN</td>\n",
       "      <td>NaN</td>\n",
       "      <td>0.004794</td>\n",
       "      <td>NaN</td>\n",
       "      <td>NaN</td>\n",
       "    </tr>\n",
       "    <tr>\n",
       "      <th>res_model_entropy</th>\n",
       "      <td>NaN</td>\n",
       "      <td>NaN</td>\n",
       "      <td>NaN</td>\n",
       "      <td>NaN</td>\n",
       "      <td>NaN</td>\n",
       "      <td>NaN</td>\n",
       "      <td>NaN</td>\n",
       "      <td>NaN</td>\n",
       "    </tr>\n",
       "    <tr>\n",
       "      <th>attention_model_dice</th>\n",
       "      <td>0.390578</td>\n",
       "      <td>0.0</td>\n",
       "      <td>NaN</td>\n",
       "      <td>0.000001</td>\n",
       "      <td>0.0</td>\n",
       "      <td>0.0</td>\n",
       "      <td>NaN</td>\n",
       "      <td>0.0</td>\n",
       "    </tr>\n",
       "    <tr>\n",
       "      <th>attention_model_entropy</th>\n",
       "      <td>NaN</td>\n",
       "      <td>NaN</td>\n",
       "      <td>NaN</td>\n",
       "      <td>NaN</td>\n",
       "      <td>0.42718</td>\n",
       "      <td>0.002915</td>\n",
       "      <td>NaN</td>\n",
       "      <td>NaN</td>\n",
       "    </tr>\n",
       "  </tbody>\n",
       "</table>\n",
       "</div>"
      ],
      "text/plain": [
       "                        efficient_model_dice efficient_model_entropy  \\\n",
       "efficient_model_dice                     NaN                     0.0   \n",
       "efficient_model_entropy                  NaN                     NaN   \n",
       "model_dice                          0.241121                     0.0   \n",
       "model_entropy                            NaN                0.132321   \n",
       "res_model_dice                           NaN                     NaN   \n",
       "res_model_entropy                        NaN                     NaN   \n",
       "attention_model_dice                0.390578                     0.0   \n",
       "attention_model_entropy                  NaN                     NaN   \n",
       "\n",
       "                        model_dice model_entropy res_model_dice  \\\n",
       "efficient_model_dice           NaN      0.000003            0.0   \n",
       "efficient_model_entropy        NaN           NaN       0.356296   \n",
       "model_dice                     NaN           0.0            0.0   \n",
       "model_entropy                  NaN           NaN       0.067648   \n",
       "res_model_dice                 NaN           NaN            NaN   \n",
       "res_model_entropy              NaN           NaN            NaN   \n",
       "attention_model_dice           NaN      0.000001            0.0   \n",
       "attention_model_entropy        NaN           NaN        0.42718   \n",
       "\n",
       "                        res_model_entropy attention_model_dice  \\\n",
       "efficient_model_dice                  0.0                  NaN   \n",
       "efficient_model_entropy           0.00167                  NaN   \n",
       "model_dice                            0.0             0.335865   \n",
       "model_entropy                    0.000025                  NaN   \n",
       "res_model_dice                   0.004794                  NaN   \n",
       "res_model_entropy                     NaN                  NaN   \n",
       "attention_model_dice                  0.0                  NaN   \n",
       "attention_model_entropy          0.002915                  NaN   \n",
       "\n",
       "                        attention_model_entropy  \n",
       "efficient_model_dice                        0.0  \n",
       "efficient_model_entropy                0.426951  \n",
       "model_dice                                  0.0  \n",
       "model_entropy                          0.096394  \n",
       "res_model_dice                              NaN  \n",
       "res_model_entropy                           NaN  \n",
       "attention_model_dice                        0.0  \n",
       "attention_model_entropy                     NaN  "
      ]
     },
     "metadata": {},
     "output_type": "display_data"
    },
    {
     "name": "stdout",
     "output_type": "stream",
     "text": [
      "AOI_5_Khartoum\n"
     ]
    },
    {
     "data": {
      "text/html": [
       "<div>\n",
       "<style scoped>\n",
       "    .dataframe tbody tr th:only-of-type {\n",
       "        vertical-align: middle;\n",
       "    }\n",
       "\n",
       "    .dataframe tbody tr th {\n",
       "        vertical-align: top;\n",
       "    }\n",
       "\n",
       "    .dataframe thead th {\n",
       "        text-align: right;\n",
       "    }\n",
       "</style>\n",
       "<table border=\"1\" class=\"dataframe\">\n",
       "  <thead>\n",
       "    <tr style=\"text-align: right;\">\n",
       "      <th></th>\n",
       "      <th>efficient_model_dice</th>\n",
       "      <th>efficient_model_entropy</th>\n",
       "      <th>model_dice</th>\n",
       "      <th>model_entropy</th>\n",
       "      <th>res_model_dice</th>\n",
       "      <th>res_model_entropy</th>\n",
       "      <th>attention_model_dice</th>\n",
       "      <th>attention_model_entropy</th>\n",
       "    </tr>\n",
       "  </thead>\n",
       "  <tbody>\n",
       "    <tr>\n",
       "      <th>efficient_model_dice</th>\n",
       "      <td>NaN</td>\n",
       "      <td>0.051277</td>\n",
       "      <td>0.413055</td>\n",
       "      <td>0.00079</td>\n",
       "      <td>0.497974</td>\n",
       "      <td>0.000839</td>\n",
       "      <td>NaN</td>\n",
       "      <td>0.010129</td>\n",
       "    </tr>\n",
       "    <tr>\n",
       "      <th>efficient_model_entropy</th>\n",
       "      <td>NaN</td>\n",
       "      <td>NaN</td>\n",
       "      <td>NaN</td>\n",
       "      <td>0.071174</td>\n",
       "      <td>NaN</td>\n",
       "      <td>0.073084</td>\n",
       "      <td>NaN</td>\n",
       "      <td>0.259791</td>\n",
       "    </tr>\n",
       "    <tr>\n",
       "      <th>model_dice</th>\n",
       "      <td>NaN</td>\n",
       "      <td>0.080302</td>\n",
       "      <td>NaN</td>\n",
       "      <td>0.001794</td>\n",
       "      <td>NaN</td>\n",
       "      <td>0.001894</td>\n",
       "      <td>NaN</td>\n",
       "      <td>0.018712</td>\n",
       "    </tr>\n",
       "    <tr>\n",
       "      <th>model_entropy</th>\n",
       "      <td>NaN</td>\n",
       "      <td>NaN</td>\n",
       "      <td>NaN</td>\n",
       "      <td>NaN</td>\n",
       "      <td>NaN</td>\n",
       "      <td>NaN</td>\n",
       "      <td>NaN</td>\n",
       "      <td>NaN</td>\n",
       "    </tr>\n",
       "    <tr>\n",
       "      <th>res_model_dice</th>\n",
       "      <td>NaN</td>\n",
       "      <td>0.054091</td>\n",
       "      <td>0.416185</td>\n",
       "      <td>0.000926</td>\n",
       "      <td>NaN</td>\n",
       "      <td>0.000981</td>\n",
       "      <td>NaN</td>\n",
       "      <td>0.011141</td>\n",
       "    </tr>\n",
       "    <tr>\n",
       "      <th>res_model_entropy</th>\n",
       "      <td>NaN</td>\n",
       "      <td>NaN</td>\n",
       "      <td>NaN</td>\n",
       "      <td>0.495432</td>\n",
       "      <td>NaN</td>\n",
       "      <td>NaN</td>\n",
       "      <td>NaN</td>\n",
       "      <td>NaN</td>\n",
       "    </tr>\n",
       "    <tr>\n",
       "      <th>attention_model_dice</th>\n",
       "      <td>0.392531</td>\n",
       "      <td>0.029384</td>\n",
       "      <td>0.312603</td>\n",
       "      <td>0.000321</td>\n",
       "      <td>0.392043</td>\n",
       "      <td>0.000343</td>\n",
       "      <td>NaN</td>\n",
       "      <td>0.004943</td>\n",
       "    </tr>\n",
       "    <tr>\n",
       "      <th>attention_model_entropy</th>\n",
       "      <td>NaN</td>\n",
       "      <td>NaN</td>\n",
       "      <td>NaN</td>\n",
       "      <td>0.20085</td>\n",
       "      <td>NaN</td>\n",
       "      <td>0.204522</td>\n",
       "      <td>NaN</td>\n",
       "      <td>NaN</td>\n",
       "    </tr>\n",
       "  </tbody>\n",
       "</table>\n",
       "</div>"
      ],
      "text/plain": [
       "                        efficient_model_dice efficient_model_entropy  \\\n",
       "efficient_model_dice                     NaN                0.051277   \n",
       "efficient_model_entropy                  NaN                     NaN   \n",
       "model_dice                               NaN                0.080302   \n",
       "model_entropy                            NaN                     NaN   \n",
       "res_model_dice                           NaN                0.054091   \n",
       "res_model_entropy                        NaN                     NaN   \n",
       "attention_model_dice                0.392531                0.029384   \n",
       "attention_model_entropy                  NaN                     NaN   \n",
       "\n",
       "                        model_dice model_entropy res_model_dice  \\\n",
       "efficient_model_dice      0.413055       0.00079       0.497974   \n",
       "efficient_model_entropy        NaN      0.071174            NaN   \n",
       "model_dice                     NaN      0.001794            NaN   \n",
       "model_entropy                  NaN           NaN            NaN   \n",
       "res_model_dice            0.416185      0.000926            NaN   \n",
       "res_model_entropy              NaN      0.495432            NaN   \n",
       "attention_model_dice      0.312603      0.000321       0.392043   \n",
       "attention_model_entropy        NaN       0.20085            NaN   \n",
       "\n",
       "                        res_model_entropy attention_model_dice  \\\n",
       "efficient_model_dice             0.000839                  NaN   \n",
       "efficient_model_entropy          0.073084                  NaN   \n",
       "model_dice                       0.001894                  NaN   \n",
       "model_entropy                         NaN                  NaN   \n",
       "res_model_dice                   0.000981                  NaN   \n",
       "res_model_entropy                     NaN                  NaN   \n",
       "attention_model_dice             0.000343                  NaN   \n",
       "attention_model_entropy          0.204522                  NaN   \n",
       "\n",
       "                        attention_model_entropy  \n",
       "efficient_model_dice                   0.010129  \n",
       "efficient_model_entropy                0.259791  \n",
       "model_dice                             0.018712  \n",
       "model_entropy                               NaN  \n",
       "res_model_dice                         0.011141  \n",
       "res_model_entropy                           NaN  \n",
       "attention_model_dice                   0.004943  \n",
       "attention_model_entropy                     NaN  "
      ]
     },
     "metadata": {},
     "output_type": "display_data"
    }
   ],
   "source": [
    "for key in p_values_dict.keys():\n",
    "    print(key)\n",
    "    display(p_values_dict[key])"
   ]
  },
  {
   "cell_type": "markdown",
   "id": "70632d5c-2859-423d-ae07-7f38dce9840a",
   "metadata": {},
   "source": [
    "While the above results are useful, they are over whelming. Also, many of the comparisons do not have statistical significance. \n",
    "## Comparison of IoU between models\n",
    "Next we combine the areas of interest into one set of samples, this simplifies the results so that we can just focus on analyzing the IoU differences between the models. This is marginalizing over the areas of interest and categories of building and roads.\n",
    "\n",
    "Below we plot the IoU histograms side by side for each of the models, and report their mean and standard deviation:"
   ]
  },
  {
   "cell_type": "code",
   "execution_count": 15,
   "id": "17db5f06-7df7-45c6-acfa-c5d51a6e8c91",
   "metadata": {},
   "outputs": [
    {
     "data": {
      "image/png": "[encoded data removed]",
      "text/plain": [
       "<Figure size 432x288 with 1 Axes>"
      ]
     },
     "metadata": {
      "needs_background": "light"
     },
     "output_type": "display_data"
    },
    {
     "data": {
      "image/png": "[encoded data removed]",
      "text/plain": [
       "<Figure size 432x288 with 1 Axes>"
      ]
     },
     "metadata": {
      "needs_background": "light"
     },
     "output_type": "display_data"
    },
    {
     "data": {
      "image/png": "[encoded data removed]",
      "text/plain": [
       "<Figure size 432x288 with 1 Axes>"
      ]
     },
     "metadata": {
      "needs_background": "light"
     },
     "output_type": "display_data"
    },
    {
     "data": {
      "image/png": "[encoded data removed]",
      "text/plain": [
       "<Figure size 432x288 with 1 Axes>"
      ]
     },
     "metadata": {
      "needs_background": "light"
     },
     "output_type": "display_data"
    },
    {
     "data": {
      "image/png": "[encoded data removed]",
      "text/plain": [
       "<Figure size 432x288 with 1 Axes>"
      ]
     },
     "metadata": {
      "needs_background": "light"
     },
     "output_type": "display_data"
    },
    {
     "data": {
      "image/png": "[encoded data removed]",
      "text/plain": [
       "<Figure size 432x288 with 1 Axes>"
      ]
     },
     "metadata": {
      "needs_background": "light"
     },
     "output_type": "display_data"
    },
    {
     "data": {
      "image/png": "[encoded data removed]",
      "text/plain": [
       "<Figure size 432x288 with 1 Axes>"
      ]
     },
     "metadata": {
      "needs_background": "light"
     },
     "output_type": "display_data"
    },
    {
     "data": {
      "image/png": "[encoded data removed]",
      "text/plain": [
       "<Figure size 432x288 with 1 Axes>"
      ]
     },
     "metadata": {
      "needs_background": "light"
     },
     "output_type": "display_data"
    },
    {
     "data": {
      "text/html": [
       "<div>\n",
       "<style scoped>\n",
       "    .dataframe tbody tr th:only-of-type {\n",
       "        vertical-align: middle;\n",
       "    }\n",
       "\n",
       "    .dataframe tbody tr th {\n",
       "        vertical-align: top;\n",
       "    }\n",
       "\n",
       "    .dataframe thead th {\n",
       "        text-align: right;\n",
       "    }\n",
       "</style>\n",
       "<table border=\"1\" class=\"dataframe\">\n",
       "  <thead>\n",
       "    <tr style=\"text-align: right;\">\n",
       "      <th></th>\n",
       "      <th>Mean IoU</th>\n",
       "      <th>Median IoU</th>\n",
       "    </tr>\n",
       "  </thead>\n",
       "  <tbody>\n",
       "    <tr>\n",
       "      <th>efficient_model_dice</th>\n",
       "      <td>0.641711</td>\n",
       "      <td>0.672676</td>\n",
       "    </tr>\n",
       "    <tr>\n",
       "      <th>attention_model_dice</th>\n",
       "      <td>0.64171</td>\n",
       "      <td>0.674638</td>\n",
       "    </tr>\n",
       "    <tr>\n",
       "      <th>model_dice</th>\n",
       "      <td>0.641358</td>\n",
       "      <td>0.673901</td>\n",
       "    </tr>\n",
       "    <tr>\n",
       "      <th>attention_model_entropy</th>\n",
       "      <td>0.631864</td>\n",
       "      <td>0.670037</td>\n",
       "    </tr>\n",
       "    <tr>\n",
       "      <th>res_model_dice</th>\n",
       "      <td>0.631679</td>\n",
       "      <td>0.668074</td>\n",
       "    </tr>\n",
       "    <tr>\n",
       "      <th>efficient_model_entropy</th>\n",
       "      <td>0.631089</td>\n",
       "      <td>0.665989</td>\n",
       "    </tr>\n",
       "    <tr>\n",
       "      <th>model_entropy</th>\n",
       "      <td>0.630186</td>\n",
       "      <td>0.665969</td>\n",
       "    </tr>\n",
       "    <tr>\n",
       "      <th>res_model_entropy</th>\n",
       "      <td>0.627079</td>\n",
       "      <td>0.666235</td>\n",
       "    </tr>\n",
       "  </tbody>\n",
       "</table>\n",
       "</div>"
      ],
      "text/plain": [
       "                         Mean IoU Median IoU\n",
       "efficient_model_dice     0.641711   0.672676\n",
       "attention_model_dice      0.64171   0.674638\n",
       "model_dice               0.641358   0.673901\n",
       "attention_model_entropy  0.631864   0.670037\n",
       "res_model_dice           0.631679   0.668074\n",
       "efficient_model_entropy  0.631089   0.665989\n",
       "model_entropy            0.630186   0.665969\n",
       "res_model_entropy        0.627079   0.666235"
      ]
     },
     "execution_count": 15,
     "metadata": {},
     "output_type": "execute_result"
    }
   ],
   "source": [
    "combined_data = {}\n",
    "iou_stats = pd.DataFrame(index=models, columns=['Mean IoU','Median IoU'])\n",
    "for area in areas_of_interest:\n",
    "    for m1 in models:\n",
    "        if m1 not in combined_data.keys():\n",
    "             combined_data[m1]= []\n",
    "        combined_data[m1] += list(model_metrics[m1]['road_iou'][area]) + list(model_metrics[m1]['building_iou'][area])\n",
    "for m1 in models:\n",
    "    sns.histplot(x=combined_data[m1], bins=np.arange(0, 1, 0.05), label=f'{m1}', color='navy', legend=m1)\n",
    "    plt.xlim([0,1])\n",
    "    plt.ylim([0, 4000])\n",
    "    plt.axvline(np.mean(combined_data[m1]), label='mean', c ='red')\n",
    "    plt.axvline(np.median(combined_data[m1]), label='median', c='green')\n",
    "    plt.xlabel(\"IoU\")\n",
    "    plt.legend()\n",
    "    plt.show()\n",
    "    iou_stats.loc[m1, 'Mean IoU'] =  np.mean(combined_data[m1])\n",
    "    iou_stats.loc[m1, 'Median IoU'] = np.median(combined_data[m1])\n",
    "iou_stats.sort_values('Mean IoU', ascending=False, inplace=True)\n",
    "iou_stats"
   ]
  },
  {
   "cell_type": "markdown",
   "id": "d6b3212b-c62e-4862-8224-3dd3f6f14149",
   "metadata": {},
   "source": [
    "Above you can see the differences appear quite small, and it is difficult to compare by eyes. However, if you pay attention, you will notice that models using the cross entropy have a lower mean and median than models using the dice loss.\n",
    "\n",
    "\n",
    "Now we do a pair-wise t-test, we then plot the p-values. \n",
    "\n",
    "We mask the p-values where the mean in the model for the columns is less or equal to the mean for the model in the rows."
   ]
  },
  {
   "cell_type": "code",
   "execution_count": 16,
   "id": "60802cd8-d2c6-47ea-9ab4-085cf5c617ee",
   "metadata": {},
   "outputs": [
    {
     "data": {
      "image/png": "[encoded data removed]",
      "text/plain": [
       "<Figure size 1080x1080 with 2 Axes>"
      ]
     },
     "metadata": {
      "needs_background": "light"
     },
     "output_type": "display_data"
    }
   ],
   "source": [
    "p_values = pd.DataFrame(index=models, columns=models, dtype=float)  \n",
    "\n",
    "for m1, m2 in pairs:\n",
    "    if m1 != m2:\n",
    "        if np.mean(combined_data[m1]) > np.mean(combined_data[m2]):\n",
    "            _, p_val = stats.ttest_ind(combined_data[m1], combined_data[m2], alternative ='greater')\n",
    "            p_values.loc[m1, m2] = p_val\n",
    "            p_values.loc[m2, m1] = np.nan\n",
    "        else:\n",
    "            _, p_val = stats.ttest_ind(combined_data[m1], combined_data[m2], alternative ='greater')\n",
    "            p_values.loc[m2, m1] = p_val\n",
    "            p_values.loc[m1, m2] = np.nan\n",
    "plt.figure(figsize=(15, 15))\n",
    "plt.title('p-value (hypothesis: models on the rows have a greater IoU)')\n",
    "sns.heatmap(p_values, mask = np.isnan(p_values), annot=True)\n",
    "plt.show()"
   ]
  },
  {
   "cell_type": "markdown",
   "id": "bb725d4b-99e1-49e4-ad2a-551d4928bdea",
   "metadata": {},
   "source": [
    "While this is insightful, it doesn't account for the fact that we are doing multiple pair-wise t-tests tests. When doing multiple pair-wise p-value comparisons, we need to correct for the false discovery rate.\n",
    "There is still quite a lot of complexity in plotting this matrix.\n",
    "\n",
    "## Tukey HSD\n",
    "To fix both the issue of false discovery rate and complexity, we use the Tukey HSD pair-wise test:"
   ]
  },
  {
   "cell_type": "code",
   "execution_count": 17,
   "id": "23005075-1e50-4c38-9476-f0ef9762cbb2",
   "metadata": {},
   "outputs": [],
   "source": [
    "from statsmodels.stats.multicomp import MultiComparison\n",
    "input_data = []\n",
    "input_group = []\n",
    "for k in combined_data.keys():\n",
    "    input_data += list(combined_data[k])\n",
    "    input_group += [k for l in range(len(combined_data[k]))]\n",
    "comp = MultiComparison(input_data, input_group)\n",
    "tukey_hsd_results = comp.tukeyhsd()"
   ]
  },
  {
   "cell_type": "markdown",
   "id": "6987c1c0-c36c-4630-88ed-75f089e55e55",
   "metadata": {},
   "source": [
    "There are two Major outputs from the Tukey HSD:\n",
    "1. The first is a plot of the mean IoU score with associated error bars for each model, when the error bras don't overlap we can say there is a significant difference between two models.\n",
    "2. The below plots are much simpler. There are three plots that are identical in data, but showing how model_dice, efficient_model_dice, and attention_model_dice have a statistically significant larger IoU on average than the other models."
   ]
  },
  {
   "cell_type": "code",
   "execution_count": 18,
   "id": "79c6a378-063b-4d8f-bc6d-cdda55cb0a52",
   "metadata": {},
   "outputs": [
    {
     "data": {
      "image/png": "[encoded data removed]",
      "text/plain": [
       "<Figure size 1224x360 with 3 Axes>"
      ]
     },
     "metadata": {
      "needs_background": "light"
     },
     "output_type": "display_data"
    }
   ],
   "source": [
    "from matplotlib.patches import Patch\n",
    "fig, ax = plt.subplots(1,3)\n",
    "tukey_hsd_results.plot_simultaneous(comparison_name='model_dice', ax=ax[0], xlabel='Mean IoU Score')\n",
    "tukey_hsd_results.plot_simultaneous(comparison_name='efficient_model_dice', ax=ax[1], xlabel='Mean IoU Score')\n",
    "tukey_hsd_results.plot_simultaneous(comparison_name='attention_model_dice', ax=ax[2], xlabel='Mean IoU Score', figsize=(17, 5))\n",
    "ax[0].set_title('')\n",
    "ax[1].set_title('')\n",
    "ax[2].set_title('')\n",
    "fig.suptitle(\"Tukey HSD Comparison\")\n",
    "ax[0].legend(handles=[Patch(facecolor='blue', edgecolor='blue',\n",
    "                         label='model_dice'), Patch(facecolor='grey', edgecolor='grey',\n",
    "                         label='Comparable'), Patch(facecolor='red', edgecolor='red',\n",
    "                         label='Less')], loc=\"upper right\")\n",
    "ax[1].legend(handles=[Patch(facecolor='blue', edgecolor='blue',\n",
    "                         label='efficient_model_dice'), Patch(facecolor='grey', edgecolor='grey',\n",
    "                         label='Comparable'), Patch(facecolor='red', edgecolor='red',\n",
    "                         label='Less')], loc=\"upper right\")\n",
    "ax[2].legend(handles=[Patch(facecolor='blue', edgecolor='blue',\n",
    "                         label='attention_model_dice'), Patch(facecolor='grey', edgecolor='grey',\n",
    "                         label='Comparable'), Patch(facecolor='red', edgecolor='red',\n",
    "                         label='Less')], loc=\"upper right\")\n",
    "ax[1].axes.get_yaxis().set_visible(False)\n",
    "ax[2].axes.get_yaxis().set_visible(False)\n",
    "plt.show()"
   ]
  },
  {
   "cell_type": "markdown",
   "id": "82e89603-93bd-4885-9754-d02284e80736",
   "metadata": {},
   "source": [
    "What we are seeing that the dice loss performs better than the categorical cross-entropy for providing a higher IoU on average per an image, unless using a residual UNet model with a dice loss.\n",
    "\n",
    "The dice loss has a similar form to the IoU metric, this might be why it appears to perform better. For example, minimizing the dice loss might lead to a larger IoU by construction.\n",
    "One issue with the binary cross-entropy, is that the categories are not balanced. Most of the pixels in an image will not be a building or a road. This makes metrics, such as accuracy not reliable.\n",
    "\n",
    "The same results that are displayed above are shown in the table below, where we can see if we can reject the null-hypothesis that two means are the same."
   ]
  },
  {
   "cell_type": "code",
   "execution_count": 19,
   "id": "641e9850-b961-484c-9eaf-a73ebfe964b9",
   "metadata": {},
   "outputs": [
    {
     "data": {
      "text/html": [
       "<table class=\"simpletable\">\n",
       "<caption>Multiple Comparison of Means - Tukey HSD, FWER=0.05</caption>\n",
       "<tr>\n",
       "          <th>group1</th>                  <th>group2</th>          <th>meandiff</th>  <th>p-adj</th>  <th>lower</th>   <th>upper</th>  <th>reject</th>\n",
       "</tr>\n",
       "<tr>\n",
       "   <td>attention_model_dice</td>   <td>attention_model_entropy</td>  <td>-0.0098</td>   <td>0.0</td>  <td>-0.0146</td> <td>-0.0051</td>  <td>True</td> \n",
       "</tr>\n",
       "<tr>\n",
       "   <td>attention_model_dice</td>    <td>efficient_model_dice</td>      <td>0.0</td>     <td>1.0</td>  <td>-0.0047</td> <td>0.0047</td>   <td>False</td>\n",
       "</tr>\n",
       "<tr>\n",
       "   <td>attention_model_dice</td>   <td>efficient_model_entropy</td>  <td>-0.0106</td>   <td>0.0</td>  <td>-0.0153</td> <td>-0.0059</td>  <td>True</td> \n",
       "</tr>\n",
       "<tr>\n",
       "   <td>attention_model_dice</td>         <td>model_dice</td>         <td>-0.0004</td>   <td>1.0</td>  <td>-0.0051</td> <td>0.0044</td>   <td>False</td>\n",
       "</tr>\n",
       "<tr>\n",
       "   <td>attention_model_dice</td>        <td>model_entropy</td>       <td>-0.0115</td>   <td>0.0</td>  <td>-0.0163</td> <td>-0.0068</td>  <td>True</td> \n",
       "</tr>\n",
       "<tr>\n",
       "   <td>attention_model_dice</td>       <td>res_model_dice</td>        <td>-0.01</td>    <td>0.0</td>  <td>-0.0148</td> <td>-0.0053</td>  <td>True</td> \n",
       "</tr>\n",
       "<tr>\n",
       "   <td>attention_model_dice</td>      <td>res_model_entropy</td>     <td>-0.0146</td>   <td>0.0</td>  <td>-0.0194</td> <td>-0.0099</td>  <td>True</td> \n",
       "</tr>\n",
       "<tr>\n",
       "  <td>attention_model_entropy</td>  <td>efficient_model_dice</td>    <td>0.0098</td>    <td>0.0</td>  <td>0.0051</td>  <td>0.0146</td>   <td>True</td> \n",
       "</tr>\n",
       "<tr>\n",
       "  <td>attention_model_entropy</td> <td>efficient_model_entropy</td>  <td>-0.0008</td> <td>0.9997</td> <td>-0.0055</td>  <td>0.004</td>   <td>False</td>\n",
       "</tr>\n",
       "<tr>\n",
       "  <td>attention_model_entropy</td>       <td>model_dice</td>         <td>0.0095</td>    <td>0.0</td>  <td>0.0048</td>  <td>0.0142</td>   <td>True</td> \n",
       "</tr>\n",
       "<tr>\n",
       "  <td>attention_model_entropy</td>      <td>model_entropy</td>       <td>-0.0017</td> <td>0.9618</td> <td>-0.0064</td>  <td>0.003</td>   <td>False</td>\n",
       "</tr>\n",
       "<tr>\n",
       "  <td>attention_model_entropy</td>     <td>res_model_dice</td>       <td>-0.0002</td>   <td>1.0</td>  <td>-0.0049</td> <td>0.0045</td>   <td>False</td>\n",
       "</tr>\n",
       "<tr>\n",
       "  <td>attention_model_entropy</td>    <td>res_model_entropy</td>     <td>-0.0048</td> <td>0.0448</td> <td>-0.0095</td> <td>-0.0001</td>  <td>True</td> \n",
       "</tr>\n",
       "<tr>\n",
       "   <td>efficient_model_dice</td>   <td>efficient_model_entropy</td>  <td>-0.0106</td>   <td>0.0</td>  <td>-0.0153</td> <td>-0.0059</td>  <td>True</td> \n",
       "</tr>\n",
       "<tr>\n",
       "   <td>efficient_model_dice</td>         <td>model_dice</td>         <td>-0.0004</td>   <td>1.0</td>  <td>-0.0051</td> <td>0.0044</td>   <td>False</td>\n",
       "</tr>\n",
       "<tr>\n",
       "   <td>efficient_model_dice</td>        <td>model_entropy</td>       <td>-0.0115</td>   <td>0.0</td>  <td>-0.0163</td> <td>-0.0068</td>  <td>True</td> \n",
       "</tr>\n",
       "<tr>\n",
       "   <td>efficient_model_dice</td>       <td>res_model_dice</td>        <td>-0.01</td>    <td>0.0</td>  <td>-0.0148</td> <td>-0.0053</td>  <td>True</td> \n",
       "</tr>\n",
       "<tr>\n",
       "   <td>efficient_model_dice</td>      <td>res_model_entropy</td>     <td>-0.0146</td>   <td>0.0</td>  <td>-0.0194</td> <td>-0.0099</td>  <td>True</td> \n",
       "</tr>\n",
       "<tr>\n",
       "  <td>efficient_model_entropy</td>       <td>model_dice</td>         <td>0.0103</td>    <td>0.0</td>  <td>0.0055</td>   <td>0.015</td>   <td>True</td> \n",
       "</tr>\n",
       "<tr>\n",
       "  <td>efficient_model_entropy</td>      <td>model_entropy</td>       <td>-0.0009</td> <td>0.9991</td> <td>-0.0056</td> <td>0.0038</td>   <td>False</td>\n",
       "</tr>\n",
       "<tr>\n",
       "  <td>efficient_model_entropy</td>     <td>res_model_dice</td>       <td>0.0006</td>  <td>0.9999</td> <td>-0.0041</td> <td>0.0053</td>   <td>False</td>\n",
       "</tr>\n",
       "<tr>\n",
       "  <td>efficient_model_entropy</td>    <td>res_model_entropy</td>     <td>-0.004</td>  <td>0.1663</td> <td>-0.0087</td> <td>0.0007</td>   <td>False</td>\n",
       "</tr>\n",
       "<tr>\n",
       "        <td>model_dice</td>             <td>model_entropy</td>       <td>-0.0112</td>   <td>0.0</td>  <td>-0.0159</td> <td>-0.0064</td>  <td>True</td> \n",
       "</tr>\n",
       "<tr>\n",
       "        <td>model_dice</td>            <td>res_model_dice</td>       <td>-0.0097</td>   <td>0.0</td>  <td>-0.0144</td> <td>-0.005</td>   <td>True</td> \n",
       "</tr>\n",
       "<tr>\n",
       "        <td>model_dice</td>           <td>res_model_entropy</td>     <td>-0.0143</td>   <td>0.0</td>  <td>-0.019</td>  <td>-0.0096</td>  <td>True</td> \n",
       "</tr>\n",
       "<tr>\n",
       "       <td>model_entropy</td>          <td>res_model_dice</td>       <td>0.0015</td>  <td>0.9802</td> <td>-0.0032</td> <td>0.0062</td>   <td>False</td>\n",
       "</tr>\n",
       "<tr>\n",
       "       <td>model_entropy</td>         <td>res_model_entropy</td>     <td>-0.0031</td> <td>0.4873</td> <td>-0.0078</td> <td>0.0016</td>   <td>False</td>\n",
       "</tr>\n",
       "<tr>\n",
       "      <td>res_model_dice</td>         <td>res_model_entropy</td>     <td>-0.0046</td> <td>0.0632</td> <td>-0.0093</td> <td>0.0001</td>   <td>False</td>\n",
       "</tr>\n",
       "</table>"
      ],
      "text/plain": [
       "<class 'statsmodels.iolib.table.SimpleTable'>"
      ]
     },
     "execution_count": 19,
     "metadata": {},
     "output_type": "execute_result"
    }
   ],
   "source": [
    "tukey_hsd_results.summary()"
   ]
  },
  {
   "cell_type": "markdown",
   "id": "b6ebc03c-15f8-4270-af0f-25923b79ed93",
   "metadata": {},
   "source": [
    "# Conclusions\n",
    "We set out to compare different convolutional neural networks, and find out if we can get reasonable results.\n",
    "1. We cleaned, combined, and processed two different datasets. \n",
    "2. These datasets were then used to train convolutional neural networks to simultaneously extract buildings and road networks, through a process known as semantic segmentation. \n",
    "3. We used a UNet architecture, which has an encoder and decoder component with connections between the encoder and decoder layers.\n",
    "4. We compared 8 different models, the UNet, EfficientNet UNet, Attention-UNet, and Residual UNet models trained on two different loss functions.\n",
    "5. I found that the results improved when completely removed images that were missing either building or road labels, e.g., using partial label data is not a good idea! (but it was worth a try.)\n",
    "6. To compare the models we used the Intersection over Union (IoU) score which ranges between 0 to 1. It is a measure of how much the true and predicted feature extractions overlap.\n",
    "7. The IoU scores on median and average were greater than 0.62 on the test set. This means on average 38% of the structures do not overlap with the ground truth.\n",
    "8. The models perform differently on each area of interest, non-paved roads, angle of view, and objects obscuring buildings or roads can matter.\n",
    "9. A Tukey HSD test was used to find the best models: UNet, EfficientNet UNet, Attention-UNet using the dice loss performed better on average.\n",
    "\n",
    "# Discussion and Remarks\n",
    "There are many things that can still be explored and might improve the results in training these models. \n",
    "- Making use of stacking with the UNet models or some type of aggregation of an ensemble of models might help improve the result, this was shown to perform well in competitions. However, due to limited time it was not possible to train an ensemble of models.\n",
    "- It could be worth trying an ensemble method in the cloud, making use of AWS SageMaker and Spark.\n",
    "- There are a few other methods for semantic segmentation, like one called Mask R-CNN, that I could have tried using.\n",
    "- Rather than predict the pixel labels, I could have tried to predict the polygons directly. \n",
    "- There were a lot of images, and automated cleaning was used for the most part. Manually going through the images for quality assurance could help improve the results.\n",
    "- There are likely still issues with the road labels, I have seen a few images where the UNet detects a structure that could actually be a road but it is not labeled as a road. These will be difficult to find, but a manual quality assurance check could find these images.\n"
   ]
  }
 ],
 "metadata": {
  "kernelspec": {
   "display_name": "Python [conda env:tensorflow]",
   "language": "python",
   "name": "conda-env-tensorflow-py"
  },
  "language_info": {
   "codemirror_mode": {
    "name": "ipython",
    "version": 3
   },
   "file_extension": ".py",
   "mimetype": "text/x-python",
   "name": "python",
   "nbconvert_exporter": "python",
   "pygments_lexer": "ipython3",
   "version": "3.8.12"
  }
 },
 "nbformat": 4,
 "nbformat_minor": 5
}
