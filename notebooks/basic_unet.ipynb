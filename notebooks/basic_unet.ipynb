{
 "cells": [
  {
   "cell_type": "markdown",
   "id": "16bcb176-cf04-4e12-9d30-8eafbff277e1",
   "metadata": {},
   "source": [
    "# Name: Luke Pratley\n",
    "\n",
    "# Testing Basic UNet"
   ]
  },
  {
   "cell_type": "code",
   "execution_count": 1,
   "id": "33a62c40-9d58-4599-a894-649dc02bed87",
   "metadata": {},
   "outputs": [
    {
     "data": {
      "application/javascript": [
       "\n",
       "            setTimeout(function() {\n",
       "                var nbb_cell_id = 1;\n",
       "                var nbb_unformatted_code = \"%load_ext nb_black\\nimport tensorflow.keras \\nimport tensorflow as tf\\n\\nimport numpy as np\\nimport matplotlib.pyplot as plt\\nimport PIL\\nimport math\\n\\nimport sys\\nimport glob\\n\\nfrom sklearn.model_selection import train_test_split\\n\\nsys.path.append('..')\\n\\nimport building_road_segmentation.unet_factory as unet_factory\\nimport building_road_segmentation.optimization_factory as optimization_factory\\nfrom building_road_segmentation.data_generator import read_data\";\n",
       "                var nbb_formatted_code = \"%load_ext nb_black\\nimport tensorflow.keras\\nimport tensorflow as tf\\n\\nimport numpy as np\\nimport matplotlib.pyplot as plt\\nimport PIL\\nimport math\\n\\nimport sys\\nimport glob\\n\\nfrom sklearn.model_selection import train_test_split\\n\\nsys.path.append(\\\"..\\\")\\n\\nimport building_road_segmentation.unet_factory as unet_factory\\nimport building_road_segmentation.optimization_factory as optimization_factory\\nfrom building_road_segmentation.data_generator import read_data\";\n",
       "                var nbb_cells = Jupyter.notebook.get_cells();\n",
       "                for (var i = 0; i < nbb_cells.length; ++i) {\n",
       "                    if (nbb_cells[i].input_prompt_number == nbb_cell_id) {\n",
       "                        if (nbb_cells[i].get_text() == nbb_unformatted_code) {\n",
       "                             nbb_cells[i].set_text(nbb_formatted_code);\n",
       "                        }\n",
       "                        break;\n",
       "                    }\n",
       "                }\n",
       "            }, 500);\n",
       "            "
      ],
      "text/plain": [
       "<IPython.core.display.Javascript object>"
      ]
     },
     "metadata": {},
     "output_type": "display_data"
    }
   ],
   "source": [
    "%load_ext nb_black\n",
    "import tensorflow.keras \n",
    "import tensorflow as tf\n",
    "\n",
    "import numpy as np\n",
    "import matplotlib.pyplot as plt\n",
    "import PIL\n",
    "import math\n",
    "\n",
    "import sys\n",
    "import glob\n",
    "\n",
    "from sklearn.model_selection import train_test_split\n",
    "\n",
    "sys.path.append('..')\n",
    "\n",
    "import building_road_segmentation.unet_factory as unet_factory\n",
    "import building_road_segmentation.optimization_factory as optimization_factory\n",
    "from building_road_segmentation.data_generator import read_data"
   ]
  },
  {
   "cell_type": "code",
   "execution_count": 2,
   "id": "ff9fbacd-ebdc-494e-9f57-206abb7e662a",
   "metadata": {},
   "outputs": [
    {
     "data": {
      "application/javascript": [
       "\n",
       "            setTimeout(function() {\n",
       "                var nbb_cell_id = 2;\n",
       "                var nbb_unformatted_code = \"image_dir =  glob.glob(\\\"..\\\\\\\\data_cleaning_EDA\\\\\\\\final_images_small\\\\\\\\*\\\")\\nmask_dir =  glob.glob(\\\"..\\\\\\\\data_cleaning_EDA\\\\\\\\final_masks_small\\\\\\\\*\\\")\\nfor p in range(len(image_dir)):\\n    s1 = image_dir[p].split('\\\\\\\\')[-1].replace('RGB-PanSharpen_', '').replace('.png', '')\\n    s2 = mask_dir[p].split('\\\\\\\\')[-1].replace('RGB-PanSharpen_', '').replace('.npy', '')\\n    assert s1 == s2\";\n",
       "                var nbb_formatted_code = \"image_dir = glob.glob(\\\"..\\\\\\\\data_cleaning_EDA\\\\\\\\final_images_small\\\\\\\\*\\\")\\nmask_dir = glob.glob(\\\"..\\\\\\\\data_cleaning_EDA\\\\\\\\final_masks_small\\\\\\\\*\\\")\\nfor p in range(len(image_dir)):\\n    s1 = image_dir[p].split(\\\"\\\\\\\\\\\")[-1].replace(\\\"RGB-PanSharpen_\\\", \\\"\\\").replace(\\\".png\\\", \\\"\\\")\\n    s2 = mask_dir[p].split(\\\"\\\\\\\\\\\")[-1].replace(\\\"RGB-PanSharpen_\\\", \\\"\\\").replace(\\\".npy\\\", \\\"\\\")\\n    assert s1 == s2\";\n",
       "                var nbb_cells = Jupyter.notebook.get_cells();\n",
       "                for (var i = 0; i < nbb_cells.length; ++i) {\n",
       "                    if (nbb_cells[i].input_prompt_number == nbb_cell_id) {\n",
       "                        if (nbb_cells[i].get_text() == nbb_unformatted_code) {\n",
       "                             nbb_cells[i].set_text(nbb_formatted_code);\n",
       "                        }\n",
       "                        break;\n",
       "                    }\n",
       "                }\n",
       "            }, 500);\n",
       "            "
      ],
      "text/plain": [
       "<IPython.core.display.Javascript object>"
      ]
     },
     "metadata": {},
     "output_type": "display_data"
    }
   ],
   "source": [
    "image_dir =  glob.glob(\"..\\\\data_cleaning_EDA\\\\final_images_small\\\\*\")\n",
    "mask_dir =  glob.glob(\"..\\\\data_cleaning_EDA\\\\final_masks_small\\\\*\")\n",
    "for p in range(len(image_dir)):\n",
    "    s1 = image_dir[p].split('\\\\')[-1].replace('RGB-PanSharpen_', '').replace('.png', '')\n",
    "    s2 = mask_dir[p].split('\\\\')[-1].replace('RGB-PanSharpen_', '').replace('.npy', '')\n",
    "    assert s1 == s2"
   ]
  },
  {
   "cell_type": "code",
   "execution_count": 3,
   "id": "46f46eb4-f4ab-4a7b-b302-91c9fd1a4baa",
   "metadata": {},
   "outputs": [
    {
     "data": {
      "application/javascript": [
       "\n",
       "            setTimeout(function() {\n",
       "                var nbb_cell_id = 3;\n",
       "                var nbb_unformatted_code = \"train_image_dir, test_image_dir, train_mask_dir, test_mask_dir = train_test_split(image_dir, mask_dir, test_size=0.3)\";\n",
       "                var nbb_formatted_code = \"train_image_dir, test_image_dir, train_mask_dir, test_mask_dir = train_test_split(\\n    image_dir, mask_dir, test_size=0.3\\n)\";\n",
       "                var nbb_cells = Jupyter.notebook.get_cells();\n",
       "                for (var i = 0; i < nbb_cells.length; ++i) {\n",
       "                    if (nbb_cells[i].input_prompt_number == nbb_cell_id) {\n",
       "                        if (nbb_cells[i].get_text() == nbb_unformatted_code) {\n",
       "                             nbb_cells[i].set_text(nbb_formatted_code);\n",
       "                        }\n",
       "                        break;\n",
       "                    }\n",
       "                }\n",
       "            }, 500);\n",
       "            "
      ],
      "text/plain": [
       "<IPython.core.display.Javascript object>"
      ]
     },
     "metadata": {},
     "output_type": "display_data"
    }
   ],
   "source": [
    "train_image_dir, test_image_dir, train_mask_dir, test_mask_dir = train_test_split(image_dir, mask_dir, test_size=0.3)"
   ]
  },
  {
   "cell_type": "code",
   "execution_count": 4,
   "id": "357b9a84-251a-4712-879d-c5db2b251d1a",
   "metadata": {},
   "outputs": [
    {
     "data": {
      "application/javascript": [
       "\n",
       "            setTimeout(function() {\n",
       "                var nbb_cell_id = 4;\n",
       "                var nbb_unformatted_code = \"train_data = read_data(train_image_dir, train_mask_dir, batch_size=64)\\ntest_data = read_data(test_image_dir, test_mask_dir, batch_size=128)\";\n",
       "                var nbb_formatted_code = \"train_data = read_data(train_image_dir, train_mask_dir, batch_size=64)\\ntest_data = read_data(test_image_dir, test_mask_dir, batch_size=128)\";\n",
       "                var nbb_cells = Jupyter.notebook.get_cells();\n",
       "                for (var i = 0; i < nbb_cells.length; ++i) {\n",
       "                    if (nbb_cells[i].input_prompt_number == nbb_cell_id) {\n",
       "                        if (nbb_cells[i].get_text() == nbb_unformatted_code) {\n",
       "                             nbb_cells[i].set_text(nbb_formatted_code);\n",
       "                        }\n",
       "                        break;\n",
       "                    }\n",
       "                }\n",
       "            }, 500);\n",
       "            "
      ],
      "text/plain": [
       "<IPython.core.display.Javascript object>"
      ]
     },
     "metadata": {},
     "output_type": "display_data"
    }
   ],
   "source": [
    "train_data = read_data(train_image_dir, train_mask_dir, batch_size=64)\n",
    "test_data = read_data(test_image_dir, test_mask_dir, batch_size=128)"
   ]
  },
  {
   "cell_type": "code",
   "execution_count": 5,
   "id": "28ed8cf8-b60c-416b-b041-5bdc10646285",
   "metadata": {},
   "outputs": [
    {
     "data": {
      "application/javascript": [
       "\n",
       "            setTimeout(function() {\n",
       "                var nbb_cell_id = 5;\n",
       "                var nbb_unformatted_code = \"unet_levels = 4\\nnumber_of_categories = 3\\nunet_model = unet_factory.BasicUnet(number_of_categories=number_of_categories,\\n                                    unet_levels=unet_levels,\\n                                    number_of_start_kernels=32,\\n                                    kernel_shape=(3, 3),\\n                                    activation='relu',\\n                                    pooling_amount=2,\\n                                    dropout_rate=0.2)\";\n",
       "                var nbb_formatted_code = \"unet_levels = 4\\nnumber_of_categories = 3\\nunet_model = unet_factory.BasicUnet(\\n    number_of_categories=number_of_categories,\\n    unet_levels=unet_levels,\\n    number_of_start_kernels=32,\\n    kernel_shape=(3, 3),\\n    activation=\\\"relu\\\",\\n    pooling_amount=2,\\n    dropout_rate=0.2,\\n)\";\n",
       "                var nbb_cells = Jupyter.notebook.get_cells();\n",
       "                for (var i = 0; i < nbb_cells.length; ++i) {\n",
       "                    if (nbb_cells[i].input_prompt_number == nbb_cell_id) {\n",
       "                        if (nbb_cells[i].get_text() == nbb_unformatted_code) {\n",
       "                             nbb_cells[i].set_text(nbb_formatted_code);\n",
       "                        }\n",
       "                        break;\n",
       "                    }\n",
       "                }\n",
       "            }, 500);\n",
       "            "
      ],
      "text/plain": [
       "<IPython.core.display.Javascript object>"
      ]
     },
     "metadata": {},
     "output_type": "display_data"
    }
   ],
   "source": [
    "unet_levels = 4\n",
    "number_of_categories = 3\n",
    "unet_model = unet_factory.BasicUnet(number_of_categories=number_of_categories,\n",
    "                                    unet_levels=unet_levels,\n",
    "                                    number_of_start_kernels=32,\n",
    "                                    kernel_shape=(3, 3),\n",
    "                                    activation='relu',\n",
    "                                    pooling_amount=2,\n",
    "                                    dropout_rate=0.2)"
   ]
  },
  {
   "cell_type": "code",
   "execution_count": 6,
   "id": "2f7b61a5-e5c5-41d0-9a4a-b96be3490e7c",
   "metadata": {},
   "outputs": [
    {
     "data": {
      "application/javascript": [
       "\n",
       "            setTimeout(function() {\n",
       "                var nbb_cell_id = 6;\n",
       "                var nbb_unformatted_code = \"optimizer = tf.keras.optimizers.Adam(learning_rate=1e-3)\\nloss_fn = tf.keras.losses.CategoricalCrossentropy()\\ntrain_acc_metric = tf.keras.metrics.CategoricalAccuracy()\\ntest_acc_metric = tf.keras.metrics.CategoricalAccuracy()\\ntrain_iou_metric = tf.keras.metrics.MeanIoU(num_classes=3)\";\n",
       "                var nbb_formatted_code = \"optimizer = tf.keras.optimizers.Adam(learning_rate=1e-3)\\nloss_fn = tf.keras.losses.CategoricalCrossentropy()\\ntrain_acc_metric = tf.keras.metrics.CategoricalAccuracy()\\ntest_acc_metric = tf.keras.metrics.CategoricalAccuracy()\\ntrain_iou_metric = tf.keras.metrics.MeanIoU(num_classes=3)\";\n",
       "                var nbb_cells = Jupyter.notebook.get_cells();\n",
       "                for (var i = 0; i < nbb_cells.length; ++i) {\n",
       "                    if (nbb_cells[i].input_prompt_number == nbb_cell_id) {\n",
       "                        if (nbb_cells[i].get_text() == nbb_unformatted_code) {\n",
       "                             nbb_cells[i].set_text(nbb_formatted_code);\n",
       "                        }\n",
       "                        break;\n",
       "                    }\n",
       "                }\n",
       "            }, 500);\n",
       "            "
      ],
      "text/plain": [
       "<IPython.core.display.Javascript object>"
      ]
     },
     "metadata": {},
     "output_type": "display_data"
    }
   ],
   "source": [
    "optimizer = tf.keras.optimizers.Adam(learning_rate=1e-3)\n",
    "loss_fn = tf.keras.losses.CategoricalCrossentropy()\n",
    "train_acc_metric = tf.keras.metrics.CategoricalAccuracy()\n",
    "test_acc_metric = tf.keras.metrics.CategoricalAccuracy()\n",
    "train_iou_metric = tf.keras.metrics.MeanIoU(num_classes=3)"
   ]
  },
  {
   "cell_type": "code",
   "execution_count": 7,
   "id": "0cb4b62b-075f-4ef0-86b6-49ecd3edb37c",
   "metadata": {},
   "outputs": [
    {
     "data": {
      "application/javascript": [
       "\n",
       "            setTimeout(function() {\n",
       "                var nbb_cell_id = 7;\n",
       "                var nbb_unformatted_code = \"trainer = optimization_factory.Trainer(unet_model,loss_fn, optimizer,train_acc_metric, test_acc_metric,)# train_metrics=[('iou', train_iou_metric)])\";\n",
       "                var nbb_formatted_code = \"trainer = optimization_factory.Trainer(\\n    unet_model,\\n    loss_fn,\\n    optimizer,\\n    train_acc_metric,\\n    test_acc_metric,\\n)  # train_metrics=[('iou', train_iou_metric)])\";\n",
       "                var nbb_cells = Jupyter.notebook.get_cells();\n",
       "                for (var i = 0; i < nbb_cells.length; ++i) {\n",
       "                    if (nbb_cells[i].input_prompt_number == nbb_cell_id) {\n",
       "                        if (nbb_cells[i].get_text() == nbb_unformatted_code) {\n",
       "                             nbb_cells[i].set_text(nbb_formatted_code);\n",
       "                        }\n",
       "                        break;\n",
       "                    }\n",
       "                }\n",
       "            }, 500);\n",
       "            "
      ],
      "text/plain": [
       "<IPython.core.display.Javascript object>"
      ]
     },
     "metadata": {},
     "output_type": "display_data"
    }
   ],
   "source": [
    "trainer = optimization_factory.Trainer(unet_model,loss_fn, optimizer,train_acc_metric, test_acc_metric,)# train_metrics=[('iou', train_iou_metric)])"
   ]
  },
  {
   "cell_type": "code",
   "execution_count": null,
   "id": "d5dae51e-2f14-40cb-83d2-b0a6ba9f8e49",
   "metadata": {},
   "outputs": [
    {
     "name": "stdout",
     "output_type": "stream",
     "text": [
      "Epoch: 0\n",
      "WARNING:tensorflow:Gradients do not exist for variables ['basic_unet/down_layer/conv_block/conv2d_1/kernel:0', 'basic_unet/down_layer/conv_block/conv2d_1/bias:0', 'basic_unet/down_layer/conv_block/batch_normalization/gamma:0', 'basic_unet/down_layer/conv_block/batch_normalization/beta:0', 'basic_unet/down_layer_1/conv_block_1/conv2d_3/kernel:0', 'basic_unet/down_layer_1/conv_block_1/conv2d_3/bias:0', 'basic_unet/down_layer_1/conv_block_1/batch_normalization_2/gamma:0', 'basic_unet/down_layer_1/conv_block_1/batch_normalization_2/beta:0', 'basic_unet/down_layer_2/conv_block_2/conv2d_5/kernel:0', 'basic_unet/down_layer_2/conv_block_2/conv2d_5/bias:0', 'basic_unet/down_layer_2/conv_block_2/batch_normalization_4/gamma:0', 'basic_unet/down_layer_2/conv_block_2/batch_normalization_4/beta:0', 'basic_unet/down_layer_3/conv_block_3/conv2d_7/kernel:0', 'basic_unet/down_layer_3/conv_block_3/conv2d_7/bias:0', 'basic_unet/down_layer_3/conv_block_3/batch_normalization_6/gamma:0', 'basic_unet/down_layer_3/conv_block_3/batch_normalization_6/beta:0', 'basic_unet/up_layer/conv_block_4/conv2d_9/kernel:0', 'basic_unet/up_layer/conv_block_4/conv2d_9/bias:0', 'basic_unet/up_layer/conv_block_4/batch_normalization_8/gamma:0', 'basic_unet/up_layer/conv_block_4/batch_normalization_8/beta:0', 'basic_unet/up_layer_1/conv_block_5/conv2d_11/kernel:0', 'basic_unet/up_layer_1/conv_block_5/conv2d_11/bias:0', 'basic_unet/up_layer_1/conv_block_5/batch_normalization_10/gamma:0', 'basic_unet/up_layer_1/conv_block_5/batch_normalization_10/beta:0', 'basic_unet/up_layer_2/conv_block_6/conv2d_13/kernel:0', 'basic_unet/up_layer_2/conv_block_6/conv2d_13/bias:0', 'basic_unet/up_layer_2/conv_block_6/batch_normalization_12/gamma:0', 'basic_unet/up_layer_2/conv_block_6/batch_normalization_12/beta:0', 'basic_unet/up_layer_3/conv_block_7/conv2d_15/kernel:0', 'basic_unet/up_layer_3/conv_block_7/conv2d_15/bias:0', 'basic_unet/up_layer_3/conv_block_7/batch_normalization_14/gamma:0', 'basic_unet/up_layer_3/conv_block_7/batch_normalization_14/beta:0'] when minimizing the loss.\n",
      "WARNING:tensorflow:Gradients do not exist for variables ['basic_unet/down_layer/conv_block/conv2d_1/kernel:0', 'basic_unet/down_layer/conv_block/conv2d_1/bias:0', 'basic_unet/down_layer/conv_block/batch_normalization/gamma:0', 'basic_unet/down_layer/conv_block/batch_normalization/beta:0', 'basic_unet/down_layer_1/conv_block_1/conv2d_3/kernel:0', 'basic_unet/down_layer_1/conv_block_1/conv2d_3/bias:0', 'basic_unet/down_layer_1/conv_block_1/batch_normalization_2/gamma:0', 'basic_unet/down_layer_1/conv_block_1/batch_normalization_2/beta:0', 'basic_unet/down_layer_2/conv_block_2/conv2d_5/kernel:0', 'basic_unet/down_layer_2/conv_block_2/conv2d_5/bias:0', 'basic_unet/down_layer_2/conv_block_2/batch_normalization_4/gamma:0', 'basic_unet/down_layer_2/conv_block_2/batch_normalization_4/beta:0', 'basic_unet/down_layer_3/conv_block_3/conv2d_7/kernel:0', 'basic_unet/down_layer_3/conv_block_3/conv2d_7/bias:0', 'basic_unet/down_layer_3/conv_block_3/batch_normalization_6/gamma:0', 'basic_unet/down_layer_3/conv_block_3/batch_normalization_6/beta:0', 'basic_unet/up_layer/conv_block_4/conv2d_9/kernel:0', 'basic_unet/up_layer/conv_block_4/conv2d_9/bias:0', 'basic_unet/up_layer/conv_block_4/batch_normalization_8/gamma:0', 'basic_unet/up_layer/conv_block_4/batch_normalization_8/beta:0', 'basic_unet/up_layer_1/conv_block_5/conv2d_11/kernel:0', 'basic_unet/up_layer_1/conv_block_5/conv2d_11/bias:0', 'basic_unet/up_layer_1/conv_block_5/batch_normalization_10/gamma:0', 'basic_unet/up_layer_1/conv_block_5/batch_normalization_10/beta:0', 'basic_unet/up_layer_2/conv_block_6/conv2d_13/kernel:0', 'basic_unet/up_layer_2/conv_block_6/conv2d_13/bias:0', 'basic_unet/up_layer_2/conv_block_6/batch_normalization_12/gamma:0', 'basic_unet/up_layer_2/conv_block_6/batch_normalization_12/beta:0', 'basic_unet/up_layer_3/conv_block_7/conv2d_15/kernel:0', 'basic_unet/up_layer_3/conv_block_7/conv2d_15/bias:0', 'basic_unet/up_layer_3/conv_block_7/batch_normalization_14/gamma:0', 'basic_unet/up_layer_3/conv_block_7/batch_normalization_14/beta:0'] when minimizing the loss.\n",
      "3264/3347 [============================>.] - ETA: 0s - loss: 0.9167 - acc: 0.5006WARNING:tensorflow:Gradients do not exist for variables ['basic_unet/down_layer/conv_block/conv2d_1/kernel:0', 'basic_unet/down_layer/conv_block/conv2d_1/bias:0', 'basic_unet/down_layer/conv_block/batch_normalization/gamma:0', 'basic_unet/down_layer/conv_block/batch_normalization/beta:0', 'basic_unet/down_layer_1/conv_block_1/conv2d_3/kernel:0', 'basic_unet/down_layer_1/conv_block_1/conv2d_3/bias:0', 'basic_unet/down_layer_1/conv_block_1/batch_normalization_2/gamma:0', 'basic_unet/down_layer_1/conv_block_1/batch_normalization_2/beta:0', 'basic_unet/down_layer_2/conv_block_2/conv2d_5/kernel:0', 'basic_unet/down_layer_2/conv_block_2/conv2d_5/bias:0', 'basic_unet/down_layer_2/conv_block_2/batch_normalization_4/gamma:0', 'basic_unet/down_layer_2/conv_block_2/batch_normalization_4/beta:0', 'basic_unet/down_layer_3/conv_block_3/conv2d_7/kernel:0', 'basic_unet/down_layer_3/conv_block_3/conv2d_7/bias:0', 'basic_unet/down_layer_3/conv_block_3/batch_normalization_6/gamma:0', 'basic_unet/down_layer_3/conv_block_3/batch_normalization_6/beta:0', 'basic_unet/up_layer/conv_block_4/conv2d_9/kernel:0', 'basic_unet/up_layer/conv_block_4/conv2d_9/bias:0', 'basic_unet/up_layer/conv_block_4/batch_normalization_8/gamma:0', 'basic_unet/up_layer/conv_block_4/batch_normalization_8/beta:0', 'basic_unet/up_layer_1/conv_block_5/conv2d_11/kernel:0', 'basic_unet/up_layer_1/conv_block_5/conv2d_11/bias:0', 'basic_unet/up_layer_1/conv_block_5/batch_normalization_10/gamma:0', 'basic_unet/up_layer_1/conv_block_5/batch_normalization_10/beta:0', 'basic_unet/up_layer_2/conv_block_6/conv2d_13/kernel:0', 'basic_unet/up_layer_2/conv_block_6/conv2d_13/bias:0', 'basic_unet/up_layer_2/conv_block_6/batch_normalization_12/gamma:0', 'basic_unet/up_layer_2/conv_block_6/batch_normalization_12/beta:0', 'basic_unet/up_layer_3/conv_block_7/conv2d_15/kernel:0', 'basic_unet/up_layer_3/conv_block_7/conv2d_15/bias:0', 'basic_unet/up_layer_3/conv_block_7/batch_normalization_14/gamma:0', 'basic_unet/up_layer_3/conv_block_7/batch_normalization_14/beta:0'] when minimizing the loss.\n",
      "3347/3347 [==============================] - 17s 5ms/step - loss: 0.9141 - acc: 0.5020\n",
      "1435/1435 [==============================] - 4s 3ms/step - val_acc: 0.2707\n",
      "Epoch: 1\n",
      "3347/3347 [==============================] - 8s 2ms/step - loss: 0.7638 - acc: 0.6312\n",
      "1435/1435 [==============================] - 2s 1ms/step - val_acc: 0.4431\n",
      "Epoch: 2\n",
      "3347/3347 [==============================] - 8s 2ms/step - loss: 0.6964 - acc: 0.6767\n",
      "1435/1435 [==============================] - 2s 1ms/step - val_acc: 0.5183\n",
      "Epoch: 3\n",
      "3347/3347 [==============================] - 8s 2ms/step - loss: 0.6583 - acc: 0.6999\n",
      "1024/1435 [====================>.........] - ETA: 0s - val_acc: 0.5178"
     ]
    }
   ],
   "source": [
    "trainer.fit(train_data, test_data, epochs = 100, interval=1)"
   ]
  },
  {
   "cell_type": "code",
   "execution_count": null,
   "id": "65666a6a-163b-48b0-8445-09064e0b4fe8",
   "metadata": {},
   "outputs": [],
   "source": []
  },
  {
   "cell_type": "code",
   "execution_count": null,
   "id": "286405f7-1b5b-4120-abed-8831c61ba4e7",
   "metadata": {},
   "outputs": [],
   "source": [
    "fitted_model = trainer.model"
   ]
  },
  {
   "cell_type": "code",
   "execution_count": null,
   "id": "798299c1-d664-4747-9da3-5bf60f3814ae",
   "metadata": {},
   "outputs": [],
   "source": [
    "X_test = np.array([np.array(PIL.Image.open(im)).astype(float) for im in test_image_dir])"
   ]
  },
  {
   "cell_type": "code",
   "execution_count": null,
   "id": "7dd83d31-1913-43e2-b984-cd6eb60a3e3c",
   "metadata": {},
   "outputs": [],
   "source": [
    "y_test = np.array([\n",
    "            np.load(file_name)\n",
    "               for file_name in test_mask_dir])"
   ]
  },
  {
   "cell_type": "code",
   "execution_count": null,
   "id": "36f01b42-ba67-4b36-a0d4-70bf67b6c1fd",
   "metadata": {},
   "outputs": [],
   "source": [
    "def plot_result(X_test, y_test, y_pred):\n",
    "    fig, ax = plt.subplots(2, 4, figsize=(20, 10), sharex=True, sharey=True)\n",
    "    ax[0, 0].imshow(X_test.astype(int))\n",
    "    ax[1, 0].imshow(np.sum(y_test[:, :, :2], axis=2), vmin = 0)\n",
    "    ax[1, 1].imshow(y_test[ :, :, 0], vmin = 0)\n",
    "    ax[1, 2].imshow(y_test[:, :, 1], vmin = 0)\n",
    "    ax[1, 3].imshow(y_test[:, :, 2], vmin = 0)\n",
    "    ax[0, 1].imshow(y_pred[:, :, 0], vmin = 0)\n",
    "    ax[0, 2].imshow(y_pred[:, :, 1], vmin = 0)\n",
    "    ax[0, 3].imshow(y_pred[:, :, 2], vmin = 0)"
   ]
  },
  {
   "cell_type": "code",
   "execution_count": null,
   "id": "6e45849d-b520-4289-a8f8-b2d74a335101",
   "metadata": {},
   "outputs": [],
   "source": [
    "y_pred = fitted_model.predict(np.array([np.array(PIL.Image.open(im)).astype(float)/255. for im in test_image_dir]))\n",
    "y_pred = np.where(y_pred > 0.5, 1, 0)"
   ]
  },
  {
   "cell_type": "code",
   "execution_count": null,
   "id": "bda246d6-8a6f-42fe-89e6-38b1cf4dbbdd",
   "metadata": {},
   "outputs": [],
   "source": [
    "train_iou_metric.update_state(y_pred, y_test)\n",
    "tf.print(train_iou_metric.result())\n",
    "train_iou_metric.reset_state()"
   ]
  },
  {
   "cell_type": "code",
   "execution_count": null,
   "id": "83ae9819-72e3-402f-a5a3-5974cc0d697f",
   "metadata": {},
   "outputs": [],
   "source": [
    "k = 50\n",
    "plot_result(X_test[k], y_test[k], y_pred[k])"
   ]
  },
  {
   "cell_type": "code",
   "execution_count": null,
   "id": "4461db9a-8852-4c6e-a62d-37bbdd46dd0e",
   "metadata": {},
   "outputs": [],
   "source": []
  },
  {
   "cell_type": "code",
   "execution_count": null,
   "id": "1f6614af-3e51-4c60-ab9a-69ff885a799c",
   "metadata": {},
   "outputs": [],
   "source": []
  }
 ],
 "metadata": {
  "kernelspec": {
   "display_name": "Python [conda env:tf-gpu]",
   "language": "python",
   "name": "conda-env-tf-gpu-py"
  },
  "language_info": {
   "codemirror_mode": {
    "name": "ipython",
    "version": 3
   },
   "file_extension": ".py",
   "mimetype": "text/x-python",
   "name": "python",
   "nbconvert_exporter": "python",
   "pygments_lexer": "ipython3",
   "version": "3.9.7"
  }
 },
 "nbformat": 4,
 "nbformat_minor": 5
}
