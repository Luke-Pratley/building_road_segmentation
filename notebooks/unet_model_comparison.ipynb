{
 "cells": [
  {
   "cell_type": "markdown",
   "id": "16bcb176-cf04-4e12-9d30-8eafbff277e1",
   "metadata": {},
   "source": [
    "# Name: Luke Pratley\n",
    "\n",
    "# Testing Basic UNet"
   ]
  },
  {
   "cell_type": "code",
   "execution_count": 2,
   "id": "33a62c40-9d58-4599-a894-649dc02bed87",
   "metadata": {},
   "outputs": [
    {
     "name": "stdout",
     "output_type": "stream",
     "text": [
      "Num GPUs Available:  1\n"
     ]
    }
   ],
   "source": [
    "import os\n",
    "import numpy as np\n",
    "\n",
    "import tensorflow.keras \n",
    "import tensorflow as tf\n",
    "print(\"Num GPUs Available: \", len(tf.config.list_physical_devices('GPU')))\n",
    "\n",
    "from datetime import datetime\n",
    "\n",
    "\n",
    "import PIL\n",
    "import matplotlib.pyplot as plt\n",
    "import pandas as pd\n",
    "\n",
    "import math\n",
    "\n",
    "import glob\n",
    "import sys\n",
    "\n",
    "from sklearn.model_selection import train_test_split\n",
    "from sklearn.metrics import classification_report\n",
    "\n",
    "sys.path.append('..')\n",
    "\n",
    "import building_road_segmentation.unet_factory as unet_factory\n",
    "import building_road_segmentation.optimization_factory as optimization_factory\n",
    "import building_road_segmentation.data_generator as data_generator\n",
    "import building_road_segmentation.loss_functions as loss_functions"
   ]
  },
  {
   "cell_type": "code",
   "execution_count": 3,
   "id": "ff9fbacd-ebdc-494e-9f57-206abb7e662a",
   "metadata": {},
   "outputs": [
    {
     "name": "stdout",
     "output_type": "stream",
     "text": [
      "17331\n"
     ]
    }
   ],
   "source": [
    "image_dir =  glob.glob(\"..\\\\data_cleaning_EDA\\\\final_images_small\\\\*AOI_2*\") + glob.glob(\"..\\\\data_cleaning_EDA\\\\final_images_small\\\\*AOI_3*\") + glob.glob(\"..\\\\data_cleaning_EDA\\\\final_images_small\\\\*AOI_4*\") + glob.glob(\"..\\\\data_cleaning_EDA\\\\final_images_small\\\\*AOI_5*\")\n",
    "mask_dir =  glob.glob(\"..\\\\data_cleaning_EDA\\\\final_masks_small\\\\*AOI_2*\") + glob.glob(\"..\\\\data_cleaning_EDA\\\\final_masks_small\\\\*AOI_3*\") + glob.glob(\"..\\\\data_cleaning_EDA\\\\final_masks_small\\\\*AOI_4*\") + glob.glob(\"..\\\\data_cleaning_EDA\\\\final_masks_small\\\\*AOI_5*\")\n",
    "for p in range(len(image_dir)):\n",
    "    s1 = image_dir[p].split('\\\\')[-1].replace('RGB-PanSharpen_', '').replace('.png', '')\n",
    "    s2 = mask_dir[p].split('\\\\')[-1].replace('RGB-PanSharpen_', '').replace('.npy', '')\n",
    "    assert s1 == s2\n",
    "assert len(mask_dir) == len(image_dir)\n",
    "print(len(image_dir))"
   ]
  },
  {
   "cell_type": "code",
   "execution_count": 4,
   "id": "46f46eb4-f4ab-4a7b-b302-91c9fd1a4baa",
   "metadata": {},
   "outputs": [],
   "source": [
    "train_image_dir, test_image_dir, train_mask_dir, test_mask_dir = train_test_split(image_dir, mask_dir, test_size=0.3, random_state=42)"
   ]
  },
  {
   "cell_type": "code",
   "execution_count": 5,
   "id": "357b9a84-251a-4712-879d-c5db2b251d1a",
   "metadata": {},
   "outputs": [],
   "source": [
    "train_data = data_generator.READ_AND_AUGMENT_DATA(train_image_dir, train_mask_dir, batch_size=64)\n",
    "test_data = data_generator.READ_DATA(test_image_dir, test_mask_dir, batch_size=128)"
   ]
  },
  {
   "cell_type": "code",
   "execution_count": 6,
   "id": "65025afa-8570-40ba-8894-b8e1f07954b8",
   "metadata": {},
   "outputs": [],
   "source": [
    "losses = {'dice_loss' : loss_functions.weighted_dice_loss([1, 1]), 'BinaryCrossentropy': loss_functions.weighted_binary_crossentropy(np.array([1, 1]))}"
   ]
  },
  {
   "cell_type": "code",
   "execution_count": 7,
   "id": "35b599c6-16a0-4368-aa50-db30dabefb9c",
   "metadata": {},
   "outputs": [],
   "source": [
    "model_configurations = {'efficient_model_1': {'unet_levels': 4, 'number_of_start_kernels': 32, 'pooling_amount': 2, 'residual': False, 'loss': 'dice_loss'},\n",
    "                        'efficient_model_2': {'unet_levels': 4, 'number_of_start_kernels': 32, 'pooling_amount': 2, 'residual': False, 'loss': 'BinaryCrossentropy'},\n",
    "                        'model_1': {'unet_levels': 4, 'number_of_start_kernels': 32, 'pooling_amount': 2, 'residual': False, 'loss': 'dice_loss'},\n",
    "                        'model_2': {'unet_levels': 4, 'number_of_start_kernels': 32, 'pooling_amount': 2, 'residual': False, 'loss': 'BinaryCrossentropy'},\n",
    "                        'res_model_1': {'unet_levels': 4, 'number_of_start_kernels': 32, 'pooling_amount': 2, 'residual': True, 'loss': 'dice_loss'},\n",
    "                        'res_model_2': {'unet_levels': 4, 'number_of_start_kernels': 32, 'pooling_amount': 2, 'residual': True, 'loss': 'BinaryCrossentropy'},\n",
    "                        'attention_model_1': {'unet_levels': 4, 'number_of_start_kernels': 32, 'pooling_amount': 2, 'residual': False, 'loss': 'dice_loss'},\n",
    "                        'attention_model_2': {'unet_levels': 4, 'number_of_start_kernels': 32, 'pooling_amount': 2, 'residual': False, 'loss': 'BinaryCrossentropy'},\n",
    "                       }\n",
    "optimizer = tf.keras.optimizers.Adam(learning_rate=1e-3)"
   ]
  },
  {
   "cell_type": "code",
   "execution_count": 8,
   "id": "4c49b221-b49b-48b8-ba6d-9d6adaa80d20",
   "metadata": {},
   "outputs": [
    {
     "data": {
      "text/plain": [
       "8"
      ]
     },
     "execution_count": 8,
     "metadata": {},
     "output_type": "execute_result"
    }
   ],
   "source": [
    "len(model_configurations)"
   ]
  },
  {
   "cell_type": "code",
   "execution_count": null,
   "id": "28ed8cf8-b60c-416b-b041-5bdc10646285",
   "metadata": {
    "tags": []
   },
   "outputs": [
    {
     "name": "stdout",
     "output_type": "stream",
     "text": [
      "efficient_model_1 {'unet_levels': 4, 'number_of_start_kernels': 32, 'pooling_amount': 2, 'residual': False, 'loss': 'dice_loss'}\n",
      "Epoch 1/50\n",
      "948/948 [==============================] - ETA: 0s - loss: 0.5010 - accuracy: 0.8445INFO:tensorflow:Assets written to: efficient_model_1\\assets\n",
      "948/948 [==============================] - 321s 335ms/step - loss: 0.5010 - accuracy: 0.8445 - val_loss: 0.4474 - val_accuracy: 0.8843\n",
      "Epoch 2/50\n",
      "948/948 [==============================] - ETA: 0s - loss: 0.4261 - accuracy: 0.8856INFO:tensorflow:Assets written to: efficient_model_1\\assets\n",
      "948/948 [==============================] - 318s 335ms/step - loss: 0.4261 - accuracy: 0.8856 - val_loss: 0.4591 - val_accuracy: 0.8973\n",
      "Epoch 3/50\n",
      "948/948 [==============================] - ETA: 0s - loss: 0.4034 - accuracy: 0.8935INFO:tensorflow:Assets written to: efficient_model_1\\assets\n",
      "948/948 [==============================] - 324s 341ms/step - loss: 0.4034 - accuracy: 0.8935 - val_loss: 0.4029 - val_accuracy: 0.8995\n",
      "Epoch 4/50\n",
      "948/948 [==============================] - ETA: 0s - loss: 0.3905 - accuracy: 0.8980INFO:tensorflow:Assets written to: efficient_model_1\\assets\n",
      "948/948 [==============================] - 322s 340ms/step - loss: 0.3905 - accuracy: 0.8980 - val_loss: 0.4563 - val_accuracy: 0.9026\n",
      "Epoch 5/50\n",
      "948/948 [==============================] - ETA: 0s - loss: 0.3798 - accuracy: 0.9013INFO:tensorflow:Assets written to: efficient_model_1\\assets\n",
      "948/948 [==============================] - 333s 351ms/step - loss: 0.3798 - accuracy: 0.9013 - val_loss: 0.3766 - val_accuracy: 0.9041\n",
      "Epoch 6/50\n",
      "948/948 [==============================] - ETA: 0s - loss: 0.3721 - accuracy: 0.9038INFO:tensorflow:Assets written to: efficient_model_1\\assets\n",
      "948/948 [==============================] - 325s 343ms/step - loss: 0.3721 - accuracy: 0.9038 - val_loss: 0.3643 - val_accuracy: 0.9093\n",
      "Epoch 7/50\n",
      "948/948 [==============================] - ETA: 0s - loss: 0.3678 - accuracy: 0.9051INFO:tensorflow:Assets written to: efficient_model_1\\assets\n",
      "948/948 [==============================] - 329s 346ms/step - loss: 0.3678 - accuracy: 0.9051 - val_loss: 0.3711 - val_accuracy: 0.9117\n",
      "Epoch 8/50\n",
      "948/948 [==============================] - ETA: 0s - loss: 0.3623 - accuracy: 0.9067INFO:tensorflow:Assets written to: efficient_model_1\\assets\n",
      "948/948 [==============================] - 332s 350ms/step - loss: 0.3623 - accuracy: 0.9067 - val_loss: 0.3841 - val_accuracy: 0.9072\n",
      "Epoch 9/50\n",
      "948/948 [==============================] - ETA: 0s - loss: 0.3576 - accuracy: 0.9080INFO:tensorflow:Assets written to: efficient_model_1\\assets\n",
      "948/948 [==============================] - 339s 357ms/step - loss: 0.3576 - accuracy: 0.9080 - val_loss: 0.3674 - val_accuracy: 0.9101\n",
      "Epoch 10/50\n",
      "948/948 [==============================] - ETA: 0s - loss: 0.3584 - accuracy: 0.9078INFO:tensorflow:Assets written to: efficient_model_1\\assets\n",
      "948/948 [==============================] - 336s 354ms/step - loss: 0.3584 - accuracy: 0.9078 - val_loss: 0.3568 - val_accuracy: 0.9128\n",
      "Epoch 11/50\n",
      "948/948 [==============================] - ETA: 0s - loss: 0.3511 - accuracy: 0.9098INFO:tensorflow:Assets written to: efficient_model_1\\assets\n",
      "948/948 [==============================] - 338s 356ms/step - loss: 0.3511 - accuracy: 0.9098 - val_loss: 0.3571 - val_accuracy: 0.9108\n",
      "Epoch 12/50\n",
      "948/948 [==============================] - ETA: 0s - loss: 0.3491 - accuracy: 0.9105INFO:tensorflow:Assets written to: efficient_model_1\\assets\n",
      "948/948 [==============================] - 328s 346ms/step - loss: 0.3491 - accuracy: 0.9105 - val_loss: 0.3564 - val_accuracy: 0.9080\n",
      "Epoch 13/50\n",
      "948/948 [==============================] - ETA: 0s - loss: 0.3456 - accuracy: 0.9113INFO:tensorflow:Assets written to: efficient_model_1\\assets\n",
      "948/948 [==============================] - 327s 344ms/step - loss: 0.3456 - accuracy: 0.9113 - val_loss: 0.3781 - val_accuracy: 0.9132\n",
      "Epoch 14/50\n",
      "948/948 [==============================] - ETA: 0s - loss: 0.3425 - accuracy: 0.9122INFO:tensorflow:Assets written to: efficient_model_1\\assets\n",
      "948/948 [==============================] - 327s 345ms/step - loss: 0.3425 - accuracy: 0.9122 - val_loss: 0.3489 - val_accuracy: 0.9135\n",
      "Epoch 15/50\n",
      "948/948 [==============================] - ETA: 0s - loss: 0.3412 - accuracy: 0.9126INFO:tensorflow:Assets written to: efficient_model_1\\assets\n",
      "948/948 [==============================] - 325s 342ms/step - loss: 0.3412 - accuracy: 0.9126 - val_loss: 0.3473 - val_accuracy: 0.9102\n",
      "Epoch 16/50\n",
      "948/948 [==============================] - ETA: 0s - loss: 0.3386 - accuracy: 0.9133INFO:tensorflow:Assets written to: efficient_model_1\\assets\n",
      "948/948 [==============================] - 321s 338ms/step - loss: 0.3386 - accuracy: 0.9133 - val_loss: 0.3464 - val_accuracy: 0.9161\n",
      "Epoch 17/50\n",
      "948/948 [==============================] - ETA: 0s - loss: 0.3360 - accuracy: 0.9139INFO:tensorflow:Assets written to: efficient_model_1\\assets\n",
      "948/948 [==============================] - 324s 341ms/step - loss: 0.3360 - accuracy: 0.9139 - val_loss: 0.3430 - val_accuracy: 0.9159\n",
      "Epoch 18/50\n",
      "948/948 [==============================] - ETA: 0s - loss: 0.3345 - accuracy: 0.9144INFO:tensorflow:Assets written to: efficient_model_1\\assets\n",
      "948/948 [==============================] - 321s 338ms/step - loss: 0.3345 - accuracy: 0.9144 - val_loss: 0.3500 - val_accuracy: 0.9163\n",
      "Epoch 19/50\n",
      "948/948 [==============================] - ETA: 0s - loss: 0.3326 - accuracy: 0.9148INFO:tensorflow:Assets written to: efficient_model_1\\assets\n",
      "948/948 [==============================] - 324s 342ms/step - loss: 0.3326 - accuracy: 0.9148 - val_loss: 0.3449 - val_accuracy: 0.9147\n",
      "Epoch 20/50\n",
      "948/948 [==============================] - ETA: 0s - loss: 0.3314 - accuracy: 0.9152INFO:tensorflow:Assets written to: efficient_model_1\\assets\n",
      "948/948 [==============================] - 313s 329ms/step - loss: 0.3314 - accuracy: 0.9152 - val_loss: 0.3464 - val_accuracy: 0.9158\n",
      "Epoch 21/50\n",
      "948/948 [==============================] - ETA: 0s - loss: 0.3286 - accuracy: 0.9157INFO:tensorflow:Assets written to: efficient_model_1\\assets\n",
      "948/948 [==============================] - 327s 345ms/step - loss: 0.3286 - accuracy: 0.9157 - val_loss: 0.3590 - val_accuracy: 0.9137\n",
      "Epoch 22/50\n",
      "948/948 [==============================] - ETA: 0s - loss: 0.3272 - accuracy: 0.9162INFO:tensorflow:Assets written to: efficient_model_1\\assets\n",
      "948/948 [==============================] - 320s 337ms/step - loss: 0.3272 - accuracy: 0.9162 - val_loss: 0.3519 - val_accuracy: 0.9149\n",
      "Epoch 23/50\n",
      "948/948 [==============================] - ETA: 0s - loss: 0.3261 - accuracy: 0.9165INFO:tensorflow:Assets written to: efficient_model_1\\assets\n",
      "948/948 [==============================] - 347s 366ms/step - loss: 0.3261 - accuracy: 0.9165 - val_loss: 0.3387 - val_accuracy: 0.9170\n",
      "Epoch 24/50\n",
      "948/948 [==============================] - ETA: 0s - loss: 0.3246 - accuracy: 0.9169INFO:tensorflow:Assets written to: efficient_model_1\\assets\n",
      "948/948 [==============================] - 354s 373ms/step - loss: 0.3246 - accuracy: 0.9169 - val_loss: 0.3508 - val_accuracy: 0.9165\n",
      "Epoch 25/50\n",
      "948/948 [==============================] - ETA: 0s - loss: 0.3230 - accuracy: 0.9172INFO:tensorflow:Assets written to: efficient_model_1\\assets\n",
      "948/948 [==============================] - 356s 376ms/step - loss: 0.3230 - accuracy: 0.9172 - val_loss: 0.3320 - val_accuracy: 0.9150\n",
      "Epoch 26/50\n",
      "948/948 [==============================] - ETA: 0s - loss: 0.3218 - accuracy: 0.9177INFO:tensorflow:Assets written to: efficient_model_1\\assets\n",
      "948/948 [==============================] - 339s 358ms/step - loss: 0.3218 - accuracy: 0.9177 - val_loss: 0.3304 - val_accuracy: 0.9148\n",
      "Epoch 27/50\n",
      "948/948 [==============================] - ETA: 0s - loss: 0.3198 - accuracy: 0.9180INFO:tensorflow:Assets written to: efficient_model_1\\assets\n",
      "948/948 [==============================] - 336s 354ms/step - loss: 0.3198 - accuracy: 0.9180 - val_loss: 0.3371 - val_accuracy: 0.9179\n",
      "Epoch 28/50\n",
      "948/948 [==============================] - ETA: 0s - loss: 0.3190 - accuracy: 0.9183INFO:tensorflow:Assets written to: efficient_model_1\\assets\n",
      "948/948 [==============================] - 332s 350ms/step - loss: 0.3190 - accuracy: 0.9183 - val_loss: 0.3414 - val_accuracy: 0.9155\n",
      "Epoch 29/50\n",
      "948/948 [==============================] - ETA: 0s - loss: 0.3182 - accuracy: 0.9185INFO:tensorflow:Assets written to: efficient_model_1\\assets\n",
      "948/948 [==============================] - 341s 359ms/step - loss: 0.3182 - accuracy: 0.9185 - val_loss: 0.3301 - val_accuracy: 0.9172\n",
      "Epoch 30/50\n",
      "948/948 [==============================] - ETA: 0s - loss: 0.3163 - accuracy: 0.9189INFO:tensorflow:Assets written to: efficient_model_1\\assets\n",
      "948/948 [==============================] - 327s 345ms/step - loss: 0.3163 - accuracy: 0.9189 - val_loss: 0.3634 - val_accuracy: 0.9168\n",
      "Epoch 31/50\n",
      "948/948 [==============================] - ETA: 0s - loss: 0.3161 - accuracy: 0.9190INFO:tensorflow:Assets written to: efficient_model_1\\assets\n",
      "948/948 [==============================] - 342s 361ms/step - loss: 0.3161 - accuracy: 0.9190 - val_loss: 0.3356 - val_accuracy: 0.9193\n",
      "Epoch 32/50\n",
      "948/948 [==============================] - ETA: 0s - loss: 0.3136 - accuracy: 0.9197INFO:tensorflow:Assets written to: efficient_model_1\\assets\n",
      "948/948 [==============================] - 333s 351ms/step - loss: 0.3136 - accuracy: 0.9197 - val_loss: 0.3322 - val_accuracy: 0.9146\n",
      "Epoch 33/50\n",
      "948/948 [==============================] - ETA: 0s - loss: 0.3139 - accuracy: 0.9197INFO:tensorflow:Assets written to: efficient_model_1\\assets\n",
      "948/948 [==============================] - 345s 363ms/step - loss: 0.3139 - accuracy: 0.9197 - val_loss: 0.3393 - val_accuracy: 0.9196\n",
      "Epoch 34/50\n",
      "948/948 [==============================] - ETA: 0s - loss: 0.3127 - accuracy: 0.9198INFO:tensorflow:Assets written to: efficient_model_1\\assets\n",
      "948/948 [==============================] - 333s 351ms/step - loss: 0.3127 - accuracy: 0.9198 - val_loss: 0.4110 - val_accuracy: 0.8929\n",
      "Epoch 35/50\n",
      "948/948 [==============================] - ETA: 0s - loss: 0.3706 - accuracy: 0.9037INFO:tensorflow:Assets written to: efficient_model_1\\assets\n",
      "948/948 [==============================] - 326s 344ms/step - loss: 0.3706 - accuracy: 0.9037 - val_loss: 0.4419 - val_accuracy: 0.8683\n",
      "Epoch 36/50\n",
      "948/948 [==============================] - ETA: 0s - loss: 0.3773 - accuracy: 0.9010INFO:tensorflow:Assets written to: efficient_model_1\\assets\n",
      "948/948 [==============================] - 336s 354ms/step - loss: 0.3773 - accuracy: 0.9010 - val_loss: 0.3525 - val_accuracy: 0.9108\n",
      "Epoch 37/50\n",
      "948/948 [==============================] - ETA: 0s - loss: 0.3718 - accuracy: 0.9024INFO:tensorflow:Assets written to: efficient_model_1\\assets\n",
      "948/948 [==============================] - 343s 362ms/step - loss: 0.3718 - accuracy: 0.9024 - val_loss: 0.3537 - val_accuracy: 0.9115\n",
      "Epoch 38/50\n",
      "948/948 [==============================] - ETA: 0s - loss: 0.3528 - accuracy: 0.9070INFO:tensorflow:Assets written to: efficient_model_1\\assets\n",
      "948/948 [==============================] - 335s 353ms/step - loss: 0.3528 - accuracy: 0.9070 - val_loss: 0.3348 - val_accuracy: 0.9166\n",
      "Epoch 39/50\n",
      "948/948 [==============================] - ETA: 0s - loss: 0.3582 - accuracy: 0.9066INFO:tensorflow:Assets written to: efficient_model_1\\assets\n",
      "948/948 [==============================] - 343s 361ms/step - loss: 0.3582 - accuracy: 0.9066 - val_loss: 0.3636 - val_accuracy: 0.9123\n",
      "Epoch 40/50\n",
      "948/948 [==============================] - ETA: 0s - loss: 0.3543 - accuracy: 0.9069INFO:tensorflow:Assets written to: efficient_model_1\\assets\n",
      "948/948 [==============================] - 346s 364ms/step - loss: 0.3543 - accuracy: 0.9069 - val_loss: 0.3477 - val_accuracy: 0.9101\n",
      "Epoch 41/50\n",
      "948/948 [==============================] - ETA: 0s - loss: 0.3544 - accuracy: 0.9067INFO:tensorflow:Assets written to: efficient_model_1\\assets\n",
      "948/948 [==============================] - 347s 365ms/step - loss: 0.3544 - accuracy: 0.9067 - val_loss: 0.3313 - val_accuracy: 0.9157\n",
      "Epoch 42/50\n",
      "117/948 [==>...........................] - ETA: 4:54 - loss: 0.3431 - accuracy: 0.9097"
     ]
    }
   ],
   "source": [
    "for model_name, model_config in model_configurations.items():\n",
    "    print(model_name, model_config)\n",
    "    tf.keras.backend.clear_session()\n",
    "    if not os.path.exists(model_name):\n",
    "        if model_name.split('_')[0] =='efficient':\n",
    "                    unet_model = unet_factory.EfficientNetUNet(efficientnet=tensorflow.keras.applications.efficientnet.EfficientNetB4,\n",
    "                                            number_of_categories=2,\n",
    "                                            unet_levels=model_config['unet_levels'],\n",
    "                                            number_of_start_kernels=model_config['number_of_start_kernels'],\n",
    "                                            kernel_shape=(3, 3),\n",
    "                                            activation='relu',\n",
    "                                            final_activation='sigmoid',\n",
    "                                            pooling_amount=model_config['pooling_amount'],\n",
    "                                            dropout_rate=0.2, residual=model_config['residual'])\n",
    "        if model_name.split('_')[0] =='attention':\n",
    "            unet_model = unet_factory.BasicUNet(number_of_categories=2,\n",
    "                                            unet_levels=model_config['unet_levels'],\n",
    "                                            number_of_start_kernels=model_config['number_of_start_kernels'],\n",
    "                                            kernel_shape=(3, 3),\n",
    "                                            activation='relu',\n",
    "                                            final_activation='sigmoid',\n",
    "                                            pooling_amount=model_config['pooling_amount'],\n",
    "                                            dropout_rate=0.2, residual=model_config['residual'])\n",
    "        else:\n",
    "            unet_model = unet_factory.BasicUNet(number_of_categories=2,\n",
    "                                            unet_levels=model_config['unet_levels'],\n",
    "                                            number_of_start_kernels=model_config['number_of_start_kernels'],\n",
    "                                            kernel_shape=(3, 3),\n",
    "                                            activation='relu',\n",
    "                                            final_activation='sigmoid',\n",
    "                                            pooling_amount=model_config['pooling_amount'],\n",
    "                                            dropout_rate=0.2, residual=model_config['residual'])\n",
    "\n",
    "    else:\n",
    "        unet_model = tf.keras.models.load_model(model_name, custom_objects={model_config['loss']: losses[model_config['loss']]})\n",
    "        history_pre = pd.read_csv(model_name +'_history.csv', index_col=0)\n",
    "    modelcheckpoint = tf.keras.callbacks.ModelCheckpoint(filepath=model_name, \n",
    "                        monitor='val_loss',\n",
    "                        mode='min',\n",
    "                        restore_best_weights=True, save_format='tf')\n",
    "    unet_model.compile(optimizer=optimizer, loss=losses[model_config['loss']], metrics=[loss_functions.masked_accuracy()])\n",
    "    history = unet_model.fit(train_data, epochs=50, validation_data=test_data, callbacks=[modelcheckpoint])\n",
    "    if os.path.exists(model_name):\n",
    "        history = pd.concat((history_pre , pd.DataFrame(history.history)), axis=0, ignore_index=True)\n",
    "    history.to_csv(f'{model_name}_history.csv')  \n",
    "    break"
   ]
  },
  {
   "cell_type": "code",
   "execution_count": null,
   "id": "2f7b61a5-e5c5-41d0-9a4a-b96be3490e7c",
   "metadata": {},
   "outputs": [],
   "source": [
    "histories = {}\n",
    "count = 0\n",
    "fig, ax = plt.subplots(1, 2, sharex=True, sharey=False, figsize=(10,5))\n",
    "for model_name, model_config in model_configurations.items():\n",
    "    if os.path.exists(model_name):\n",
    "        history = pd.read_csv(model_name +'_history.csv', index_col=0)\n",
    "        histories[model_name] = history\n",
    "        if np.max(history['val_loss']) < 0.5:    \n",
    "            ax[0].plot(history['val_accuracy'], label=model_name)\n",
    "            ax[0].set_ylabel('val accuracy')\n",
    "            ax[0].set_xlabel('epoch')\n",
    "            ax[1].plot(history['val_loss'])\n",
    "            ax[1].set_ylabel('val loss')\n",
    "            ax[1].set_xlabel('epoch')\n",
    "ax[0].legend()\n",
    "plt.show()"
   ]
  },
  {
   "cell_type": "code",
   "execution_count": null,
   "id": "7c7f27dc-a62f-493d-a98d-0934059c95a5",
   "metadata": {},
   "outputs": [],
   "source": [
    "histories['efficient_model_1']"
   ]
  },
  {
   "cell_type": "code",
   "execution_count": null,
   "id": "798299c1-d664-4747-9da3-5bf60f3814ae",
   "metadata": {},
   "outputs": [],
   "source": [
    "X_test = np.array([np.array(PIL.Image.open(im)).astype(float) for im in test_image_dir])"
   ]
  },
  {
   "cell_type": "code",
   "execution_count": null,
   "id": "7dd83d31-1913-43e2-b984-cd6eb60a3e3c",
   "metadata": {},
   "outputs": [],
   "source": [
    "y_test = np.array([\n",
    "            np.load(file_name)\n",
    "               for file_name in test_mask_dir])"
   ]
  },
  {
   "cell_type": "code",
   "execution_count": null,
   "id": "bda246d6-8a6f-42fe-89e6-38b1cf4dbbdd",
   "metadata": {},
   "outputs": [],
   "source": [
    "model_metrics = {}\n",
    "for k, (model_name, model_config) in enumerate(model_configurations.items()):\n",
    "    if os.path.exists(model_name + '.h5'):\n",
    "        model_metrics[model_name] = {'road_iou': {'AOI_2_Vegas': [], 'AOI_3_Paris': [], 'AOI_4_Shanghai' : [], 'AOI_5_Khartoum': []}, \n",
    "                                 'building_iou': {'AOI_2_Vegas': [], 'AOI_3_Paris': [], 'AOI_4_Shanghai' : [], 'AOI_5_Khartoum': []}}\n",
    "        tf.keras.backend.clear_session()\n",
    "        final_model = tf.keras.models.load_model(model_name + '.h5', custom_objects={model_config['loss']: losses[model_config['loss']]})\n",
    "        print(model_name, model_config)\n",
    "        y_pred = final_model.predict(X_test/255)\n",
    "        y_pred = np.where(y_pred > 0.5, 1, 0)\n",
    "        for k in range(y_test.shape[0]):\n",
    "            for key in model_metrics[model_name]['road_iou'].keys():\n",
    "                if key in test_mask_dir[k]:\n",
    "                    if np.sum(y_test[k, :, :, 0]) > 0:\n",
    "                        model_metrics[model_name]['road_iou'][key].append(loss_functions.intersection_over_union(y_test[k, :, :, 0], y_pred[k, :, :, 0]))\n",
    "                    if np.sum(y_test[k, :, :, 1]) > 0:\n",
    "                        model_metrics[model_name]['building_iou'][key].append(loss_functions.intersection_over_union(y_test[k, :, :, 1], y_pred[k, :, :, 1]))"
   ]
  },
  {
   "cell_type": "code",
   "execution_count": null,
   "id": "6a76f443-0c8f-447a-848d-afafcf4919ec",
   "metadata": {},
   "outputs": [],
   "source": [
    "def plot_metrics(model_metrics, model_name):\n",
    "    fig, ax = plt.subplots(1, 4, sharex=True, sharey=True, figsize=(10, 2))\n",
    "    plt.suptitle(f'Road Average IoU per Image ({model_name})')\n",
    "    ax = np.ravel(ax)\n",
    "    for k, key in enumerate(model_metrics[model_name]['road_iou'].keys()):\n",
    "        model_metrics[model_name]['road_iou'][key] = np.array(model_metrics[model_name]['road_iou'][key])\n",
    "        ax[k].hist(model_metrics[model_name]['road_iou'][key], density=True, alpha=0.5, bins=np.arange(0, 1.05, 0.05), label=key, color=['green', 'red', 'navy', 'purple'][k])\n",
    "        ax[k].legend()\n",
    "        ax[k].set_xlabel('IoU')\n",
    "        ax[k].axvline(np.mean(model_metrics[model_name]['road_iou'][key]))\n",
    "    ax[0].set_ylabel('Density')\n",
    "    plt.show()\n",
    "\n",
    "    fig, ax = plt.subplots(1, 4, sharex=True, sharey=True, figsize=(10, 2))\n",
    "    fig.suptitle(f'Building Average IoU per Image ({model_name})')\n",
    "    ax = np.ravel(ax)\n",
    "    for k, key in enumerate(model_metrics[model_name]['building_iou'].keys()):\n",
    "        model_metrics[model_name]['building_iou'][key] = np.array(model_metrics[model_name]['building_iou'][key])\n",
    "        ax[k].hist(model_metrics[model_name]['building_iou'][key], density=True, alpha=0.5, bins=np.arange(0, 1.05, 0.05), label=key, color=['green', 'red', 'navy', 'purple'][k])\n",
    "        ax[k].legend()\n",
    "        ax[k].set_xlabel('IoU')\n",
    "        ax[k].axvline(np.mean(model_metrics[model_name]['building_iou'][key]))\n",
    "    ax[0].set_ylabel('Density')\n",
    "    plt.show()"
   ]
  },
  {
   "cell_type": "code",
   "execution_count": null,
   "id": "3475ab2a-4c1f-4c33-aaa0-7e420c592bba",
   "metadata": {},
   "outputs": [],
   "source": [
    "for model_name in model_configurations.keys():\n",
    "    if os.path.exists(model_name):\n",
    "        if np.mean(histories[model_name]['val_loss']) < 0.5:\n",
    "            print(model_name, model_configurations[model_name])\n",
    "            plot_metrics(model_metrics, model_name)"
   ]
  },
  {
   "cell_type": "code",
   "execution_count": null,
   "id": "36f01b42-ba67-4b36-a0d4-70bf67b6c1fd",
   "metadata": {},
   "outputs": [],
   "source": [
    "from matplotlib.colors import ListedColormap\n",
    "from matplotlib.patches import Patch\n",
    "\n",
    "def plot_result(X_test, y_test, model_name, display_prob, index=0):\n",
    "        final_model = tf.keras.models.load_model(model_name, custom_objects={model_config['loss']: losses[model_config['loss']]})\n",
    "        y_pred = final_model.predict(X_test)\n",
    "        print(np.ceil(y_test[k, :, :, 0][y_test[k, :, :, 0] !=0]).mean())\n",
    "        if not display_prob:\n",
    "            y_pred = np.where(y_pred > 0.5, 1, 0)\n",
    "        fig, ax = plt.subplots(2, 3, figsize=(15, 8), sharex=True, sharey=True)\n",
    "        ax[1, 0].set_title('Mismatch')\n",
    "        ax[1, 0].imshow(np.sum(np.ceil(np.abs(y_test[index, :, :, :] - y_pred[index, :, :, :])),axis=-1), cmap=ListedColormap(['navy','red']))\n",
    "        ax[1, 0].legend(handles=[Patch(facecolor='red', edgecolor='red', label='Mismatch'), \n",
    "                                 Patch(facecolor='navy', edgecolor='navy', label='Match')], loc=\"best\")\n",
    "        ax[0, 0].set_title('Labels')\n",
    "        ax[0, 0].imshow(y_test[index, :, :, 0] * 10 + y_test[index, :, :, 1] * 20, cmap = ListedColormap(['navy','green','purple']))\n",
    "        ax[0, 0].legend(handles=[Patch(facecolor='navy', edgecolor='navy',\n",
    "                         label='Background'), Patch(facecolor='green', edgecolor='green',\n",
    "                         label='Road Network'), Patch(facecolor='purple', edgecolor='purple',\n",
    "                         label='Building')], loc=\"best\")\n",
    "        ax[1, 1].set_title('True Road Network')\n",
    "        ax[1, 1].imshow(y_test[index, :, :, 0], vmin = 0, vmax=1)\n",
    "        ax[1, 2].set_title('True Building Footprint')\n",
    "        ax[1, 2].imshow(y_test[index, :, :, 1], vmin = 0, vmax=1)\n",
    "        ax[0, 1].set_title('Predicted Road Network')\n",
    "        ax[0, 1].imshow(y_pred[index, :, :, 0], vmin = 0, vmax=1)\n",
    "        ax[0, 2].set_title('Predicted Building Footprint')\n",
    "        ax[0, 2].imshow(y_pred[index, :, :, 1], vmin = 0, vmax=1)"
   ]
  },
  {
   "cell_type": "code",
   "execution_count": null,
   "id": "83ae9819-72e3-402f-a5a3-5974cc0d697f",
   "metadata": {},
   "outputs": [],
   "source": [
    "k = 40\n",
    "\n",
    "batch = math.floor(k / test_data.batch_size) \n",
    "index = k - batch * test_data.batch_size\n",
    "print(test_data.x[k])\n",
    "print(test_data.y[k])\n",
    "X_test_batch, y_test_batch = test_data.__getitem__(batch)\n",
    "plt.figure(figsize=(5, 5))\n",
    "plt.imshow(X_test_batch[index, :, :])\n",
    "for model_name, model_config in model_configurations.items():\n",
    "    print(model_config)\n",
    "    if os.path.exists(model_name):\n",
    "        plot_result(X_test_batch, y_test_batch, model_name=model_name, display_prob=True, index=index)\n",
    "        plt.show()"
   ]
  },
  {
   "cell_type": "code",
   "execution_count": null,
   "id": "1d257d8c-efc3-41d3-9d4a-8d80ca0fdaaf",
   "metadata": {},
   "outputs": [],
   "source": []
  }
 ],
 "metadata": {
  "kernelspec": {
   "display_name": "Python [conda env:tensorflow]",
   "language": "python",
   "name": "conda-env-tensorflow-py"
  },
  "language_info": {
   "codemirror_mode": {
    "name": "ipython",
    "version": 3
   },
   "file_extension": ".py",
   "mimetype": "text/x-python",
   "name": "python",
   "nbconvert_exporter": "python",
   "pygments_lexer": "ipython3",
   "version": "3.8.12"
  }
 },
 "nbformat": 4,
 "nbformat_minor": 5
}
