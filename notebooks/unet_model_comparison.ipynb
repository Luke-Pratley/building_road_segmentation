{
 "cells": [
  {
   "cell_type": "markdown",
   "id": "16bcb176-cf04-4e12-9d30-8eafbff277e1",
   "metadata": {},
   "source": [
    "# Name: Luke Pratley\n",
    "\n",
    "# Testing Basic UNet"
   ]
  },
  {
   "cell_type": "code",
   "execution_count": 1,
   "id": "33a62c40-9d58-4599-a894-649dc02bed87",
   "metadata": {},
   "outputs": [
    {
     "name": "stdout",
     "output_type": "stream",
     "text": [
      "Num GPUs Available:  1\n"
     ]
    }
   ],
   "source": [
    "import os\n",
    "import numpy as np\n",
    "\n",
    "import tensorflow.keras \n",
    "import tensorflow as tf\n",
    "print(\"Num GPUs Available: \", len(tf.config.list_physical_devices('GPU')))\n",
    "\n",
    "from datetime import datetime\n",
    "\n",
    "\n",
    "import PIL\n",
    "import matplotlib.pyplot as plt\n",
    "import pandas as pd\n",
    "\n",
    "import math\n",
    "\n",
    "import glob\n",
    "import sys\n",
    "\n",
    "from sklearn.model_selection import train_test_split\n",
    "from sklearn.metrics import classification_report\n",
    "\n",
    "sys.path.append('..')\n",
    "\n",
    "import building_road_segmentation.unet_factory as unet_factory\n",
    "import building_road_segmentation.optimization_factory as optimization_factory\n",
    "import building_road_segmentation.data_generator as data_generator\n",
    "import building_road_segmentation.loss_functions as loss_functions"
   ]
  },
  {
   "cell_type": "code",
   "execution_count": 2,
   "id": "ff9fbacd-ebdc-494e-9f57-206abb7e662a",
   "metadata": {},
   "outputs": [
    {
     "name": "stdout",
     "output_type": "stream",
     "text": [
      "16739\n"
     ]
    }
   ],
   "source": [
    "image_dir =  glob.glob(\"..\\\\data_cleaning_EDA\\\\final_images_small\\\\*AOI_2*\") + glob.glob(\"..\\\\data_cleaning_EDA\\\\final_images_small\\\\*AOI_3*\") + glob.glob(\"..\\\\data_cleaning_EDA\\\\final_images_small\\\\*AOI_4*\") + glob.glob(\"..\\\\data_cleaning_EDA\\\\final_images_small\\\\*AOI_5*\")\n",
    "mask_dir =  glob.glob(\"..\\\\data_cleaning_EDA\\\\final_masks_small\\\\*AOI_2*\") + glob.glob(\"..\\\\data_cleaning_EDA\\\\final_masks_small\\\\*AOI_3*\") + glob.glob(\"..\\\\data_cleaning_EDA\\\\final_masks_small\\\\*AOI_4*\") + glob.glob(\"..\\\\data_cleaning_EDA\\\\final_masks_small\\\\*AOI_5*\")\n",
    "filt_image_dir = []\n",
    "filt_mask_dir = []\n",
    "for p in range(len(image_dir)):\n",
    "    s1 = image_dir[p].split('\\\\')[-1].replace('RGB-PanSharpen_', '').replace('.png', '')\n",
    "    s2 = mask_dir[p].split('\\\\')[-1].replace('RGB-PanSharpen_', '').replace('.npy', '')\n",
    "    assert s1 == s2\n",
    "    mask = np.load(mask_dir[p])\n",
    "    if (mask >= 0).all():\n",
    "        filt_image_dir.append(image_dir[p])\n",
    "        filt_mask_dir.append(mask_dir[p])\n",
    "    \n",
    "assert len(mask_dir) == len(image_dir)\n",
    "print(len(image_dir))"
   ]
  },
  {
   "cell_type": "code",
   "execution_count": 3,
   "id": "f228b3d0-a624-44f5-a23a-d50f0764a8d1",
   "metadata": {},
   "outputs": [
    {
     "data": {
      "text/plain": [
       "12542"
      ]
     },
     "execution_count": 3,
     "metadata": {},
     "output_type": "execute_result"
    }
   ],
   "source": [
    "len(filt_image_dir)"
   ]
  },
  {
   "cell_type": "code",
   "execution_count": 4,
   "id": "46f46eb4-f4ab-4a7b-b302-91c9fd1a4baa",
   "metadata": {},
   "outputs": [],
   "source": [
    "train_image_dir, test_image_dir, train_mask_dir, test_mask_dir = train_test_split(filt_image_dir, filt_mask_dir, test_size=0.3, random_state=42)"
   ]
  },
  {
   "cell_type": "code",
   "execution_count": 5,
   "id": "357b9a84-251a-4712-879d-c5db2b251d1a",
   "metadata": {},
   "outputs": [],
   "source": [
    "train_data = data_generator.READ_AND_AUGMENT_DATA(train_image_dir, train_mask_dir, batch_size=64)\n",
    "test_data = data_generator.READ_AND_AUGMENT_DATA(test_image_dir, test_mask_dir, batch_size=128)"
   ]
  },
  {
   "cell_type": "code",
   "execution_count": 6,
   "id": "65025afa-8570-40ba-8894-b8e1f07954b8",
   "metadata": {},
   "outputs": [],
   "source": [
    "losses = {'dice_loss' : loss_functions.weighted_dice_loss([1, 1]), 'BinaryCrossentropy': loss_functions.weighted_binary_crossentropy(np.array([1, 1]))}"
   ]
  },
  {
   "cell_type": "code",
   "execution_count": 7,
   "id": "35b599c6-16a0-4368-aa50-db30dabefb9c",
   "metadata": {},
   "outputs": [],
   "source": [
    "model_configurations = {\n",
    "                        'efficient_model_1': {'unet_levels': 4, 'number_of_start_kernels': 32, 'pooling_amount': 2, 'residual': False, 'loss': 'dice_loss'},\n",
    "                        'efficient_model_2': {'unet_levels': 4, 'number_of_start_kernels': 32, 'pooling_amount': 2, 'residual': False, 'loss': 'BinaryCrossentropy'},\n",
    "#                        'model_1': {'unet_levels': 4, 'number_of_start_kernels': 32, 'pooling_amount': 2, 'residual': False, 'loss': 'dice_loss'},\n",
    "#                        'model_2': {'unet_levels': 4, 'number_of_start_kernels': 32, 'pooling_amount': 2, 'residual': False, 'loss': 'BinaryCrossentropy'},\n",
    "#                        'res_model_1': {'unet_levels': 4, 'number_of_start_kernels': 32, 'pooling_amount': 2, 'residual': True, 'loss': 'dice_loss'},\n",
    "#                        'res_model_2': {'unet_levels': 4, 'number_of_start_kernels': 32, 'pooling_amount': 2, 'residual': True, 'loss': 'BinaryCrossentropy'},\n",
    "#                        'attention_model_1': {'unet_levels': 4, 'number_of_start_kernels': 32, 'pooling_amount': 2, 'residual': False, 'loss': 'dice_loss'},\n",
    "#                        'attention_model_2': {'unet_levels': 4, 'number_of_start_kernels': 32, 'pooling_amount': 2, 'residual': False, 'loss': 'BinaryCrossentropy'},\n",
    "                       }\n",
    "optimizer = tf.keras.optimizers.Adam(learning_rate=1e-3)"
   ]
  },
  {
   "cell_type": "code",
   "execution_count": 8,
   "id": "4c49b221-b49b-48b8-ba6d-9d6adaa80d20",
   "metadata": {},
   "outputs": [
    {
     "data": {
      "text/plain": [
       "2"
      ]
     },
     "execution_count": 8,
     "metadata": {},
     "output_type": "execute_result"
    }
   ],
   "source": [
    "len(model_configurations)"
   ]
  },
  {
   "cell_type": "code",
   "execution_count": 9,
   "id": "90310afc-b978-498c-9916-fe5daa45a6e5",
   "metadata": {},
   "outputs": [],
   "source": [
    "retrain=False"
   ]
  },
  {
   "cell_type": "code",
   "execution_count": null,
   "id": "28ed8cf8-b60c-416b-b041-5bdc10646285",
   "metadata": {
    "tags": []
   },
   "outputs": [
    {
     "name": "stdout",
     "output_type": "stream",
     "text": [
      "efficient_model_1 {'unet_levels': 4, 'number_of_start_kernels': 32, 'pooling_amount': 2, 'residual': False, 'loss': 'dice_loss'}\n",
      "Epoch 1/100\n",
      "686/686 [==============================] - ETA: 0s - loss: 0.5191 - accuracy: 0.8094 - iou_metric: 0.3391INFO:tensorflow:Assets written to: efficient_model_1\\assets\n",
      "686/686 [==============================] - 302s 433ms/step - loss: 0.5191 - accuracy: 0.8094 - iou_metric: 0.3391 - val_loss: 0.4659 - val_accuracy: 0.8784 - val_iou_metric: 0.3757\n",
      "Epoch 2/100\n",
      "686/686 [==============================] - ETA: 0s - loss: 0.4182 - accuracy: 0.8826 - iou_metric: 0.4174INFO:tensorflow:Assets written to: efficient_model_1\\assets\n",
      "686/686 [==============================] - 286s 416ms/step - loss: 0.4182 - accuracy: 0.8826 - iou_metric: 0.4174 - val_loss: 0.3963 - val_accuracy: 0.8895 - val_iou_metric: 0.4412\n",
      "Epoch 3/100\n",
      "686/686 [==============================] - ETA: 0s - loss: 0.3913 - accuracy: 0.8922 - iou_metric: 0.4426INFO:tensorflow:Assets written to: efficient_model_1\\assets\n",
      "686/686 [==============================] - 291s 424ms/step - loss: 0.3913 - accuracy: 0.8922 - iou_metric: 0.4426 - val_loss: 0.3783 - val_accuracy: 0.8980 - val_iou_metric: 0.4522\n",
      "Epoch 4/100\n",
      "686/686 [==============================] - 291s 424ms/step - loss: 0.3753 - accuracy: 0.8973 - iou_metric: 0.4579 - val_loss: 0.3982 - val_accuracy: 0.9023 - val_iou_metric: 0.4314\n",
      "Epoch 5/100\n",
      "686/686 [==============================] - ETA: 0s - loss: 0.3645 - accuracy: 0.9006 - iou_metric: 0.4689INFO:tensorflow:Assets written to: efficient_model_1\\assets\n",
      "686/686 [==============================] - 295s 430ms/step - loss: 0.3645 - accuracy: 0.9006 - iou_metric: 0.4689 - val_loss: 0.3621 - val_accuracy: 0.9021 - val_iou_metric: 0.4764\n",
      "Epoch 6/100\n",
      "686/686 [==============================] - ETA: 0s - loss: 0.3560 - accuracy: 0.9033 - iou_metric: 0.4773INFO:tensorflow:Assets written to: efficient_model_1\\assets\n",
      "686/686 [==============================] - 286s 416ms/step - loss: 0.3560 - accuracy: 0.9033 - iou_metric: 0.4773 - val_loss: 0.3639 - val_accuracy: 0.9036 - val_iou_metric: 0.4772\n",
      "Epoch 7/100\n",
      "686/686 [==============================] - ETA: 0s - loss: 0.3495 - accuracy: 0.9052 - iou_metric: 0.4836INFO:tensorflow:Assets written to: efficient_model_1\\assets\n",
      "686/686 [==============================] - 295s 430ms/step - loss: 0.3495 - accuracy: 0.9052 - iou_metric: 0.4836 - val_loss: 0.3510 - val_accuracy: 0.9063 - val_iou_metric: 0.4823\n",
      "Epoch 8/100\n",
      "686/686 [==============================] - ETA: 0s - loss: 0.3440 - accuracy: 0.9070 - iou_metric: 0.4890INFO:tensorflow:Assets written to: efficient_model_1\\assets\n",
      "686/686 [==============================] - 293s 428ms/step - loss: 0.3440 - accuracy: 0.9070 - iou_metric: 0.4890 - val_loss: 0.3392 - val_accuracy: 0.9092 - val_iou_metric: 0.4989\n",
      "Epoch 9/100\n",
      "686/686 [==============================] - 290s 422ms/step - loss: 0.3391 - accuracy: 0.9084 - iou_metric: 0.4937 - val_loss: 0.3393 - val_accuracy: 0.9108 - val_iou_metric: 0.4986\n",
      "Epoch 10/100\n",
      "686/686 [==============================] - ETA: 0s - loss: 0.3347 - accuracy: 0.9097 - iou_metric: 0.4984INFO:tensorflow:Assets written to: efficient_model_1\\assets\n",
      "686/686 [==============================] - 285s 415ms/step - loss: 0.3347 - accuracy: 0.9097 - iou_metric: 0.4984 - val_loss: 0.3363 - val_accuracy: 0.9091 - val_iou_metric: 0.5003\n",
      "Epoch 11/100\n",
      "686/686 [==============================] - ETA: 0s - loss: 0.3307 - accuracy: 0.9109 - iou_metric: 0.5018INFO:tensorflow:Assets written to: efficient_model_1\\assets\n",
      "686/686 [==============================] - 290s 422ms/step - loss: 0.3307 - accuracy: 0.9109 - iou_metric: 0.5018 - val_loss: 0.3314 - val_accuracy: 0.9131 - val_iou_metric: 0.5038\n",
      "Epoch 12/100\n",
      "686/686 [==============================] - ETA: 0s - loss: 0.3281 - accuracy: 0.9116 - iou_metric: 0.5047INFO:tensorflow:Assets written to: efficient_model_1\\assets\n",
      "686/686 [==============================] - 291s 425ms/step - loss: 0.3281 - accuracy: 0.9116 - iou_metric: 0.5047 - val_loss: 0.3311 - val_accuracy: 0.9101 - val_iou_metric: 0.5075\n",
      "Epoch 13/100\n",
      "686/686 [==============================] - ETA: 0s - loss: 0.3246 - accuracy: 0.9125 - iou_metric: 0.5080INFO:tensorflow:Assets written to: efficient_model_1\\assets\n",
      "686/686 [==============================] - 302s 441ms/step - loss: 0.3246 - accuracy: 0.9125 - iou_metric: 0.5080 - val_loss: 0.3339 - val_accuracy: 0.9060 - val_iou_metric: 0.5081\n",
      "Epoch 14/100\n",
      "686/686 [==============================] - 286s 417ms/step - loss: 0.3221 - accuracy: 0.9134 - iou_metric: 0.5108 - val_loss: 0.3345 - val_accuracy: 0.9130 - val_iou_metric: 0.4974\n",
      "Epoch 15/100\n",
      "686/686 [==============================] - 310s 453ms/step - loss: 0.3193 - accuracy: 0.9141 - iou_metric: 0.5133 - val_loss: 0.3396 - val_accuracy: 0.9140 - val_iou_metric: 0.4984\n",
      "Epoch 16/100\n",
      "686/686 [==============================] - ETA: 0s - loss: 0.3169 - accuracy: 0.9147 - iou_metric: 0.5157INFO:tensorflow:Assets written to: efficient_model_1\\assets\n",
      "686/686 [==============================] - 309s 451ms/step - loss: 0.3169 - accuracy: 0.9147 - iou_metric: 0.5157 - val_loss: 0.3221 - val_accuracy: 0.9134 - val_iou_metric: 0.5184\n",
      "Epoch 17/100\n",
      "686/686 [==============================] - 303s 441ms/step - loss: 0.3148 - accuracy: 0.9154 - iou_metric: 0.5178 - val_loss: 0.3311 - val_accuracy: 0.9129 - val_iou_metric: 0.5063\n",
      "Epoch 18/100\n",
      "686/686 [==============================] - 289s 421ms/step - loss: 0.3124 - accuracy: 0.9160 - iou_metric: 0.5201 - val_loss: 0.3232 - val_accuracy: 0.9137 - val_iou_metric: 0.5159\n",
      "Epoch 19/100\n",
      "686/686 [==============================] - ETA: 0s - loss: 0.3105 - accuracy: 0.9165 - iou_metric: 0.5219INFO:tensorflow:Assets written to: efficient_model_1\\assets\n",
      "686/686 [==============================] - 301s 439ms/step - loss: 0.3105 - accuracy: 0.9165 - iou_metric: 0.5219 - val_loss: 0.3203 - val_accuracy: 0.9137 - val_iou_metric: 0.5224\n",
      "Epoch 20/100\n",
      "686/686 [==============================] - 285s 415ms/step - loss: 0.3089 - accuracy: 0.9170 - iou_metric: 0.5232 - val_loss: 0.3192 - val_accuracy: 0.9128 - val_iou_metric: 0.5190\n",
      "Epoch 21/100\n",
      "686/686 [==============================] - 290s 422ms/step - loss: 0.3066 - accuracy: 0.9177 - iou_metric: 0.5254 - val_loss: 0.3255 - val_accuracy: 0.9172 - val_iou_metric: 0.5095\n",
      "Epoch 22/100\n",
      "686/686 [==============================] - 284s 414ms/step - loss: 0.3042 - accuracy: 0.9182 - iou_metric: 0.5278 - val_loss: 0.3179 - val_accuracy: 0.9147 - val_iou_metric: 0.5210\n",
      "Epoch 23/100\n",
      "686/686 [==============================] - ETA: 0s - loss: 0.3033 - accuracy: 0.9186 - iou_metric: 0.5285INFO:tensorflow:Assets written to: efficient_model_1\\assets\n",
      "686/686 [==============================] - 289s 422ms/step - loss: 0.3033 - accuracy: 0.9186 - iou_metric: 0.5285 - val_loss: 0.3148 - val_accuracy: 0.9140 - val_iou_metric: 0.5250\n",
      "Epoch 24/100\n",
      "686/686 [==============================] - 279s 406ms/step - loss: 0.3016 - accuracy: 0.9190 - iou_metric: 0.5301 - val_loss: 0.3242 - val_accuracy: 0.9155 - val_iou_metric: 0.5089\n",
      "Epoch 25/100\n",
      "450/686 [==================>...........] - ETA: 1:16 - loss: 0.2999 - accuracy: 0.9194 - iou_metric: 0.5313"
     ]
    }
   ],
   "source": [
    "for model_name, model_config in model_configurations.items():\n",
    "    print(model_name, model_config)\n",
    "    tf.keras.backend.clear_session()\n",
    "    if not os.path.exists(model_name):\n",
    "        if model_name.split('_')[0] =='efficient':\n",
    "                    unet_model = unet_factory.EfficientNetUNet(efficientnet=tensorflow.keras.applications.efficientnet.EfficientNetB4,\n",
    "                                            number_of_categories=2,\n",
    "                                            unet_levels=model_config['unet_levels'],\n",
    "                                            number_of_start_kernels=model_config['number_of_start_kernels'],\n",
    "                                            kernel_shape=(3, 3),\n",
    "                                            activation='relu',\n",
    "                                            final_activation='sigmoid',\n",
    "                                            pooling_amount=model_config['pooling_amount'],\n",
    "                                            dropout_rate=0.2, residual=model_config['residual'])\n",
    "        if model_name.split('_')[0] =='attention':\n",
    "            unet_model = unet_factory.BasicUNet(number_of_categories=2,\n",
    "                                            unet_levels=model_config['unet_levels'],\n",
    "                                            number_of_start_kernels=model_config['number_of_start_kernels'],\n",
    "                                            kernel_shape=(3, 3),\n",
    "                                            activation='relu',\n",
    "                                            final_activation='sigmoid',\n",
    "                                            pooling_amount=model_config['pooling_amount'],\n",
    "                                            dropout_rate=0.2, residual=model_config['residual'])\n",
    "        else:\n",
    "            unet_model = unet_factory.BasicUNet(number_of_categories=2,\n",
    "                                            unet_levels=model_config['unet_levels'],\n",
    "                                            number_of_start_kernels=model_config['number_of_start_kernels'],\n",
    "                                            kernel_shape=(3, 3),\n",
    "                                            activation='relu',\n",
    "                                            final_activation='sigmoid',\n",
    "                                            pooling_amount=model_config['pooling_amount'],\n",
    "                                            dropout_rate=0.2, residual=model_config['residual'])\n",
    "\n",
    "    else:\n",
    "        if retrain:\n",
    "            unet_model = tf.keras.models.load_model(model_name, custom_objects={model_config['loss']: losses[model_config['loss']]})\n",
    "    if not os.path.exists(model_name) or retrain:\n",
    "        modelcheckpoint = tf.keras.callbacks.ModelCheckpoint(filepath=model_name, \n",
    "                            monitor='val_iou_metric',\n",
    "                            mode='max',\n",
    "                            save_best_only=True, save_format='tf')\n",
    "        unet_model.compile(optimizer=optimizer, loss=losses[model_config['loss']], metrics=[loss_functions.masked_accuracy(), loss_functions.iou_metric])\n",
    "        history = unet_model.fit(train_data, epochs=100, validation_data=test_data, callbacks=[modelcheckpoint])\n",
    "        history =  pd.DataFrame(history.history)\n",
    "        if os.path.exists(f'{model_name}_history.csv'):\n",
    "            history_old = pd.read_csv(model_name +'_history.csv', index_col=0)\n",
    "            history = pd.concat((history_old , history), axis=0, ignore_index=True)\n",
    "        history.to_csv(f'{model_name}_history.csv')  \n",
    "        break"
   ]
  },
  {
   "cell_type": "code",
   "execution_count": null,
   "id": "2f7b61a5-e5c5-41d0-9a4a-b96be3490e7c",
   "metadata": {},
   "outputs": [],
   "source": [
    "histories = {}\n",
    "count = 0\n",
    "fig, ax = plt.subplots(1, 2, sharex=True, sharey=False, figsize=(10,5))\n",
    "for model_name, model_config in model_configurations.items():\n",
    "    print(model_name)\n",
    "    if os.path.exists(model_name):\n",
    "        history = pd.read_csv(model_name +'_history.csv', index_col=0)\n",
    "        histories[model_name] = history\n",
    "        if np.mean(history['val_loss']) <0.5:    \n",
    "            ax[0].plot(history['val_accuracy'], label=model_name+'_val')\n",
    "            ax[0].set_ylabel('accuracy')\n",
    "            ax[0].plot(history['accuracy'], label=model_name +'_train')\n",
    "            ax[0].set_ylabel('accuracy')\n",
    "            ax[0].set_xlabel('epoch')\n",
    "            ax[1].plot(history['val_loss'])\n",
    "            ax[1].plot(history['loss'])\n",
    "            ax[1].set_ylabel('loss')\n",
    "            ax[1].set_xlabel('epoch')\n",
    "ax[0].legend()\n",
    "plt.show()"
   ]
  },
  {
   "cell_type": "code",
   "execution_count": null,
   "id": "7c7f27dc-a62f-493d-a98d-0934059c95a5",
   "metadata": {},
   "outputs": [],
   "source": [
    "histories['efficient_model_1']"
   ]
  },
  {
   "cell_type": "code",
   "execution_count": null,
   "id": "798299c1-d664-4747-9da3-5bf60f3814ae",
   "metadata": {},
   "outputs": [],
   "source": [
    "X_test = np.array([np.array(PIL.Image.open(im)).astype(float) for im in test_image_dir])"
   ]
  },
  {
   "cell_type": "code",
   "execution_count": null,
   "id": "7dd83d31-1913-43e2-b984-cd6eb60a3e3c",
   "metadata": {},
   "outputs": [],
   "source": [
    "y_test = np.array([\n",
    "            np.load(file_name)\n",
    "               for file_name in test_mask_dir])"
   ]
  },
  {
   "cell_type": "code",
   "execution_count": null,
   "id": "bda246d6-8a6f-42fe-89e6-38b1cf4dbbdd",
   "metadata": {},
   "outputs": [],
   "source": [
    "model_metrics = {}\n",
    "for k, (model_name, model_config) in enumerate(model_configurations.items()):\n",
    "    if os.path.exists(model_name):\n",
    "        model_metrics[model_name] = {'road_iou': {'AOI_2_Vegas': [], 'AOI_3_Paris': [], 'AOI_4_Shanghai' : [], 'AOI_5_Khartoum': []}, \n",
    "                                 'building_iou': {'AOI_2_Vegas': [], 'AOI_3_Paris': [], 'AOI_4_Shanghai' : [], 'AOI_5_Khartoum': []},\n",
    "                                    'road_file': {'AOI_2_Vegas': [], 'AOI_3_Paris': [], 'AOI_4_Shanghai' : [], 'AOI_5_Khartoum': []},\n",
    "                                    'road_index': {'AOI_2_Vegas': [], 'AOI_3_Paris': [], 'AOI_4_Shanghai' : [], 'AOI_5_Khartoum': []},\n",
    "                                    'building_file': {'AOI_2_Vegas': [], 'AOI_3_Paris': [], 'AOI_4_Shanghai' : [], 'AOI_5_Khartoum': []},\n",
    "                                    'building_index': {'AOI_2_Vegas': [], 'AOI_3_Paris': [], 'AOI_4_Shanghai' : [], 'AOI_5_Khartoum': []},\n",
    "                                    }\n",
    "        tf.keras.backend.clear_session()\n",
    "        final_model = tf.keras.models.load_model(model_name, custom_objects={model_config['loss']: losses[model_config['loss']]})\n",
    "        print(model_name, model_config)\n",
    "        y_pred = final_model.predict(X_test/255)\n",
    "        y_pred = np.where(y_pred > 0.5, 1, 0)\n",
    "        for k in range(y_test.shape[0]):\n",
    "            for key in model_metrics[model_name]['road_iou'].keys():\n",
    "                if key in test_mask_dir[k]:\n",
    "                    if np.sum(y_test[k, :, :, 0]) > 0:\n",
    "                        model_metrics[model_name]['road_iou'][key].append(loss_functions.intersection_over_union(y_test[k, :, :, 0], y_pred[k, :, :, 0]))\n",
    "                        model_metrics[model_name]['road_file'][key].append(test_mask_dir[k])\n",
    "                        model_metrics[model_name]['road_index'][key].append(k)\n",
    "                    if np.sum(y_test[k, :, :, 1]) > 0:\n",
    "                        model_metrics[model_name]['building_iou'][key].append(loss_functions.intersection_over_union(y_test[k, :, :, 1], y_pred[k, :, :, 1]))\n",
    "                        model_metrics[model_name]['building_file'][key].append(test_mask_dir[k])\n",
    "                        model_metrics[model_name]['building_index'][key].append(k)"
   ]
  },
  {
   "cell_type": "code",
   "execution_count": null,
   "id": "6a76f443-0c8f-447a-848d-afafcf4919ec",
   "metadata": {},
   "outputs": [],
   "source": [
    "def plot_metrics(model_metrics, model_name):\n",
    "    fig, ax = plt.subplots(1, 4, sharex=True, sharey=True, figsize=(10, 2))\n",
    "    plt.suptitle(f'Road Average IoU per Image ({model_name})')\n",
    "    ax = np.ravel(ax)\n",
    "    all_values = []\n",
    "    for k, key in enumerate(model_metrics[model_name]['road_iou'].keys()):\n",
    "        all_values = np.concatenate((all_values, model_metrics[model_name]['road_iou'][key]))\n",
    "        model_metrics[model_name]['road_iou'][key] = np.array(model_metrics[model_name]['road_iou'][key])\n",
    "        \n",
    "        ax[k].hist(model_metrics[model_name]['road_iou'][key], density=True, alpha=0.5, bins=np.arange(0, 1.05, 0.05), label=key, color=['green', 'red', 'navy', 'purple'][k])\n",
    "        ax[k].legend()\n",
    "        ax[k].set_xlabel('IoU')\n",
    "        ax[k].axvline(np.median(model_metrics[model_name]['road_iou'][key]))\n",
    "    print(np.median(all_values))\n",
    "    ax[0].set_ylabel('Density')\n",
    "    plt.show()\n",
    "    all_values = []\n",
    "    fig, ax = plt.subplots(1, 4, sharex=True, sharey=True, figsize=(10, 2))\n",
    "    fig.suptitle(f'Building Average IoU per Image ({model_name})')\n",
    "    ax = np.ravel(ax)\n",
    "    for k, key in enumerate(model_metrics[model_name]['building_iou'].keys()):\n",
    "        all_values = np.concatenate((all_values, model_metrics[model_name]['building_iou'][key]))\n",
    "        model_metrics[model_name]['building_iou'][key] = np.array(model_metrics[model_name]['building_iou'][key])\n",
    "        ax[k].hist(model_metrics[model_name]['building_iou'][key], density=True, alpha=0.5, bins=np.arange(0, 1.05, 0.05), label=key, color=['green', 'red', 'navy', 'purple'][k])\n",
    "        ax[k].legend()\n",
    "        ax[k].set_xlabel('IoU')\n",
    "        ax[k].axvline(np.median(model_metrics[model_name]['building_iou'][key]))\n",
    "    print(np.median(all_values))\n",
    "    ax[0].set_ylabel('Density')\n",
    "    plt.show()"
   ]
  },
  {
   "cell_type": "code",
   "execution_count": null,
   "id": "3475ab2a-4c1f-4c33-aaa0-7e420c592bba",
   "metadata": {},
   "outputs": [],
   "source": [
    "for model_name in model_configurations.keys():\n",
    "    if os.path.exists(model_name):\n",
    "        if np.mean(histories[model_name]['val_loss']) < 0.5:\n",
    "            print(model_name, model_configurations[model_name])\n",
    "            plot_metrics(model_metrics, model_name)"
   ]
  },
  {
   "cell_type": "code",
   "execution_count": null,
   "id": "36f01b42-ba67-4b36-a0d4-70bf67b6c1fd",
   "metadata": {},
   "outputs": [],
   "source": [
    "from matplotlib.colors import ListedColormap\n",
    "from matplotlib.patches import Patch\n",
    "\n",
    "def plot_result(X_test, y_test, model_name, display_prob, index=0):\n",
    "        final_model = tf.keras.models.load_model(model_name, custom_objects={model_config['loss']: losses[model_config['loss']]})\n",
    "        y_pred = final_model.predict(X_test)\n",
    "        if not display_prob:\n",
    "            y_pred = np.where(y_pred > 0.5, 1, 0)\n",
    "        fig, ax = plt.subplots(2, 3, figsize=(15, 8), sharex=True, sharey=True)\n",
    "        ax[1, 0].set_title('Image')\n",
    "        ax[1, 0].imshow(X_test_batch[index, :, :])\n",
    "        ax[0, 0].set_title('Labels')\n",
    "        ax[0, 0].imshow(y_test[index, :, :, 0] * 10 + y_test[index, :, :, 1] * 20, cmap = ListedColormap(['navy','green','purple']))\n",
    "        ax[0, 0].legend(handles=[Patch(facecolor='navy', edgecolor='navy',\n",
    "                         label='Background'), Patch(facecolor='green', edgecolor='green',\n",
    "                         label='Road Network'), Patch(facecolor='purple', edgecolor='purple',\n",
    "                         label='Building')], loc=\"best\", bbox_to_anchor=(1.05, 1))\n",
    "        ax[1, 1].set_title('True Road Network')\n",
    "        ax[1, 1].imshow(y_test[index, :, :, 0], vmin = 0, vmax=1)\n",
    "        ax[1, 2].set_title('True Building Footprint')\n",
    "        ax[1, 2].imshow(y_test[index, :, :, 1], vmin = 0, vmax=1)\n",
    "        ax[0, 1].set_title('Predicted Road Network')\n",
    "        ax[0, 1].imshow(y_pred[index, :, :, 0], vmin = 0, vmax=1)\n",
    "        ax[0, 2].set_title('Predicted Building Footprint')\n",
    "        ax[0, 2].imshow(y_pred[index, :, :, 1], vmin = 0, vmax=1)"
   ]
  },
  {
   "cell_type": "code",
   "execution_count": null,
   "id": "36bcaa19-ecfd-45fd-a626-67faadbf5cb2",
   "metadata": {},
   "outputs": [],
   "source": [
    "model_name ='efficient_model_1'\n",
    "areas_of_interest = model_metrics[model_name]['building_index'].keys()\n",
    "best_building_index = [model_metrics[model_name]['building_index'][k][np.argmax(model_metrics[model_name]['building_iou'][k])] for k in areas_of_interest]\n",
    "best_road_index = [model_metrics[model_name]['road_index'][k][np.argmax(model_metrics[model_name]['road_iou'][k])] for k in areas_of_interest]\n",
    "median_building_index = [model_metrics[model_name]['building_index'][k][np.argmin(np.median(np.abs(model_metrics[model_name]['building_iou'][k]) - model_metrics[model_name]['building_iou'][k]))] for k in areas_of_interest]\n",
    "median_road_index = [model_metrics[model_name]['road_index'][k][np.argmin(np.median(np.abs(model_metrics[model_name]['road_iou'][k]) - model_metrics[model_name]['road_iou'][k]))] for k in areas_of_interest]"
   ]
  },
  {
   "cell_type": "code",
   "execution_count": null,
   "id": "83ae9819-72e3-402f-a5a3-5974cc0d697f",
   "metadata": {},
   "outputs": [],
   "source": [
    "k= best_building_index[0]\n",
    "\n",
    "batch = math.floor(k / test_data.batch_size) \n",
    "index = k - batch * test_data.batch_size\n",
    "print(test_data.x[k])\n",
    "print(test_data.y[k])\n",
    "X_test_batch, y_test_batch = test_data.__getitem__(batch)\n",
    "plt.figure(figsize=(5, 5))\n",
    "plt.imshow(X_test_batch[index, :, :])\n",
    "for model_name, model_config in model_configurations.items():\n",
    "    print(model_config)\n",
    "    if os.path.exists(model_name):\n",
    "        plot_result(X_test_batch, y_test_batch, model_name=model_name, display_prob=False, index=index)\n",
    "        plt.show()"
   ]
  },
  {
   "cell_type": "code",
   "execution_count": null,
   "id": "1d257d8c-efc3-41d3-9d4a-8d80ca0fdaaf",
   "metadata": {},
   "outputs": [],
   "source": [
    "k= best_road_index[0]\n",
    "\n",
    "batch = math.floor(k / test_data.batch_size) \n",
    "index = k - batch * test_data.batch_size\n",
    "print(test_data.x[k])\n",
    "print(test_data.y[k])\n",
    "X_test_batch, y_test_batch = test_data.__getitem__(batch)\n",
    "plt.figure(figsize=(5, 5))\n",
    "plt.imshow(X_test_batch[index, :, :])\n",
    "for model_name, model_config in model_configurations.items():\n",
    "    print(model_config)\n",
    "    if os.path.exists(model_name):\n",
    "        plot_result(X_test_batch, y_test_batch, model_name=model_name, display_prob=False, index=index)\n",
    "        plt.show()"
   ]
  },
  {
   "cell_type": "code",
   "execution_count": null,
   "id": "942c0dcb-1dd6-45b7-9366-23521e2108ed",
   "metadata": {},
   "outputs": [],
   "source": []
  }
 ],
 "metadata": {
  "kernelspec": {
   "display_name": "Python [conda env:tensorflow]",
   "language": "python",
   "name": "conda-env-tensorflow-py"
  },
  "language_info": {
   "codemirror_mode": {
    "name": "ipython",
    "version": 3
   },
   "file_extension": ".py",
   "mimetype": "text/x-python",
   "name": "python",
   "nbconvert_exporter": "python",
   "pygments_lexer": "ipython3",
   "version": "3.8.12"
  }
 },
 "nbformat": 4,
 "nbformat_minor": 5
}
